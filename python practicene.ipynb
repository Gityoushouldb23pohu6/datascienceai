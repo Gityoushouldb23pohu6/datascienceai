{
 "cells": [
  {
   "cell_type": "code",
   "execution_count": 1,
   "id": "ea37d6b5-5713-46cf-a4d5-702a62073f43",
   "metadata": {},
   "outputs": [
    {
     "name": "stdout",
     "output_type": "stream",
     "text": [
      "<class 'dict'>\n"
     ]
    }
   ],
   "source": [
    "print(type({'name':'arnav'}))"
   ]
  },
  {
   "cell_type": "code",
   "execution_count": 2,
   "id": "7cf99ba3-37e5-41d6-b076-af569118d474",
   "metadata": {},
   "outputs": [
    {
     "name": "stdout",
     "output_type": "stream",
     "text": [
      "<class 'set'>\n"
     ]
    }
   ],
   "source": [
    "print(type({1,2,3}))"
   ]
  },
  {
   "cell_type": "code",
   "execution_count": 3,
   "id": "c52b90dd-14eb-4695-b926-6fbfc9c2b30e",
   "metadata": {},
   "outputs": [
    {
     "name": "stdout",
     "output_type": "stream",
     "text": [
      "<class 'tuple'>\n"
     ]
    }
   ],
   "source": [
    "print(type((7,8,9)))"
   ]
  },
  {
   "cell_type": "code",
   "execution_count": 5,
   "id": "cac22de6-35ff-4295-a859-43fd827fae43",
   "metadata": {},
   "outputs": [
    {
     "name": "stdout",
     "output_type": "stream",
     "text": [
      "<class 'list'>\n"
     ]
    }
   ],
   "source": [
    "print(type([1,5,5]))"
   ]
  },
  {
   "cell_type": "code",
   "execution_count": 7,
   "id": "ed31410c-ea84-4521-8ed8-18c2a1e50623",
   "metadata": {},
   "outputs": [
    {
     "name": "stdout",
     "output_type": "stream",
     "text": [
      "<class 'bool'>\n"
     ]
    }
   ],
   "source": [
    "print(type(3==3))"
   ]
  },
  {
   "cell_type": "code",
   "execution_count": 8,
   "id": "a4dd1f35-1b7c-4f10-b90c-9793286396a9",
   "metadata": {},
   "outputs": [
    {
     "name": "stdout",
     "output_type": "stream",
     "text": [
      "<class 'bool'>\n"
     ]
    }
   ],
   "source": [
    "print(type(4<=8))"
   ]
  },
  {
   "cell_type": "code",
   "execution_count": 9,
   "id": "a106eb7d-df23-4512-bdeb-273dfbe2ab33",
   "metadata": {},
   "outputs": [],
   "source": [
    "s1='nareshit'"
   ]
  },
  {
   "cell_type": "code",
   "execution_count": 10,
   "id": "5c79bf21-36d7-40c5-81e0-2232dd478f2e",
   "metadata": {},
   "outputs": [
    {
     "data": {
      "text/plain": [
       "'nareshit'"
      ]
     },
     "execution_count": 10,
     "metadata": {},
     "output_type": "execute_result"
    }
   ],
   "source": [
    "s1\n"
   ]
  },
  {
   "cell_type": "code",
   "execution_count": 11,
   "id": "24eceb1c-223b-48c1-bbd4-51131af4bd73",
   "metadata": {},
   "outputs": [
    {
     "ename": "SyntaxError",
     "evalue": "unterminated string literal (detected at line 1) (3965209176.py, line 1)",
     "output_type": "error",
     "traceback": [
      "\u001b[1;36m  Cell \u001b[1;32mIn[11], line 1\u001b[1;36m\u001b[0m\n\u001b[1;33m    s2=\"naresh\u001b[0m\n\u001b[1;37m       ^\u001b[0m\n\u001b[1;31mSyntaxError\u001b[0m\u001b[1;31m:\u001b[0m unterminated string literal (detected at line 1)\n"
     ]
    }
   ],
   "source": [
    "s2=\"naresh\n",
    "it\""
   ]
  },
  {
   "cell_type": "code",
   "execution_count": 21,
   "id": "816a85bc-62d1-4978-a313-63a704691294",
   "metadata": {},
   "outputs": [],
   "source": [
    "s3='''naresh\n",
    "    it'''"
   ]
  },
  {
   "cell_type": "code",
   "execution_count": 22,
   "id": "f5087646-3893-473e-b2d1-66707ebc480f",
   "metadata": {},
   "outputs": [
    {
     "data": {
      "text/plain": [
       "'naresh\\n    it'"
      ]
     },
     "execution_count": 22,
     "metadata": {},
     "output_type": "execute_result"
    }
   ],
   "source": [
    "s3\n",
    "\n"
   ]
  },
  {
   "cell_type": "code",
   "execution_count": 24,
   "id": "2e431f11-3752-433c-9200-784b7d167255",
   "metadata": {},
   "outputs": [
    {
     "name": "stdout",
     "output_type": "stream",
     "text": [
      "n\n"
     ]
    }
   ],
   "source": [
    "print(s3[0])"
   ]
  },
  {
   "cell_type": "code",
   "execution_count": 25,
   "id": "803b890e-d32d-42c4-b469-0a8e49a62c8e",
   "metadata": {},
   "outputs": [
    {
     "name": "stdout",
     "output_type": "stream",
     "text": [
      "t\n"
     ]
    }
   ],
   "source": [
    "print(s1[-1])"
   ]
  },
  {
   "cell_type": "code",
   "execution_count": 26,
   "id": "f0fd32c0-ad61-480e-ae20-85569210945b",
   "metadata": {},
   "outputs": [
    {
     "name": "stdout",
     "output_type": "stream",
     "text": [
      "naresh\n",
      "    it\n"
     ]
    }
   ],
   "source": [
    "print(s3[:])"
   ]
  },
  {
   "cell_type": "code",
   "execution_count": 27,
   "id": "780f9d3c-f100-44ad-8fe2-a5bec2ff1524",
   "metadata": {},
   "outputs": [
    {
     "name": "stdout",
     "output_type": "stream",
     "text": [
      "re\n"
     ]
    }
   ],
   "source": [
    "print(s3[2:4])"
   ]
  },
  {
   "cell_type": "code",
   "execution_count": 28,
   "id": "5ebeb2a1-bf50-4d8c-8e2c-1e14f4584063",
   "metadata": {},
   "outputs": [
    {
     "data": {
      "text/plain": [
       "(10+2j)"
      ]
     },
     "execution_count": 28,
     "metadata": {},
     "output_type": "execute_result"
    }
   ],
   "source": [
    "c1=10+2j\n",
    "c1"
   ]
  },
  {
   "cell_type": "code",
   "execution_count": 29,
   "id": "e6d580a3-e7e5-4a60-9fd6-1e2d86704659",
   "metadata": {},
   "outputs": [
    {
     "data": {
      "text/plain": [
       "complex"
      ]
     },
     "execution_count": 29,
     "metadata": {},
     "output_type": "execute_result"
    }
   ],
   "source": [
    "type(c1)"
   ]
  },
  {
   "cell_type": "code",
   "execution_count": 30,
   "id": "b0bf05b9-608e-455a-a9b9-6c25252c5861",
   "metadata": {},
   "outputs": [
    {
     "data": {
      "text/plain": [
       "10.0"
      ]
     },
     "execution_count": 30,
     "metadata": {},
     "output_type": "execute_result"
    }
   ],
   "source": [
    "c1.real"
   ]
  },
  {
   "cell_type": "code",
   "execution_count": 35,
   "id": "41565693-84c3-4f8d-822f-c7c0f4d6e5c5",
   "metadata": {},
   "outputs": [
    {
     "data": {
      "text/plain": [
       "(3+5j)"
      ]
     },
     "execution_count": 35,
     "metadata": {},
     "output_type": "execute_result"
    }
   ],
   "source": [
    "c2=3+5J\n",
    "c2"
   ]
  },
  {
   "cell_type": "code",
   "execution_count": 36,
   "id": "7da8cdce-950c-4215-a34b-a64d0edb6999",
   "metadata": {},
   "outputs": [
    {
     "data": {
      "text/plain": [
       "5.0"
      ]
     },
     "execution_count": 36,
     "metadata": {},
     "output_type": "execute_result"
    }
   ],
   "source": [
    "c2.imag"
   ]
  },
  {
   "cell_type": "code",
   "execution_count": 37,
   "id": "1e5d66bc-0c00-437b-a862-bbda60f65609",
   "metadata": {},
   "outputs": [
    {
     "data": {
      "text/plain": [
       "(6+10j)"
      ]
     },
     "execution_count": 37,
     "metadata": {},
     "output_type": "execute_result"
    }
   ],
   "source": [
    "c1+c2"
   ]
  },
  {
   "cell_type": "code",
   "execution_count": 38,
   "id": "3a6efab3-ac6f-4580-a394-d525b93e05fe",
   "metadata": {},
   "outputs": [
    {
     "ename": "ValueError",
     "evalue": "invalid literal for int() with base 10: 'nit'",
     "output_type": "error",
     "traceback": [
      "\u001b[1;31m---------------------------------------------------------------------------\u001b[0m",
      "\u001b[1;31mValueError\u001b[0m                                Traceback (most recent call last)",
      "Cell \u001b[1;32mIn[38], line 1\u001b[0m\n\u001b[1;32m----> 1\u001b[0m \u001b[38;5;28mint\u001b[39m (\u001b[38;5;124m'\u001b[39m\u001b[38;5;124mnit\u001b[39m\u001b[38;5;124m'\u001b[39m)\n",
      "\u001b[1;31mValueError\u001b[0m: invalid literal for int() with base 10: 'nit'"
     ]
    }
   ],
   "source": [
    "int ('nit')"
   ]
  },
  {
   "cell_type": "code",
   "execution_count": 39,
   "id": "a79ceacf-110c-4ab0-a663-c9ab47f8d05b",
   "metadata": {},
   "outputs": [
    {
     "data": {
      "text/plain": [
       "3"
      ]
     },
     "execution_count": 39,
     "metadata": {},
     "output_type": "execute_result"
    }
   ],
   "source": [
    "int(3.4)"
   ]
  },
  {
   "cell_type": "code",
   "execution_count": 40,
   "id": "3a38c724-8778-492b-8809-137e1926ece2",
   "metadata": {},
   "outputs": [
    {
     "data": {
      "text/plain": [
       "10"
      ]
     },
     "execution_count": 40,
     "metadata": {},
     "output_type": "execute_result"
    }
   ],
   "source": [
    "int('10')"
   ]
  },
  {
   "cell_type": "code",
   "execution_count": 41,
   "id": "7c5d3f2d-0def-429d-b639-b7db8c22b2b5",
   "metadata": {},
   "outputs": [
    {
     "ename": "TypeError",
     "evalue": "int() argument must be a string, a bytes-like object or a real number, not 'complex'",
     "output_type": "error",
     "traceback": [
      "\u001b[1;31m---------------------------------------------------------------------------\u001b[0m",
      "\u001b[1;31mTypeError\u001b[0m                                 Traceback (most recent call last)",
      "Cell \u001b[1;32mIn[41], line 1\u001b[0m\n\u001b[1;32m----> 1\u001b[0m \u001b[38;5;28mint\u001b[39m(\u001b[38;5;241m1\u001b[39m\u001b[38;5;241m+\u001b[39m\u001b[38;5;241m2\u001b[39mj)\n",
      "\u001b[1;31mTypeError\u001b[0m: int() argument must be a string, a bytes-like object or a real number, not 'complex'"
     ]
    }
   ],
   "source": [
    "int(1+2j)"
   ]
  },
  {
   "cell_type": "code",
   "execution_count": 42,
   "id": "6fc05b14-db32-48cb-b0b4-7678eb4d4fb5",
   "metadata": {},
   "outputs": [
    {
     "data": {
      "text/plain": [
       "5"
      ]
     },
     "execution_count": 42,
     "metadata": {},
     "output_type": "execute_result"
    }
   ],
   "source": [
    "int(5)"
   ]
  },
  {
   "cell_type": "code",
   "execution_count": 43,
   "id": "d29c4a65-5d76-4f71-a212-89ee543191c5",
   "metadata": {},
   "outputs": [
    {
     "ename": "TypeError",
     "evalue": "int() can't convert non-string with explicit base",
     "output_type": "error",
     "traceback": [
      "\u001b[1;31m---------------------------------------------------------------------------\u001b[0m",
      "\u001b[1;31mTypeError\u001b[0m                                 Traceback (most recent call last)",
      "Cell \u001b[1;32mIn[43], line 1\u001b[0m\n\u001b[1;32m----> 1\u001b[0m \u001b[38;5;28mint\u001b[39m(\u001b[38;5;241m5\u001b[39m,\u001b[38;5;241m6\u001b[39m)\n",
      "\u001b[1;31mTypeError\u001b[0m: int() can't convert non-string with explicit base"
     ]
    }
   ],
   "source": [
    "int(5,6)"
   ]
  },
  {
   "cell_type": "code",
   "execution_count": 44,
   "id": "dd20d1d3-b175-40a9-8697-3de158784a55",
   "metadata": {},
   "outputs": [
    {
     "data": {
      "text/plain": [
       "1"
      ]
     },
     "execution_count": 44,
     "metadata": {},
     "output_type": "execute_result"
    }
   ],
   "source": [
    "int(True)"
   ]
  },
  {
   "cell_type": "code",
   "execution_count": 46,
   "id": "1df05a99-7df9-4db5-a3c2-15812b0356b3",
   "metadata": {},
   "outputs": [
    {
     "name": "stdout",
     "output_type": "stream",
     "text": [
      "2\n"
     ]
    }
   ],
   "source": [
    "print(True*2)"
   ]
  },
  {
   "cell_type": "code",
   "execution_count": 47,
   "id": "f1c90517-0f65-4926-b0ac-2130600727b7",
   "metadata": {},
   "outputs": [],
   "source": [
    "c=6+7j"
   ]
  },
  {
   "cell_type": "code",
   "execution_count": 48,
   "id": "a259e564-2a10-4a68-89db-bd1946900d5e",
   "metadata": {},
   "outputs": [
    {
     "name": "stdout",
     "output_type": "stream",
     "text": [
      "9.219544457292887\n"
     ]
    }
   ],
   "source": [
    "print(abs(c))"
   ]
  },
  {
   "cell_type": "code",
   "execution_count": 54,
   "id": "48afecb5-18d1-4c17-93e5-0ba1de7915fe",
   "metadata": {},
   "outputs": [
    {
     "ename": "NameError",
     "evalue": "name 'conj_c' is not defined",
     "output_type": "error",
     "traceback": [
      "\u001b[1;31m---------------------------------------------------------------------------\u001b[0m",
      "\u001b[1;31mNameError\u001b[0m                                 Traceback (most recent call last)",
      "Cell \u001b[1;32mIn[54], line 1\u001b[0m\n\u001b[1;32m----> 1\u001b[0m \u001b[38;5;28mprint\u001b[39m(conj_c)\n",
      "\u001b[1;31mNameError\u001b[0m: name 'conj_c' is not defined"
     ]
    }
   ],
   "source": [
    "print(conj_c)"
   ]
  },
  {
   "cell_type": "code",
   "execution_count": 55,
   "id": "0bf9a374-51b1-47d1-b3da-fa6d5bb6a1f8",
   "metadata": {},
   "outputs": [],
   "source": [
    "intvar,fltvar,strvar=4,5.5,'non'"
   ]
  },
  {
   "cell_type": "code",
   "execution_count": 56,
   "id": "e1476d26-d3ee-4b29-8719-d9a7ddd07fba",
   "metadata": {},
   "outputs": [
    {
     "name": "stdout",
     "output_type": "stream",
     "text": [
      "4\n"
     ]
    }
   ],
   "source": [
    "print(intvar)"
   ]
  },
  {
   "cell_type": "code",
   "execution_count": 57,
   "id": "88a06b47-251a-4b96-b0c3-69c41a313629",
   "metadata": {},
   "outputs": [
    {
     "name": "stdout",
     "output_type": "stream",
     "text": [
      "non\n"
     ]
    }
   ],
   "source": [
    "print(strvar)"
   ]
  },
  {
   "cell_type": "code",
   "execution_count": 58,
   "id": "397b2143-5bce-41cf-b179-ec46bf2ee80a",
   "metadata": {},
   "outputs": [
    {
     "name": "stdout",
     "output_type": "stream",
     "text": [
      "5.5\n"
     ]
    }
   ],
   "source": [
    "print(fltvar)"
   ]
  },
  {
   "cell_type": "code",
   "execution_count": 59,
   "id": "925e0bd5-5ae4-47c9-8c7e-e9be6b42b439",
   "metadata": {},
   "outputs": [],
   "source": [
    "p1=p2=p3=4"
   ]
  },
  {
   "cell_type": "code",
   "execution_count": 60,
   "id": "eea70313-44aa-4966-b135-51fad31ac73e",
   "metadata": {},
   "outputs": [
    {
     "name": "stdout",
     "output_type": "stream",
     "text": [
      "4\n"
     ]
    }
   ],
   "source": [
    "print(p1)"
   ]
  },
  {
   "cell_type": "code",
   "execution_count": 61,
   "id": "fbcf7ce1-e3ec-4e52-81c2-3a0e4d2f6e5f",
   "metadata": {},
   "outputs": [
    {
     "name": "stdout",
     "output_type": "stream",
     "text": [
      "4\n"
     ]
    }
   ],
   "source": [
    "print(p2)"
   ]
  },
  {
   "cell_type": "code",
   "execution_count": 64,
   "id": "d28f12f9-c13b-4a95-967d-a850cd0a8c82",
   "metadata": {},
   "outputs": [],
   "source": [
    "multilinestring=\"\"\"the gauss jaobimethod is a very nice \n",
    "                   method to solve any \n",
    "                   linear equations\"\"\""
   ]
  },
  {
   "cell_type": "code",
   "execution_count": 65,
   "id": "5f3defe7-fbab-48b7-b7cd-ef1cae88391f",
   "metadata": {},
   "outputs": [
    {
     "name": "stdout",
     "output_type": "stream",
     "text": [
      "the gauss jaobimethod is a very nice \n",
      "                   method to solve any \n",
      "                   linear equations\n"
     ]
    }
   ],
   "source": [
    "print(multilinestring\n",
    "    )"
   ]
  },
  {
   "cell_type": "code",
   "execution_count": 68,
   "id": "010dc8ba-e2e4-44df-8bd5-f18d32ca6c9d",
   "metadata": {},
   "outputs": [
    {
     "data": {
      "text/plain": [
       "(56, 140715345457304, '0x7ffad82e3098')"
      ]
     },
     "execution_count": 68,
     "metadata": {},
     "output_type": "execute_result"
    }
   ],
   "source": [
    "q=56\n",
    "q,id(q),hex(id(q))"
   ]
  },
  {
   "cell_type": "code",
   "execution_count": 69,
   "id": "a40373ba-e14a-456c-89e6-6241506dabcd",
   "metadata": {},
   "outputs": [],
   "source": [
    "r=q"
   ]
  },
  {
   "cell_type": "code",
   "execution_count": 70,
   "id": "1f2720f7-ecde-4e9f-8e17-857bb7c8ca5e",
   "metadata": {},
   "outputs": [
    {
     "data": {
      "text/plain": [
       "(56, 140715345457304, '0x7ffad82e3098')"
      ]
     },
     "execution_count": 70,
     "metadata": {},
     "output_type": "execute_result"
    }
   ],
   "source": [
    "r,id(r),hex(id(r))"
   ]
  },
  {
   "cell_type": "code",
   "execution_count": 71,
   "id": "5322a3c5-3951-47a8-8577-cac809352be6",
   "metadata": {},
   "outputs": [],
   "source": [
    "r+=10"
   ]
  },
  {
   "cell_type": "code",
   "execution_count": 72,
   "id": "84536620-8090-49c0-a218-aa60050a792b",
   "metadata": {},
   "outputs": [
    {
     "data": {
      "text/plain": [
       "66"
      ]
     },
     "execution_count": 72,
     "metadata": {},
     "output_type": "execute_result"
    }
   ],
   "source": [
    "r"
   ]
  },
  {
   "cell_type": "code",
   "execution_count": 73,
   "id": "ad5bb850-28d3-4d32-b671-669eff1e5abb",
   "metadata": {},
   "outputs": [
    {
     "data": {
      "text/plain": [
       "(66, 140715345457624, '0x7ffad82e31d8')"
      ]
     },
     "execution_count": 73,
     "metadata": {},
     "output_type": "execute_result"
    }
   ],
   "source": [
    "r,id(r),hex(id(r))"
   ]
  },
  {
   "cell_type": "code",
   "execution_count": 76,
   "id": "2d7aa193-472c-4a6a-9395-b693fba5e495",
   "metadata": {},
   "outputs": [
    {
     "ename": "NameError",
     "evalue": "name 'sys' is not defined",
     "output_type": "error",
     "traceback": [
      "\u001b[1;31m---------------------------------------------------------------------------\u001b[0m",
      "\u001b[1;31mNameError\u001b[0m                                 Traceback (most recent call last)",
      "Cell \u001b[1;32mIn[76], line 1\u001b[0m\n\u001b[1;32m----> 1\u001b[0m sys\u001b[38;5;241m.\u001b[39mgetsizeof(\u001b[38;5;28mint\u001b[39m())\n",
      "\u001b[1;31mNameError\u001b[0m: name 'sys' is not defined"
     ]
    }
   ],
   "source": [
    "sys.getsizeof(int())"
   ]
  },
  {
   "cell_type": "code",
   "execution_count": 78,
   "id": "dff27b64-e7b4-42f5-be4b-9fead3b5563f",
   "metadata": {},
   "outputs": [
    {
     "data": {
      "text/plain": [
       "False"
      ]
     },
     "execution_count": 78,
     "metadata": {},
     "output_type": "execute_result"
    }
   ],
   "source": [
    "bool(False)"
   ]
  },
  {
   "cell_type": "code",
   "execution_count": 79,
   "id": "402ddd4c-cb78-4068-97f8-f4eaa7dbaee9",
   "metadata": {},
   "outputs": [],
   "source": [
    "a=9\n",
    "b=10"
   ]
  },
  {
   "cell_type": "code",
   "execution_count": 80,
   "id": "33073138-06f1-4c27-a5e1-f9c3840d5f3a",
   "metadata": {},
   "outputs": [
    {
     "name": "stdout",
     "output_type": "stream",
     "text": [
      "0\n",
      "-1\n",
      "3486784401\n",
      "1.1111111111111112\n",
      "90\n"
     ]
    }
   ],
   "source": [
    "print(a//b)\n",
    "print(a-b)\n",
    "print(a**b)\n",
    "print(b/a)\n",
    "print(a*b)"
   ]
  },
  {
   "cell_type": "code",
   "execution_count": 81,
   "id": "ff410d20-41cb-425a-962a-a42d9ed8e87e",
   "metadata": {},
   "outputs": [
    {
     "data": {
      "text/plain": [
       "1"
      ]
     },
     "execution_count": 81,
     "metadata": {},
     "output_type": "execute_result"
    }
   ],
   "source": [
    "b//a"
   ]
  },
  {
   "cell_type": "code",
   "execution_count": 82,
   "id": "a277ff0c-9c08-442c-9cb1-062e1af7669c",
   "metadata": {},
   "outputs": [
    {
     "data": {
      "text/plain": [
       "(1+17j)"
      ]
     },
     "execution_count": 82,
     "metadata": {},
     "output_type": "execute_result"
    }
   ],
   "source": [
    "(1+2j)*(7+3J)"
   ]
  },
  {
   "cell_type": "code",
   "execution_count": 83,
   "id": "b557d37a-337f-4b0a-a7eb-4f3b227c56e9",
   "metadata": {},
   "outputs": [],
   "source": [
    "radius=10\n",
    "area_of_circle=3.14*radius**2"
   ]
  },
  {
   "cell_type": "code",
   "execution_count": 84,
   "id": "30141ba1-ec8b-4c38-ae38-cd8275a3c0ad",
   "metadata": {},
   "outputs": [
    {
     "name": "stdout",
     "output_type": "stream",
     "text": [
      "area of the circle: 314.0\n"
     ]
    }
   ],
   "source": [
    "print('area of the circle:',area_of_circle)"
   ]
  },
  {
   "cell_type": "code",
   "execution_count": 85,
   "id": "91a7ba67-cdc1-471a-ae56-ed4390f69b21",
   "metadata": {},
   "outputs": [
    {
     "name": "stdout",
     "output_type": "stream",
     "text": [
      "total= 289\n"
     ]
    }
   ],
   "source": [
    "x=90\n",
    "y=199\n",
    "total=x+y\n",
    "print('total=',total)\n"
   ]
  },
  {
   "cell_type": "code",
   "execution_count": 86,
   "id": "72a97f54-bcef-4d54-8e17-b43e1b58a8aa",
   "metadata": {},
   "outputs": [
    {
     "name": "stdout",
     "output_type": "stream",
     "text": [
      "weight= 685.719\n"
     ]
    }
   ],
   "source": [
    "mass=69.9\n",
    "gravity=9.81\n",
    "weight=mass*gravity\n",
    "print('weight=',weight)"
   ]
  },
  {
   "cell_type": "code",
   "execution_count": 87,
   "id": "76eb9edd-4fdf-430b-b59c-baf14a1f2135",
   "metadata": {},
   "outputs": [
    {
     "name": "stdout",
     "output_type": "stream",
     "text": [
      "True\n"
     ]
    }
   ],
   "source": [
    "print(8>0)"
   ]
  },
  {
   "cell_type": "code",
   "execution_count": 88,
   "id": "7d290c52-8b33-440d-8c4f-fba6839321cf",
   "metadata": {},
   "outputs": [
    {
     "name": "stdout",
     "output_type": "stream",
     "text": [
      "True\n"
     ]
    }
   ],
   "source": [
    "print(9<=10)"
   ]
  },
  {
   "cell_type": "code",
   "execution_count": 89,
   "id": "e2510b4f-8bc8-4913-9a0d-5b52550eff72",
   "metadata": {},
   "outputs": [
    {
     "name": "stdout",
     "output_type": "stream",
     "text": [
      "False\n"
     ]
    }
   ],
   "source": [
    "print(40==23)"
   ]
  },
  {
   "cell_type": "code",
   "execution_count": 90,
   "id": "53001cfc-6b83-49fb-af6c-d70c181b9533",
   "metadata": {},
   "outputs": [
    {
     "name": "stdout",
     "output_type": "stream",
     "text": [
      "True\n"
     ]
    }
   ],
   "source": [
    "print(78!=0)"
   ]
  },
  {
   "cell_type": "code",
   "execution_count": 91,
   "id": "2bedabd0-c540-49bb-8eb1-fae6defb9409",
   "metadata": {},
   "outputs": [
    {
     "name": "stdout",
     "output_type": "stream",
     "text": [
      "True\n"
     ]
    }
   ],
   "source": [
    "print(67>=10)"
   ]
  },
  {
   "cell_type": "code",
   "execution_count": 93,
   "id": "2f8d3564-f643-4810-ad6d-845dff49f8bc",
   "metadata": {},
   "outputs": [
    {
     "name": "stdout",
     "output_type": "stream",
     "text": [
      "additioin: 3\n",
      "division without remainder: 2\n",
      "power: 8\n"
     ]
    }
   ],
   "source": [
    "print('additioin:',1+2)\n",
    "print('division without remainder:',23//8)\n",
    "print('power:',2**3)"
   ]
  },
  {
   "cell_type": "code",
   "execution_count": 95,
   "id": "60dc6fc1-7c42-4fa4-892d-81f15560e0d7",
   "metadata": {},
   "outputs": [
    {
     "name": "stdout",
     "output_type": "stream",
     "text": [
      "False\n",
      "True\n"
     ]
    }
   ],
   "source": [
    "print(len('mango')==len('avocado'))\n",
    "print(len('milk')==len('farm'))"
   ]
  },
  {
   "cell_type": "code",
   "execution_count": 96,
   "id": "4748f776-1d2a-4319-8ea0-39259cdaa954",
   "metadata": {},
   "outputs": [
    {
     "name": "stdout",
     "output_type": "stream",
     "text": [
      "True\n",
      "False\n"
     ]
    }
   ],
   "source": [
    "print(len('mango')!=len('avocado'))\n",
    "print(len('milk')!=len('farm'))"
   ]
  },
  {
   "cell_type": "code",
   "execution_count": 97,
   "id": "0e2f3117-d144-4c2a-afd1-bfdf1b8acb3d",
   "metadata": {},
   "outputs": [
    {
     "name": "stdout",
     "output_type": "stream",
     "text": [
      "False\n"
     ]
    }
   ],
   "source": [
    "print(len('mango')>len('avocado'))"
   ]
  },
  {
   "cell_type": "code",
   "execution_count": 99,
   "id": "423d8e43-07b9-4bbc-8613-a6b7a4f524ac",
   "metadata": {},
   "outputs": [
    {
     "name": "stdout",
     "output_type": "stream",
     "text": [
      "True\n"
     ]
    }
   ],
   "source": [
    "print(len('python')>=len('dragon'))"
   ]
  },
  {
   "cell_type": "code",
   "execution_count": 100,
   "id": "b5f04328-5cb0-4c89-8e36-22448adb5bd7",
   "metadata": {},
   "outputs": [
    {
     "name": "stdout",
     "output_type": "stream",
     "text": [
      "3\n"
     ]
    }
   ],
   "source": [
    "print(1+2)"
   ]
  },
  {
   "cell_type": "code",
   "execution_count": 102,
   "id": "38f18693-f906-4a24-9e0e-b7da8b3e4edc",
   "metadata": {},
   "outputs": [
    {
     "name": "stdout",
     "output_type": "stream",
     "text": [
      "False\n"
     ]
    }
   ],
   "source": [
    "print(True==False)"
   ]
  },
  {
   "cell_type": "code",
   "execution_count": 103,
   "id": "1819f3f6-1bf6-476e-a1e6-3a13657d48cf",
   "metadata": {},
   "outputs": [
    {
     "name": "stdout",
     "output_type": "stream",
     "text": [
      "True\n"
     ]
    }
   ],
   "source": [
    "print(False==False)"
   ]
  },
  {
   "cell_type": "code",
   "execution_count": 104,
   "id": "f247f3b3-1b77-44d3-af2a-a0ff7c9f4f03",
   "metadata": {},
   "outputs": [
    {
     "name": "stdout",
     "output_type": "stream",
     "text": [
      "True\n"
     ]
    }
   ],
   "source": [
    "print(True==True)"
   ]
  },
  {
   "cell_type": "code",
   "execution_count": 105,
   "id": "9a518a28-f277-4f89-896d-f7aab34e4f6a",
   "metadata": {},
   "outputs": [
    {
     "name": "stdout",
     "output_type": "stream",
     "text": [
      "True\n"
     ]
    }
   ],
   "source": [
    "print(True and True)"
   ]
  },
  {
   "cell_type": "code",
   "execution_count": 106,
   "id": "2bd2c683-8d71-4e02-aa1b-f787614f9c8d",
   "metadata": {},
   "outputs": [
    {
     "name": "stdout",
     "output_type": "stream",
     "text": [
      "True\n"
     ]
    }
   ],
   "source": [
    "print(True or False)"
   ]
  },
  {
   "cell_type": "code",
   "execution_count": 107,
   "id": "46a3c6b1-7109-426e-8a1e-b4a51c47b4ee",
   "metadata": {},
   "outputs": [
    {
     "name": "stdout",
     "output_type": "stream",
     "text": [
      "True\n"
     ]
    }
   ],
   "source": [
    "print('A'in 'Asabeneh')"
   ]
  },
  {
   "cell_type": "code",
   "execution_count": 108,
   "id": "b5551cb8-8d81-4200-916f-0c6506a2eb26",
   "metadata": {},
   "outputs": [
    {
     "name": "stdout",
     "output_type": "stream",
     "text": [
      "False\n"
     ]
    }
   ],
   "source": [
    "print('B'in 'Asabeneh')"
   ]
  },
  {
   "cell_type": "code",
   "execution_count": 109,
   "id": "3e1c9ed9-cbfd-4518-a415-0e220afc0fd2",
   "metadata": {},
   "outputs": [
    {
     "name": "stdout",
     "output_type": "stream",
     "text": [
      "True\n"
     ]
    },
    {
     "name": "stderr",
     "output_type": "stream",
     "text": [
      "<>:1: SyntaxWarning: \"is\" with 'int' literal. Did you mean \"==\"?\n",
      "<>:1: SyntaxWarning: \"is\" with 'int' literal. Did you mean \"==\"?\n",
      "C:\\Users\\arnav\\AppData\\Local\\Temp\\ipykernel_24652\\1697697746.py:1: SyntaxWarning: \"is\" with 'int' literal. Did you mean \"==\"?\n",
      "  print(1 is 1)\n"
     ]
    }
   ],
   "source": [
    "print(1 is 1)"
   ]
  },
  {
   "cell_type": "code",
   "execution_count": 110,
   "id": "f92f46a2-aaaa-4851-9dff-62f2a3678a94",
   "metadata": {},
   "outputs": [
    {
     "name": "stdout",
     "output_type": "stream",
     "text": [
      "True\n"
     ]
    },
    {
     "name": "stderr",
     "output_type": "stream",
     "text": [
      "<>:1: SyntaxWarning: \"is not\" with 'int' literal. Did you mean \"!=\"?\n",
      "<>:1: SyntaxWarning: \"is not\" with 'int' literal. Did you mean \"!=\"?\n",
      "C:\\Users\\arnav\\AppData\\Local\\Temp\\ipykernel_24652\\3802393912.py:1: SyntaxWarning: \"is not\" with 'int' literal. Did you mean \"!=\"?\n",
      "  print(7 is not 5)\n"
     ]
    }
   ],
   "source": [
    "print(7 is not 5)"
   ]
  },
  {
   "cell_type": "code",
   "execution_count": 111,
   "id": "d8523d75-e3b1-49b4-9ff4-1a5cc0658065",
   "metadata": {},
   "outputs": [
    {
     "name": "stdout",
     "output_type": "stream",
     "text": [
      "True\n"
     ]
    },
    {
     "name": "stderr",
     "output_type": "stream",
     "text": [
      "<>:1: SyntaxWarning: \"is\" with 'int' literal. Did you mean \"==\"?\n",
      "<>:1: SyntaxWarning: \"is\" with 'int' literal. Did you mean \"==\"?\n",
      "C:\\Users\\arnav\\AppData\\Local\\Temp\\ipykernel_24652\\1062786000.py:1: SyntaxWarning: \"is\" with 'int' literal. Did you mean \"==\"?\n",
      "  print(4 is 2**2)\n"
     ]
    }
   ],
   "source": [
    "print(4 is 2**2)"
   ]
  },
  {
   "cell_type": "code",
   "execution_count": 112,
   "id": "da9cdba4-a503-402a-b81f-e815e96d44f1",
   "metadata": {},
   "outputs": [
    {
     "name": "stdout",
     "output_type": "stream",
     "text": [
      "True\n"
     ]
    }
   ],
   "source": [
    "print('coding'in 'coding for all')"
   ]
  },
  {
   "cell_type": "code",
   "execution_count": 113,
   "id": "b4c2e997-fd04-4e27-b576-cd54d8ded685",
   "metadata": {},
   "outputs": [
    {
     "name": "stdout",
     "output_type": "stream",
     "text": [
      "True\n"
     ]
    }
   ],
   "source": [
    "print(3>2 and 4<5)"
   ]
  },
  {
   "cell_type": "code",
   "execution_count": 114,
   "id": "3208c260-1f81-428e-a5cb-e6c633e78eb5",
   "metadata": {},
   "outputs": [
    {
     "name": "stdout",
     "output_type": "stream",
     "text": [
      "False\n"
     ]
    }
   ],
   "source": [
    "print(3>2 and 9>10)"
   ]
  },
  {
   "cell_type": "code",
   "execution_count": 115,
   "id": "0d2e5070-92a0-4b5d-9a1f-6aa689999872",
   "metadata": {},
   "outputs": [
    {
     "name": "stdout",
     "output_type": "stream",
     "text": [
      "False\n"
     ]
    }
   ],
   "source": [
    "print(9<4 and 6<9)"
   ]
  },
  {
   "cell_type": "code",
   "execution_count": 116,
   "id": "f2da4672-cb07-4c0d-83be-e1f8cbb5adcb",
   "metadata": {},
   "outputs": [
    {
     "name": "stdout",
     "output_type": "stream",
     "text": [
      "True\n"
     ]
    }
   ],
   "source": [
    "print(3>2 or 9>10)"
   ]
  },
  {
   "cell_type": "code",
   "execution_count": 118,
   "id": "6b023fd6-d7af-4106-9bb5-747d78596e23",
   "metadata": {},
   "outputs": [
    {
     "name": "stdout",
     "output_type": "stream",
     "text": [
      "True\n"
     ]
    }
   ],
   "source": [
    "print(8==10 or 5>4)"
   ]
  },
  {
   "cell_type": "code",
   "execution_count": 119,
   "id": "cb52ba1d-7cc5-485f-bfb4-2272fb13bfda",
   "metadata": {},
   "outputs": [
    {
     "name": "stdout",
     "output_type": "stream",
     "text": [
      "False\n"
     ]
    }
   ],
   "source": [
    "print(89>90)"
   ]
  },
  {
   "cell_type": "code",
   "execution_count": 120,
   "id": "f561234e-6f70-401e-9a44-2bd16d2b2e7c",
   "metadata": {},
   "outputs": [
    {
     "name": "stdout",
     "output_type": "stream",
     "text": [
      "False\n"
     ]
    }
   ],
   "source": [
    "print(not True)"
   ]
  },
  {
   "cell_type": "code",
   "execution_count": 121,
   "id": "1a2e735e-e4d2-4f4e-b125-dad9b9119e36",
   "metadata": {},
   "outputs": [
    {
     "name": "stdout",
     "output_type": "stream",
     "text": [
      "True\n"
     ]
    }
   ],
   "source": [
    "print(not not True)"
   ]
  },
  {
   "cell_type": "code",
   "execution_count": 122,
   "id": "e8e721c7-06e7-4a30-992e-24a478dd605a",
   "metadata": {},
   "outputs": [
    {
     "name": "stdout",
     "output_type": "stream",
     "text": [
      "False\n"
     ]
    }
   ],
   "source": [
    "print(not not False)"
   ]
  },
  {
   "cell_type": "code",
   "execution_count": null,
   "id": "622dc69d-03fb-4923-999e-bca6808ef54b",
   "metadata": {},
   "outputs": [],
   "source": []
  }
 ],
 "metadata": {
  "kernelspec": {
   "display_name": "Python [conda env:base] *",
   "language": "python",
   "name": "conda-base-py"
  },
  "language_info": {
   "codemirror_mode": {
    "name": "ipython",
    "version": 3
   },
   "file_extension": ".py",
   "mimetype": "text/x-python",
   "name": "python",
   "nbconvert_exporter": "python",
   "pygments_lexer": "ipython3",
   "version": "3.12.7"
  }
 },
 "nbformat": 4,
 "nbformat_minor": 5
}
