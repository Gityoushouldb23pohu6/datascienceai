{
 "cells": [
  {
   "cell_type": "code",
   "execution_count": 1,
   "id": "c7543977-674c-4c3e-b11c-b90db0458278",
   "metadata": {},
   "outputs": [],
   "source": [
    "#strings"
   ]
  },
  {
   "cell_type": "code",
   "execution_count": 3,
   "id": "de3b1dc9-d487-4964-b858-ad82051b95fb",
   "metadata": {},
   "outputs": [],
   "source": [
    "firstname='Asabeneh'\n",
    "space=' '\n",
    "lastname='Yetayeh'\n",
    "fullname=firstname+space+lastname"
   ]
  },
  {
   "cell_type": "code",
   "execution_count": 4,
   "id": "0c8f153a-eda4-4f30-8a1f-e43ef7068d73",
   "metadata": {},
   "outputs": [
    {
     "name": "stdout",
     "output_type": "stream",
     "text": [
      "Asabeneh Yetayeh\n"
     ]
    }
   ],
   "source": [
    "print(fullname)"
   ]
  },
  {
   "cell_type": "code",
   "execution_count": 5,
   "id": "684f3a6b-efa4-4c04-ac1a-3a8f7a275702",
   "metadata": {},
   "outputs": [
    {
     "name": "stdout",
     "output_type": "stream",
     "text": [
      "8\n"
     ]
    }
   ],
   "source": [
    "print(len(firstname))"
   ]
  },
  {
   "cell_type": "code",
   "execution_count": 7,
   "id": "d0a0ba39-9537-4ced-a74a-2764659c09df",
   "metadata": {},
   "outputs": [
    {
     "name": "stdout",
     "output_type": "stream",
     "text": [
      "16\n"
     ]
    }
   ],
   "source": [
    "print(len(fullname))"
   ]
  },
  {
   "cell_type": "code",
   "execution_count": 9,
   "id": "29a87573-580c-49f8-a987-a17590f36256",
   "metadata": {},
   "outputs": [
    {
     "data": {
      "text/plain": [
       "True"
      ]
     },
     "execution_count": 9,
     "metadata": {},
     "output_type": "execute_result"
    }
   ],
   "source": [
    "len(firstname)>len(lastname)"
   ]
  },
  {
   "cell_type": "code",
   "execution_count": 11,
   "id": "62a9860e-b7f7-46c4-a15c-72b053d32e75",
   "metadata": {},
   "outputs": [],
   "source": [
    "language='python'\n",
    "a,b,c,d,e,f=language"
   ]
  },
  {
   "cell_type": "code",
   "execution_count": 12,
   "id": "a55758a1-4d32-448a-bb77-92d4893d4de6",
   "metadata": {},
   "outputs": [
    {
     "name": "stdout",
     "output_type": "stream",
     "text": [
      "p\n"
     ]
    }
   ],
   "source": [
    "print(a)"
   ]
  },
  {
   "cell_type": "code",
   "execution_count": 13,
   "id": "2336a47c-5028-4535-96ef-67bceaeeff5b",
   "metadata": {},
   "outputs": [
    {
     "name": "stdout",
     "output_type": "stream",
     "text": [
      "y\n"
     ]
    }
   ],
   "source": [
    "print(b)"
   ]
  },
  {
   "cell_type": "code",
   "execution_count": 14,
   "id": "1d5715ba-b5f4-4d63-b19e-f9065be12323",
   "metadata": {},
   "outputs": [
    {
     "name": "stdout",
     "output_type": "stream",
     "text": [
      "t\n"
     ]
    }
   ],
   "source": [
    "print(c)"
   ]
  },
  {
   "cell_type": "code",
   "execution_count": 15,
   "id": "8ac6c17c-fbc4-49d1-a285-715693ac61b4",
   "metadata": {},
   "outputs": [
    {
     "name": "stdout",
     "output_type": "stream",
     "text": [
      "h\n"
     ]
    }
   ],
   "source": [
    "print(d)"
   ]
  },
  {
   "cell_type": "code",
   "execution_count": 16,
   "id": "b132c1fe-d874-4b1f-84b9-54b779984ed8",
   "metadata": {},
   "outputs": [
    {
     "name": "stdout",
     "output_type": "stream",
     "text": [
      "o\n"
     ]
    }
   ],
   "source": [
    "print(e)"
   ]
  },
  {
   "cell_type": "code",
   "execution_count": 17,
   "id": "26152ccd-39eb-4c7b-832f-ac3bb005e6bb",
   "metadata": {},
   "outputs": [],
   "source": [
    "language='Python'\n",
    "firstlet=language[0]"
   ]
  },
  {
   "cell_type": "code",
   "execution_count": 18,
   "id": "f78b0326-342b-4e74-972b-b36146079d12",
   "metadata": {},
   "outputs": [
    {
     "name": "stdout",
     "output_type": "stream",
     "text": [
      "P\n"
     ]
    }
   ],
   "source": [
    "print(firstlet)"
   ]
  },
  {
   "cell_type": "code",
   "execution_count": 19,
   "id": "28f121b0-1a68-4ec4-8253-0e569adee955",
   "metadata": {},
   "outputs": [],
   "source": [
    "seclet=language[1]"
   ]
  },
  {
   "cell_type": "code",
   "execution_count": 20,
   "id": "fdc480e0-383e-493d-8cc2-5a106b781405",
   "metadata": {},
   "outputs": [
    {
     "name": "stdout",
     "output_type": "stream",
     "text": [
      "y\n"
     ]
    }
   ],
   "source": [
    "print(seclet)"
   ]
  },
  {
   "cell_type": "code",
   "execution_count": 21,
   "id": "06fdddf7-360f-45ad-9041-ee227c5eab4d",
   "metadata": {},
   "outputs": [],
   "source": [
    "lastindex=len(language)-1"
   ]
  },
  {
   "cell_type": "code",
   "execution_count": 22,
   "id": "31f20ee3-15d1-44ad-9715-b4475121499f",
   "metadata": {},
   "outputs": [],
   "source": [
    "lastletter=language[lastindex]"
   ]
  },
  {
   "cell_type": "code",
   "execution_count": 23,
   "id": "b326f076-06d0-4765-abfb-15fe139ae15d",
   "metadata": {},
   "outputs": [
    {
     "name": "stdout",
     "output_type": "stream",
     "text": [
      "n\n"
     ]
    }
   ],
   "source": [
    "print(lastletter)"
   ]
  },
  {
   "cell_type": "code",
   "execution_count": 24,
   "id": "fd34ecd4-dc4a-4a3e-a2da-1c533bc745af",
   "metadata": {},
   "outputs": [],
   "source": [
    "language='Python'\n",
    "lastlet=language[-1]"
   ]
  },
  {
   "cell_type": "code",
   "execution_count": 25,
   "id": "a7dc672d-3484-497f-b9c4-40d854116f14",
   "metadata": {},
   "outputs": [
    {
     "name": "stdout",
     "output_type": "stream",
     "text": [
      "n\n",
      "o\n"
     ]
    }
   ],
   "source": [
    "seclast=language[-2]\n",
    "print(lastlet)\n",
    "print(seclast)"
   ]
  },
  {
   "cell_type": "code",
   "execution_count": 26,
   "id": "a423215f-5ba2-4f65-8c46-70ec1bc7f105",
   "metadata": {},
   "outputs": [
    {
     "name": "stdout",
     "output_type": "stream",
     "text": [
      "Pyt\n"
     ]
    }
   ],
   "source": [
    "language='Python'\n",
    "firstthree=language[0:3]\n",
    "print(firstthree)"
   ]
  },
  {
   "cell_type": "code",
   "execution_count": 27,
   "id": "b4fdfdc2-4f52-404c-aca5-b36c34fe7522",
   "metadata": {},
   "outputs": [],
   "source": [
    "lasthree=language[3:6]"
   ]
  },
  {
   "cell_type": "code",
   "execution_count": 29,
   "id": "a319f72d-d37e-4b2e-8d1e-faec4b3eb849",
   "metadata": {},
   "outputs": [
    {
     "name": "stdout",
     "output_type": "stream",
     "text": [
      "hon\n"
     ]
    }
   ],
   "source": [
    "print(lasthree)"
   ]
  },
  {
   "cell_type": "code",
   "execution_count": 30,
   "id": "d754ece3-6f0e-4e77-8276-7b9a367c5b7c",
   "metadata": {},
   "outputs": [
    {
     "name": "stdout",
     "output_type": "stream",
     "text": [
      "hon\n"
     ]
    }
   ],
   "source": [
    "lasthree=language[3:]\n",
    "print(lasthree)"
   ]
  },
  {
   "cell_type": "code",
   "execution_count": 31,
   "id": "b76acbdb-7925-4a80-ae83-fdd13d45a4e2",
   "metadata": {},
   "outputs": [
    {
     "name": "stdout",
     "output_type": "stream",
     "text": [
      "hon\n"
     ]
    }
   ],
   "source": [
    "lasthree=language[-3:]\n",
    "print(lasthree)"
   ]
  },
  {
   "cell_type": "code",
   "execution_count": 32,
   "id": "aae757da-b43d-45bf-b1aa-cbc9d919bb21",
   "metadata": {},
   "outputs": [
    {
     "data": {
      "text/plain": [
       "'Pto'"
      ]
     },
     "execution_count": 32,
     "metadata": {},
     "output_type": "execute_result"
    }
   ],
   "source": [
    "language='Python'\n",
    "language[0:6:2]"
   ]
  },
  {
   "cell_type": "code",
   "execution_count": 33,
   "id": "43837e71-dfbb-43ec-9a3a-cf331a331620",
   "metadata": {},
   "outputs": [
    {
     "name": "stdout",
     "output_type": "stream",
     "text": [
      "welcome to python \t,shall we start ?\n"
     ]
    }
   ],
   "source": [
    "print('welcome to python \\t,shall we start ?')"
   ]
  },
  {
   "cell_type": "code",
   "execution_count": 34,
   "id": "4b7f0860-4f96-4376-948f-9a545fa741d7",
   "metadata": {},
   "outputs": [
    {
     "name": "stdout",
     "output_type": "stream",
     "text": [
      "you are... \t disgusting!!! \n"
     ]
    }
   ],
   "source": [
    "print('you are... \\t disgusting!!! ')"
   ]
  },
  {
   "cell_type": "code",
   "execution_count": 36,
   "id": "8e55d7ec-e98b-4c9d-9407-c25afaa94b40",
   "metadata": {},
   "outputs": [
    {
     "name": "stdout",
     "output_type": "stream",
     "text": [
      "may \t I know whats \tyour name ?\n"
     ]
    }
   ],
   "source": [
    "print('may \\t I know whats \\tyour name ?')"
   ]
  },
  {
   "cell_type": "code",
   "execution_count": 37,
   "id": "da0776e2-17b5-4093-be08-416e52adcc09",
   "metadata": {},
   "outputs": [],
   "source": [
    "#capitalise"
   ]
  },
  {
   "cell_type": "code",
   "execution_count": 39,
   "id": "de2eb90c-f093-4a4c-870a-4ceec7db0ef7",
   "metadata": {},
   "outputs": [
    {
     "name": "stdout",
     "output_type": "stream",
     "text": [
      "Python is easy\n"
     ]
    }
   ],
   "source": [
    "challenge='python is easy'\n",
    "print(challenge.capitalize())"
   ]
  },
  {
   "cell_type": "code",
   "execution_count": 40,
   "id": "85a3352a-438c-4aef-8c18-05fb1115ccd2",
   "metadata": {},
   "outputs": [
    {
     "name": "stdout",
     "output_type": "stream",
     "text": [
      "1\n"
     ]
    }
   ],
   "source": [
    "print(challenge.count('e'))"
   ]
  },
  {
   "cell_type": "code",
   "execution_count": 42,
   "id": "8e5d64a6-3312-4376-8544-5d7349d79898",
   "metadata": {},
   "outputs": [
    {
     "name": "stdout",
     "output_type": "stream",
     "text": [
      "2\n"
     ]
    }
   ],
   "source": [
    "print(challenge.count('y'))"
   ]
  },
  {
   "cell_type": "code",
   "execution_count": 43,
   "id": "0c0716af-aae9-40e0-9999-502d69a90fe6",
   "metadata": {},
   "outputs": [
    {
     "name": "stdout",
     "output_type": "stream",
     "text": [
      "False\n"
     ]
    }
   ],
   "source": [
    "print(challenge.endswith('on'))"
   ]
  },
  {
   "cell_type": "code",
   "execution_count": 44,
   "id": "e967d8a9-df4d-4f3c-a9c5-7a19d5e10e61",
   "metadata": {},
   "outputs": [
    {
     "name": "stdout",
     "output_type": "stream",
     "text": [
      "True\n"
     ]
    }
   ],
   "source": [
    "print(challenge.endswith('sy'))"
   ]
  },
  {
   "cell_type": "code",
   "execution_count": 48,
   "id": "d71bcf2c-6fa9-4b3b-afbe-f5233ef01d45",
   "metadata": {},
   "outputs": [
    {
     "name": "stdout",
     "output_type": "stream",
     "text": [
      "python is easy\n"
     ]
    }
   ],
   "source": [
    "print(challenge.expandtabs())"
   ]
  },
  {
   "cell_type": "code",
   "execution_count": 51,
   "id": "6668aea8-6f78-4622-9761-1cda764a81dd",
   "metadata": {},
   "outputs": [
    {
     "name": "stdout",
     "output_type": "stream",
     "text": [
      "python is easy\n"
     ]
    }
   ],
   "source": [
    "print(challenge.expandtabs(100))"
   ]
  },
  {
   "cell_type": "code",
   "execution_count": 52,
   "id": "56803495-18b2-4ff1-ac4a-997c24ddf827",
   "metadata": {},
   "outputs": [],
   "source": [
    "hugj='one day is enough for me'"
   ]
  },
  {
   "cell_type": "code",
   "execution_count": 53,
   "id": "de4abf04-f13e-444b-94ce-72c00c447278",
   "metadata": {},
   "outputs": [
    {
     "name": "stdout",
     "output_type": "stream",
     "text": [
      "0\n"
     ]
    }
   ],
   "source": [
    "print(hugj.find('on'))"
   ]
  },
  {
   "cell_type": "code",
   "execution_count": 55,
   "id": "aa052d5b-b806-4429-abab-98c01964903c",
   "metadata": {},
   "outputs": [
    {
     "name": "stdout",
     "output_type": "stream",
     "text": [
      "4\n"
     ]
    }
   ],
   "source": [
    "print(hugj.find('da'))"
   ]
  },
  {
   "cell_type": "code",
   "execution_count": 56,
   "id": "11921539-3f32-44af-af55-f2fa82f0c051",
   "metadata": {},
   "outputs": [
    {
     "name": "stdout",
     "output_type": "stream",
     "text": [
      "18\n"
     ]
    }
   ],
   "source": [
    "print(hugj.find('fo'))"
   ]
  },
  {
   "cell_type": "code",
   "execution_count": 60,
   "id": "b14bcd8c-d718-43dc-8748-944b924c46c8",
   "metadata": {},
   "outputs": [],
   "source": [
    "name='Asabeneh'\n",
    "lastname='yeseah'\n",
    "age=29\n",
    "place='finland'"
   ]
  },
  {
   "cell_type": "code",
   "execution_count": 62,
   "id": "ce7789b9-8527-4e1b-8dd6-2cf9455582d5",
   "metadata": {},
   "outputs": [
    {
     "name": "stdout",
     "output_type": "stream",
     "text": [
      "I am Asabeneh yeseah ,I am 29 and I live in finland\n"
     ]
    }
   ],
   "source": [
    "print('I am {} {} ,I am {} and I live in {}'.format(name,lastname,age,place))"
   ]
  },
  {
   "cell_type": "code",
   "execution_count": 64,
   "id": "c3fe3683-affd-42ce-a254-946149d997d4",
   "metadata": {},
   "outputs": [
    {
     "name": "stdout",
     "output_type": "stream",
     "text": [
      "Area of the circle is:314.0\n"
     ]
    }
   ],
   "source": [
    "radius=10\n",
    "Area=3.14*radius**2\n",
    "print('Area of the circle is:{}'.format(str(Area)))"
   ]
  },
  {
   "cell_type": "code",
   "execution_count": 65,
   "id": "782b29ed-afa2-4eae-9017-31c5b8317142",
   "metadata": {},
   "outputs": [
    {
     "data": {
      "text/plain": [
       "True"
      ]
     },
     "execution_count": 65,
     "metadata": {},
     "output_type": "execute_result"
    }
   ],
   "source": [
    "a='uppoi53'\n",
    "a.isalnum()"
   ]
  },
  {
   "cell_type": "code",
   "execution_count": 66,
   "id": "21223418-70ff-4878-aba9-7ca542d13457",
   "metadata": {},
   "outputs": [
    {
     "data": {
      "text/plain": [
       "False"
      ]
     },
     "execution_count": 66,
     "metadata": {},
     "output_type": "execute_result"
    }
   ],
   "source": [
    "b='u are just '\n",
    "b.isalnum()"
   ]
  },
  {
   "cell_type": "code",
   "execution_count": 69,
   "id": "ac13434b-51fb-41e9-9d3f-b905c6dd5436",
   "metadata": {},
   "outputs": [
    {
     "data": {
      "text/plain": [
       "False"
      ]
     },
     "execution_count": 69,
     "metadata": {},
     "output_type": "execute_result"
    }
   ],
   "source": [
    "c='2oinf9v of'\n",
    "c.isalnum()"
   ]
  },
  {
   "cell_type": "code",
   "execution_count": 71,
   "id": "8e141a5a-002e-4307-8a98-a802bb1e4df9",
   "metadata": {},
   "outputs": [
    {
     "data": {
      "text/plain": [
       "False"
      ]
     },
     "execution_count": 71,
     "metadata": {},
     "output_type": "execute_result"
    }
   ],
   "source": [
    "a.isalpha()"
   ]
  },
  {
   "cell_type": "code",
   "execution_count": 72,
   "id": "04731715-c65b-49f5-81e1-1b71d7f9a019",
   "metadata": {},
   "outputs": [
    {
     "data": {
      "text/plain": [
       "False"
      ]
     },
     "execution_count": 72,
     "metadata": {},
     "output_type": "execute_result"
    }
   ],
   "source": [
    "b.isalpha()"
   ]
  },
  {
   "cell_type": "code",
   "execution_count": 74,
   "id": "c964413a-4ef9-4c21-b4a3-b623c4a96693",
   "metadata": {},
   "outputs": [
    {
     "data": {
      "text/plain": [
       "True"
      ]
     },
     "execution_count": 74,
     "metadata": {},
     "output_type": "execute_result"
    }
   ],
   "source": [
    "d='onewayortheother'\n",
    "d.isalpha()"
   ]
  },
  {
   "cell_type": "code",
   "execution_count": 76,
   "id": "0ecf5cac-1407-42ba-8676-51cf8a133f71",
   "metadata": {},
   "outputs": [
    {
     "data": {
      "text/plain": [
       "True"
      ]
     },
     "execution_count": 76,
     "metadata": {},
     "output_type": "execute_result"
    }
   ],
   "source": [
    "num='1203'\n",
    "num.isdigit()"
   ]
  },
  {
   "cell_type": "code",
   "execution_count": 77,
   "id": "d0433c43-d9b1-4b9b-94fc-cd515a214ad4",
   "metadata": {},
   "outputs": [
    {
     "data": {
      "text/plain": [
       "True"
      ]
     },
     "execution_count": 77,
     "metadata": {},
     "output_type": "execute_result"
    }
   ],
   "source": [
    "num.isdecimal()"
   ]
  },
  {
   "cell_type": "code",
   "execution_count": 78,
   "id": "83f64ed2-1b50-4273-a654-ace47eebbf6b",
   "metadata": {},
   "outputs": [
    {
     "data": {
      "text/plain": [
       "False"
      ]
     },
     "execution_count": 78,
     "metadata": {},
     "output_type": "execute_result"
    }
   ],
   "source": [
    "num1='10.5'\n",
    "num1.isdecimal()"
   ]
  },
  {
   "cell_type": "markdown",
   "id": "b94178ea-16e6-498f-88b2-c330b5a7fe61",
   "metadata": {},
   "source": [
    "# num2='thirty'\n",
    "num2.isdigit()"
   ]
  },
  {
   "cell_type": "code",
   "execution_count": 80,
   "id": "6dbd1544-c866-4832-b025-7eee509ced4a",
   "metadata": {},
   "outputs": [
    {
     "data": {
      "text/plain": [
       "False"
      ]
     },
     "execution_count": 80,
     "metadata": {},
     "output_type": "execute_result"
    }
   ],
   "source": [
    "num1.isdigit()"
   ]
  },
  {
   "cell_type": "code",
   "execution_count": 81,
   "id": "041ad258-ed18-498e-b034-88fed01f860e",
   "metadata": {},
   "outputs": [
    {
     "data": {
      "text/plain": [
       "True"
      ]
     },
     "execution_count": 81,
     "metadata": {},
     "output_type": "execute_result"
    }
   ],
   "source": [
    "num.isdigit()"
   ]
  },
  {
   "cell_type": "code",
   "execution_count": 84,
   "id": "954d24ad-29bd-428e-a676-aea2ee76d656",
   "metadata": {},
   "outputs": [],
   "source": [
    "str='thirtydaysof'"
   ]
  },
  {
   "cell_type": "code",
   "execution_count": 85,
   "id": "96ef8e72-cc8a-4b0d-9ab9-b099767962f1",
   "metadata": {},
   "outputs": [
    {
     "data": {
      "text/plain": [
       "True"
      ]
     },
     "execution_count": 85,
     "metadata": {},
     "output_type": "execute_result"
    }
   ],
   "source": [
    "str.isidentifier()"
   ]
  },
  {
   "cell_type": "code",
   "execution_count": 86,
   "id": "d900387c-d789-499f-8911-c24d866970ec",
   "metadata": {},
   "outputs": [
    {
     "data": {
      "text/plain": [
       "False"
      ]
     },
     "execution_count": 86,
     "metadata": {},
     "output_type": "execute_result"
    }
   ],
   "source": [
    "str2='20days'\n",
    "str2.isidentifier()"
   ]
  },
  {
   "cell_type": "code",
   "execution_count": 87,
   "id": "5d66cf3a-73aa-4a6e-8f39-b859b05f4ae2",
   "metadata": {},
   "outputs": [
    {
     "data": {
      "text/plain": [
       "True"
      ]
     },
     "execution_count": 87,
     "metadata": {},
     "output_type": "execute_result"
    }
   ],
   "source": [
    "str.islower()"
   ]
  },
  {
   "cell_type": "code",
   "execution_count": 88,
   "id": "932ca3ae-f34b-44f3-b1c2-2fdbf0165f5d",
   "metadata": {},
   "outputs": [
    {
     "data": {
      "text/plain": [
       "False"
      ]
     },
     "execution_count": 88,
     "metadata": {},
     "output_type": "execute_result"
    }
   ],
   "source": [
    "str='THIRTYDAYSOFPYTHON'\n",
    "str.islower()"
   ]
  },
  {
   "cell_type": "code",
   "execution_count": 89,
   "id": "8af301ad-1ccd-414b-bbf5-9b2b3fc1350b",
   "metadata": {},
   "outputs": [
    {
     "data": {
      "text/plain": [
       "True"
      ]
     },
     "execution_count": 89,
     "metadata": {},
     "output_type": "execute_result"
    }
   ],
   "source": [
    "str.isupper()"
   ]
  },
  {
   "cell_type": "code",
   "execution_count": 90,
   "id": "3da45672-233a-4959-8cdc-f6d1395f929b",
   "metadata": {},
   "outputs": [
    {
     "data": {
      "text/plain": [
       "True"
      ]
     },
     "execution_count": 90,
     "metadata": {},
     "output_type": "execute_result"
    }
   ],
   "source": [
    "num='10'\n",
    "num.isnumeric()"
   ]
  },
  {
   "cell_type": "code",
   "execution_count": 91,
   "id": "ae08457f-d389-490b-ae97-33f9344bac06",
   "metadata": {},
   "outputs": [],
   "source": [
    "num='TEN'"
   ]
  },
  {
   "cell_type": "code",
   "execution_count": 92,
   "id": "cb7ee73d-178b-4ccb-8de2-21ddec82e6e9",
   "metadata": {},
   "outputs": [
    {
     "data": {
      "text/plain": [
       "False"
      ]
     },
     "execution_count": 92,
     "metadata": {},
     "output_type": "execute_result"
    }
   ],
   "source": [
    "num.isnumeric()"
   ]
  },
  {
   "cell_type": "code",
   "execution_count": 95,
   "id": "a345fe2b-7e4f-41c6-bbea-9109f0860e56",
   "metadata": {},
   "outputs": [],
   "source": [
    "tech={'C++','HTML','PYTHON','Java'}\n",
    "result='#'.join(tech)"
   ]
  },
  {
   "cell_type": "code",
   "execution_count": 96,
   "id": "b0e0fee6-b586-4f66-8f51-88d37a18aa3b",
   "metadata": {},
   "outputs": [
    {
     "name": "stdout",
     "output_type": "stream",
     "text": [
      "Java#C++#PYTHON#HTML\n"
     ]
    }
   ],
   "source": [
    "print(result)"
   ]
  },
  {
   "cell_type": "code",
   "execution_count": 101,
   "id": "8918aefa-8429-4697-86d7-88b100d4fdc5",
   "metadata": {},
   "outputs": [
    {
     "data": {
      "text/plain": [
       "'thirty days of pytho'"
      ]
     },
     "execution_count": 101,
     "metadata": {},
     "output_type": "execute_result"
    }
   ],
   "source": [
    "spi='thirty days of python'\n",
    "spi.strip('n')"
   ]
  },
  {
   "cell_type": "code",
   "execution_count": 102,
   "id": "55e7719e-592f-4dbe-a163-1b41b67221ef",
   "metadata": {},
   "outputs": [
    {
     "data": {
      "text/plain": [
       "'Thirty Days Of Python'"
      ]
     },
     "execution_count": 102,
     "metadata": {},
     "output_type": "execute_result"
    }
   ],
   "source": [
    "spi.title()"
   ]
  },
  {
   "cell_type": "code",
   "execution_count": 103,
   "id": "4b55df09-f4a7-4cf4-92ea-2bb66a9bb447",
   "metadata": {},
   "outputs": [
    {
     "data": {
      "text/plain": [
       "'THIRTY DAYS OF PYTHON'"
      ]
     },
     "execution_count": 103,
     "metadata": {},
     "output_type": "execute_result"
    }
   ],
   "source": [
    "spi.swapcase()"
   ]
  },
  {
   "cell_type": "code",
   "execution_count": 106,
   "id": "726cd726-a4ae-4651-9a1f-a3b15e21dab5",
   "metadata": {},
   "outputs": [
    {
     "data": {
      "text/plain": [
       "True"
      ]
     },
     "execution_count": 106,
     "metadata": {},
     "output_type": "execute_result"
    }
   ],
   "source": [
    "spi.startswith('thirty')"
   ]
  },
  {
   "cell_type": "code",
   "execution_count": 107,
   "id": "83ea7eab-a263-44e6-86e9-cd70e9d51f9c",
   "metadata": {},
   "outputs": [
    {
     "data": {
      "text/plain": [
       "'thirty days of python'"
      ]
     },
     "execution_count": 107,
     "metadata": {},
     "output_type": "execute_result"
    }
   ],
   "source": [
    "spi"
   ]
  },
  {
   "cell_type": "code",
   "execution_count": null,
   "id": "46f76638-21ee-4d91-abab-d5a129fe0569",
   "metadata": {},
   "outputs": [],
   "source": []
  }
 ],
 "metadata": {
  "kernelspec": {
   "display_name": "Python [conda env:base] *",
   "language": "python",
   "name": "conda-base-py"
  },
  "language_info": {
   "codemirror_mode": {
    "name": "ipython",
    "version": 3
   },
   "file_extension": ".py",
   "mimetype": "text/x-python",
   "name": "python",
   "nbconvert_exporter": "python",
   "pygments_lexer": "ipython3",
   "version": "3.12.7"
  }
 },
 "nbformat": 4,
 "nbformat_minor": 5
}
