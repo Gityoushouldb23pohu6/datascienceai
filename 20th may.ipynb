{
 "cells": [
  {
   "cell_type": "code",
   "execution_count": 1,
   "id": "637e792e-c0ba-41de-b5c7-a581c7b59dfb",
   "metadata": {},
   "outputs": [],
   "source": [
    "l=[]"
   ]
  },
  {
   "cell_type": "code",
   "execution_count": 2,
   "id": "4276f63d-9759-46a5-bb09-09912fb52234",
   "metadata": {},
   "outputs": [
    {
     "data": {
      "text/plain": [
       "[]"
      ]
     },
     "execution_count": 2,
     "metadata": {},
     "output_type": "execute_result"
    }
   ],
   "source": [
    "l"
   ]
  },
  {
   "cell_type": "code",
   "execution_count": 3,
   "id": "791fb706-af75-4e85-bf3b-fc437dfb8ac4",
   "metadata": {},
   "outputs": [
    {
     "data": {
      "text/plain": [
       "[]"
      ]
     },
     "execution_count": 3,
     "metadata": {},
     "output_type": "execute_result"
    }
   ],
   "source": [
    "l"
   ]
  },
  {
   "cell_type": "code",
   "execution_count": 4,
   "id": "6e2a2520-a49a-4faf-9c28-eba10fed821d",
   "metadata": {},
   "outputs": [
    {
     "ename": "TypeError",
     "evalue": "list.append() takes exactly one argument (6 given)",
     "output_type": "error",
     "traceback": [
      "\u001b[1;31m---------------------------------------------------------------------------\u001b[0m",
      "\u001b[1;31mTypeError\u001b[0m                                 Traceback (most recent call last)",
      "Cell \u001b[1;32mIn[4], line 1\u001b[0m\n\u001b[1;32m----> 1\u001b[0m l\u001b[38;5;241m.\u001b[39mappend(\u001b[38;5;241m20\u001b[39m,\u001b[38;5;241m30\u001b[39m,\u001b[38;5;241m40\u001b[39m,\u001b[38;5;241m1\u001b[39m\u001b[38;5;241m+\u001b[39m\u001b[38;5;241m2\u001b[39mj,\u001b[38;5;28;01mTrue\u001b[39;00m,\u001b[38;5;124m'\u001b[39m\u001b[38;5;124mnit\u001b[39m\u001b[38;5;124m'\u001b[39m)\n",
      "\u001b[1;31mTypeError\u001b[0m: list.append() takes exactly one argument (6 given)"
     ]
    }
   ],
   "source": [
    "l.append(20,30,40,1+2j,True,'nit')"
   ]
  },
  {
   "cell_type": "code",
   "execution_count": 5,
   "id": "40c934e0-c56f-4484-a9bc-d7c5df7b455b",
   "metadata": {},
   "outputs": [],
   "source": [
    "l.append(10)\n",
    "l.append(20)\n",
    "l.append(30)\n",
    "l.append(2.3)\n",
    "l.append(4.6)\n",
    "l.append('nit')\n",
    "l.append(1+2j)\n"
   ]
  },
  {
   "cell_type": "code",
   "execution_count": 6,
   "id": "09dfd9f6-ac03-474e-987c-68ce7c6fceb0",
   "metadata": {},
   "outputs": [
    {
     "data": {
      "text/plain": [
       "[10, 20, 30, 2.3, 4.6, 'nit', (1+2j)]"
      ]
     },
     "execution_count": 6,
     "metadata": {},
     "output_type": "execute_result"
    }
   ],
   "source": [
    "l"
   ]
  },
  {
   "cell_type": "code",
   "execution_count": 7,
   "id": "a5792a02-caaf-42d2-830a-6a90d79b6196",
   "metadata": {},
   "outputs": [],
   "source": [
    "#nested indexing"
   ]
  },
  {
   "cell_type": "code",
   "execution_count": 8,
   "id": "d90094a5-9555-4fe1-8c0d-87bbdadfc5ef",
   "metadata": {},
   "outputs": [
    {
     "data": {
      "text/plain": [
       "5"
      ]
     },
     "execution_count": 8,
     "metadata": {},
     "output_type": "execute_result"
    }
   ],
   "source": [
    "l.index('nit')"
   ]
  },
  {
   "cell_type": "code",
   "execution_count": 9,
   "id": "b1b71f5d-1050-4a20-8b7d-acafb87fb086",
   "metadata": {},
   "outputs": [
    {
     "data": {
      "text/plain": [
       "'nit'"
      ]
     },
     "execution_count": 9,
     "metadata": {},
     "output_type": "execute_result"
    }
   ],
   "source": [
    "l[5]"
   ]
  },
  {
   "cell_type": "code",
   "execution_count": 10,
   "id": "158acada-fa4a-44be-9af3-ccdca1492edc",
   "metadata": {},
   "outputs": [
    {
     "data": {
      "text/plain": [
       "'n'"
      ]
     },
     "execution_count": 10,
     "metadata": {},
     "output_type": "execute_result"
    }
   ],
   "source": [
    "l[5][0]"
   ]
  },
  {
   "cell_type": "code",
   "execution_count": 11,
   "id": "f27a6e03-df8b-4fc4-a6d4-9df7082daff4",
   "metadata": {},
   "outputs": [
    {
     "name": "stdout",
     "output_type": "stream",
     "text": [
      "n\n",
      "i\n",
      "t\n"
     ]
    }
   ],
   "source": [
    "print(l[5][0])\n",
    "print(l[5][1])\n",
    "print(l[5][2])"
   ]
  },
  {
   "cell_type": "code",
   "execution_count": 12,
   "id": "a9dee6a1-6785-473c-9313-188d3ddff214",
   "metadata": {},
   "outputs": [
    {
     "data": {
      "text/plain": [
       "[10, 20, 30, 2.3, 4.6, 'nit', (1+2j)]"
      ]
     },
     "execution_count": 12,
     "metadata": {},
     "output_type": "execute_result"
    }
   ],
   "source": [
    "l"
   ]
  },
  {
   "cell_type": "code",
   "execution_count": 13,
   "id": "a488864d-fccb-4bbe-a9bf-603da6dc9900",
   "metadata": {},
   "outputs": [
    {
     "ename": "IndexError",
     "evalue": "list assignment index out of range",
     "output_type": "error",
     "traceback": [
      "\u001b[1;31m---------------------------------------------------------------------------\u001b[0m",
      "\u001b[1;31mIndexError\u001b[0m                                Traceback (most recent call last)",
      "Cell \u001b[1;32mIn[13], line 1\u001b[0m\n\u001b[1;32m----> 1\u001b[0m l[\u001b[38;5;241m7\u001b[39m]\u001b[38;5;241m=\u001b[39m\u001b[38;5;28;01mTrue\u001b[39;00m\n",
      "\u001b[1;31mIndexError\u001b[0m: list assignment index out of range"
     ]
    }
   ],
   "source": [
    "l[7]=True"
   ]
  },
  {
   "cell_type": "code",
   "execution_count": 14,
   "id": "7f84f130-e05a-4249-b34a-12f001e2e35a",
   "metadata": {},
   "outputs": [],
   "source": [
    "l.append(True)"
   ]
  },
  {
   "cell_type": "code",
   "execution_count": 15,
   "id": "ee186591-d7c1-4870-bceb-d531ef70a986",
   "metadata": {},
   "outputs": [
    {
     "data": {
      "text/plain": [
       "[10, 20, 30, 2.3, 4.6, 'nit', (1+2j), True]"
      ]
     },
     "execution_count": 15,
     "metadata": {},
     "output_type": "execute_result"
    }
   ],
   "source": [
    "l"
   ]
  },
  {
   "cell_type": "code",
   "execution_count": 16,
   "id": "520a1557-b9a5-43cb-bd90-1c4ce11462b6",
   "metadata": {},
   "outputs": [
    {
     "data": {
      "text/plain": [
       "True"
      ]
     },
     "execution_count": 16,
     "metadata": {},
     "output_type": "execute_result"
    }
   ],
   "source": [
    "l.pop()"
   ]
  },
  {
   "cell_type": "code",
   "execution_count": 17,
   "id": "8508a7ef-f58a-4347-a42d-95731401a306",
   "metadata": {},
   "outputs": [
    {
     "data": {
      "text/plain": [
       "[10, 20, 30, 2.3, 4.6, 'nit', (1+2j)]"
      ]
     },
     "execution_count": 17,
     "metadata": {},
     "output_type": "execute_result"
    }
   ],
   "source": [
    "l"
   ]
  },
  {
   "cell_type": "code",
   "execution_count": 18,
   "id": "c30dee68-0c8e-4cf7-912e-b82ac9bcfb05",
   "metadata": {},
   "outputs": [],
   "source": [
    "l.remove(1+2j)"
   ]
  },
  {
   "cell_type": "code",
   "execution_count": 19,
   "id": "6e88d64b-1042-4440-b3fa-015f7cb3ba92",
   "metadata": {},
   "outputs": [
    {
     "data": {
      "text/plain": [
       "[10, 20, 30, 2.3, 4.6, 'nit']"
      ]
     },
     "execution_count": 19,
     "metadata": {},
     "output_type": "execute_result"
    }
   ],
   "source": [
    "l"
   ]
  },
  {
   "cell_type": "code",
   "execution_count": 20,
   "id": "f90c61bd-380e-4810-acf9-6f666b8499c8",
   "metadata": {},
   "outputs": [],
   "source": [
    "l.insert(1,15)#first index before the place where element has to be inserted .sexond one the element which has to be inserted ."
   ]
  },
  {
   "cell_type": "code",
   "execution_count": 21,
   "id": "6d9d3223-defd-4ba7-955e-ddd22f35475a",
   "metadata": {},
   "outputs": [
    {
     "data": {
      "text/plain": [
       "[10, 15, 20, 30, 2.3, 4.6, 'nit']"
      ]
     },
     "execution_count": 21,
     "metadata": {},
     "output_type": "execute_result"
    }
   ],
   "source": [
    "l"
   ]
  },
  {
   "cell_type": "code",
   "execution_count": 22,
   "id": "56d4f548-5b2a-4020-92af-f532f6a00f26",
   "metadata": {},
   "outputs": [],
   "source": [
    "l1=l.copy()"
   ]
  },
  {
   "cell_type": "code",
   "execution_count": 23,
   "id": "220d478e-02c8-41be-b978-dec90bb95987",
   "metadata": {},
   "outputs": [
    {
     "data": {
      "text/plain": [
       "[10, 15, 20, 30, 2.3, 4.6, 'nit']"
      ]
     },
     "execution_count": 23,
     "metadata": {},
     "output_type": "execute_result"
    }
   ],
   "source": [
    "l1"
   ]
  },
  {
   "cell_type": "code",
   "execution_count": 24,
   "id": "ebe2f4db-7c7c-44d6-ab1b-679e3d7796c8",
   "metadata": {},
   "outputs": [
    {
     "data": {
      "text/plain": [
       "True"
      ]
     },
     "execution_count": 24,
     "metadata": {},
     "output_type": "execute_result"
    }
   ],
   "source": [
    "l==l1"
   ]
  },
  {
   "cell_type": "code",
   "execution_count": 25,
   "id": "08f8b576-18d6-45f1-be28-5647ccb872c0",
   "metadata": {},
   "outputs": [],
   "source": [
    "l3=[2,100,3,50,9]"
   ]
  },
  {
   "cell_type": "code",
   "execution_count": 26,
   "id": "cfedae84-1602-48dc-839b-566ff02ad74e",
   "metadata": {},
   "outputs": [
    {
     "data": {
      "text/plain": [
       "[2, 100, 3, 50, 9]"
      ]
     },
     "execution_count": 26,
     "metadata": {},
     "output_type": "execute_result"
    }
   ],
   "source": [
    "l3"
   ]
  },
  {
   "cell_type": "code",
   "execution_count": 27,
   "id": "19447212-4b80-4087-8034-f9786c509df5",
   "metadata": {},
   "outputs": [],
   "source": [
    "l3.reverse()"
   ]
  },
  {
   "cell_type": "code",
   "execution_count": 28,
   "id": "a9e189b7-d614-4e85-9b18-70ccafa4bcef",
   "metadata": {},
   "outputs": [
    {
     "data": {
      "text/plain": [
       "[9, 50, 3, 100, 2]"
      ]
     },
     "execution_count": 28,
     "metadata": {},
     "output_type": "execute_result"
    }
   ],
   "source": [
    "l3"
   ]
  },
  {
   "cell_type": "code",
   "execution_count": 29,
   "id": "90eec887-1fd8-4dea-8db0-99148bf26f9c",
   "metadata": {},
   "outputs": [],
   "source": [
    "l3.sort()#ascending "
   ]
  },
  {
   "cell_type": "code",
   "execution_count": 30,
   "id": "df862ef8-0e2f-4450-8777-cd12d05ee494",
   "metadata": {},
   "outputs": [
    {
     "data": {
      "text/plain": [
       "[2, 3, 9, 50, 100]"
      ]
     },
     "execution_count": 30,
     "metadata": {},
     "output_type": "execute_result"
    }
   ],
   "source": [
    "l3"
   ]
  },
  {
   "cell_type": "code",
   "execution_count": 31,
   "id": "1384eeff-1181-4fdd-bd2c-08a4d7cf055f",
   "metadata": {},
   "outputs": [],
   "source": [
    "l3.sort(reverse=True)#descending"
   ]
  },
  {
   "cell_type": "code",
   "execution_count": 32,
   "id": "c7c7519a-b663-4f44-998a-345e0ebd769e",
   "metadata": {},
   "outputs": [
    {
     "data": {
      "text/plain": [
       "[100, 50, 9, 3, 2]"
      ]
     },
     "execution_count": 32,
     "metadata": {},
     "output_type": "execute_result"
    }
   ],
   "source": [
    "l3"
   ]
  },
  {
   "cell_type": "code",
   "execution_count": 33,
   "id": "e29d654c-710e-43f9-a122-f58bfccfe0ae",
   "metadata": {},
   "outputs": [],
   "source": [
    "l3.sort(reverse=False)"
   ]
  },
  {
   "cell_type": "code",
   "execution_count": 34,
   "id": "783ab456-525e-4d63-902a-b4bb678210f6",
   "metadata": {},
   "outputs": [
    {
     "data": {
      "text/plain": [
       "[2, 3, 9, 50, 100]"
      ]
     },
     "execution_count": 34,
     "metadata": {},
     "output_type": "execute_result"
    }
   ],
   "source": [
    "l3"
   ]
  },
  {
   "cell_type": "code",
   "execution_count": 35,
   "id": "3b8f40cb-9063-4fec-afc2-f3ab8b6204c1",
   "metadata": {},
   "outputs": [],
   "source": [
    "l3.extend(l)#concaded the lists"
   ]
  },
  {
   "cell_type": "code",
   "execution_count": 37,
   "id": "5d4413fd-bc5e-4bb4-a1ad-0be96f751e50",
   "metadata": {},
   "outputs": [
    {
     "data": {
      "text/plain": [
       "[2, 3, 9, 50, 100, 10, 15, 20, 30, 2.3, 4.6, 'nit']"
      ]
     },
     "execution_count": 37,
     "metadata": {},
     "output_type": "execute_result"
    }
   ],
   "source": [
    "l3"
   ]
  },
  {
   "cell_type": "code",
   "execution_count": 38,
   "id": "57e4b154-3267-4ea2-9dbd-ebc33a0d5ee3",
   "metadata": {},
   "outputs": [
    {
     "data": {
      "text/plain": [
       "True"
      ]
     },
     "execution_count": 38,
     "metadata": {},
     "output_type": "execute_result"
    }
   ],
   "source": [
    "2 in l3 #list membership"
   ]
  },
  {
   "cell_type": "code",
   "execution_count": 39,
   "id": "0569045d-eb0d-4ab0-9a40-db5dfac0c57b",
   "metadata": {},
   "outputs": [
    {
     "data": {
      "text/plain": [
       "False"
      ]
     },
     "execution_count": 39,
     "metadata": {},
     "output_type": "execute_result"
    }
   ],
   "source": [
    "200 in l3"
   ]
  },
  {
   "cell_type": "code",
   "execution_count": 40,
   "id": "838672f2-bc34-46c5-89f7-4c9908732e46",
   "metadata": {},
   "outputs": [
    {
     "data": {
      "text/plain": [
       "[2, 3, 9, 50, 100, 10, 15, 20, 30, 2.3, 4.6, 'nit']"
      ]
     },
     "execution_count": 40,
     "metadata": {},
     "output_type": "execute_result"
    }
   ],
   "source": [
    "l3[:]3entire list"
   ]
  },
  {
   "cell_type": "code",
   "execution_count": 41,
   "id": "2be6ec98-e162-4402-823d-77ec89f06acb",
   "metadata": {},
   "outputs": [
    {
     "data": {
      "text/plain": [
       "[100, 10, 15, 20, 30, 2.3, 4.6, 'nit']"
      ]
     },
     "execution_count": 41,
     "metadata": {},
     "output_type": "execute_result"
    }
   ],
   "source": [
    "l3[4:]#from index 4"
   ]
  },
  {
   "cell_type": "code",
   "execution_count": 42,
   "id": "2287414a-471d-45a8-a6e5-8e2e98b36da6",
   "metadata": {},
   "outputs": [
    {
     "data": {
      "text/plain": [
       "[2, 3, 9, 50]"
      ]
     },
     "execution_count": 42,
     "metadata": {},
     "output_type": "execute_result"
    }
   ],
   "source": [
    "l3[:4]#till index 4"
   ]
  },
  {
   "cell_type": "code",
   "execution_count": 43,
   "id": "cb8e977f-d41e-4a20-806f-a12ab320029a",
   "metadata": {},
   "outputs": [
    {
     "data": {
      "text/plain": [
       "[2, 3, 9, 50, 100, 10, 15]"
      ]
     },
     "execution_count": 43,
     "metadata": {},
     "output_type": "execute_result"
    }
   ],
   "source": [
    "l3[:7]"
   ]
  },
  {
   "cell_type": "code",
   "execution_count": 44,
   "id": "3a8a6670-66d1-4534-9ecf-b236ed6a62ec",
   "metadata": {},
   "outputs": [
    {
     "data": {
      "text/plain": [
       "4.6"
      ]
     },
     "execution_count": 44,
     "metadata": {},
     "output_type": "execute_result"
    }
   ],
   "source": [
    "l3[10]"
   ]
  },
  {
   "cell_type": "code",
   "execution_count": 45,
   "id": "870a179d-372a-4f1d-81df-d237a814a5dd",
   "metadata": {},
   "outputs": [
    {
     "ename": "IndexError",
     "evalue": "list index out of range",
     "output_type": "error",
     "traceback": [
      "\u001b[1;31m---------------------------------------------------------------------------\u001b[0m",
      "\u001b[1;31mIndexError\u001b[0m                                Traceback (most recent call last)",
      "Cell \u001b[1;32mIn[45], line 1\u001b[0m\n\u001b[1;32m----> 1\u001b[0m l[\u001b[38;5;241m10\u001b[39m]\n",
      "\u001b[1;31mIndexError\u001b[0m: list index out of range"
     ]
    }
   ],
   "source": [
    "l[10]"
   ]
  },
  {
   "cell_type": "code",
   "execution_count": 46,
   "id": "9302d2ac-3b0e-4fa2-aac2-aaf758919611",
   "metadata": {},
   "outputs": [
    {
     "data": {
      "text/plain": [
       "[]"
      ]
     },
     "execution_count": 46,
     "metadata": {},
     "output_type": "execute_result"
    }
   ],
   "source": [
    "l[10:]#print from 10th index"
   ]
  },
  {
   "cell_type": "code",
   "execution_count": 47,
   "id": "505c721e-fc29-4166-be6f-14b58e5a0b28",
   "metadata": {},
   "outputs": [
    {
     "data": {
      "text/plain": [
       "[10, 15, 20, 30, 2.3, 4.6, 'nit']"
      ]
     },
     "execution_count": 47,
     "metadata": {},
     "output_type": "execute_result"
    }
   ],
   "source": [
    "l[:10]#print value from 0 to last "
   ]
  },
  {
   "cell_type": "code",
   "execution_count": 48,
   "id": "6563b838-5832-4f88-a057-fc305fed34fd",
   "metadata": {},
   "outputs": [],
   "source": [
    "l[-1]='mit'"
   ]
  },
  {
   "cell_type": "code",
   "execution_count": 49,
   "id": "12c89846-4104-486b-aa8b-7ddaf2b2e490",
   "metadata": {},
   "outputs": [
    {
     "data": {
      "text/plain": [
       "[10, 15, 20, 30, 2.3, 4.6, 'mit']"
      ]
     },
     "execution_count": 49,
     "metadata": {},
     "output_type": "execute_result"
    }
   ],
   "source": [
    "l"
   ]
  },
  {
   "cell_type": "code",
   "execution_count": null,
   "id": "e19fe336-c6fe-46b1-af85-c01253aa4bea",
   "metadata": {},
   "outputs": [],
   "source": []
  }
 ],
 "metadata": {
  "kernelspec": {
   "display_name": "Python [conda env:base] *",
   "language": "python",
   "name": "conda-base-py"
  },
  "language_info": {
   "codemirror_mode": {
    "name": "ipython",
    "version": 3
   },
   "file_extension": ".py",
   "mimetype": "text/x-python",
   "name": "python",
   "nbconvert_exporter": "python",
   "pygments_lexer": "ipython3",
   "version": "3.12.7"
  }
 },
 "nbformat": 4,
 "nbformat_minor": 5
}
