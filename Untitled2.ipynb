{
 "cells": [
  {
   "cell_type": "code",
   "execution_count": 1,
   "id": "aee95212-e66f-4576-b3d9-7f56691581bb",
   "metadata": {},
   "outputs": [
    {
     "data": {
      "text/plain": [
       "int"
      ]
     },
     "execution_count": 1,
     "metadata": {},
     "output_type": "execute_result"
    }
   ],
   "source": [
    "a=5\n",
    "type(a)"
   ]
  },
  {
   "cell_type": "code",
   "execution_count": 1,
   "id": "468a05ad-b697-465b-82bf-13551fd4fa8a",
   "metadata": {},
   "outputs": [
    {
     "data": {
      "text/plain": [
       "int"
      ]
     },
     "execution_count": 1,
     "metadata": {},
     "output_type": "execute_result"
    }
   ],
   "source": [
    "a=5\n",
    "type(a)"
   ]
  },
  {
   "cell_type": "code",
   "execution_count": 2,
   "id": "4faed154-cd44-4f98-a829-b28df120f6fe",
   "metadata": {},
   "outputs": [
    {
     "data": {
      "text/plain": [
       "float"
      ]
     },
     "execution_count": 2,
     "metadata": {},
     "output_type": "execute_result"
    }
   ],
   "source": [
    "a=5.5\n",
    "type(a)"
   ]
  },
  {
   "cell_type": "code",
   "execution_count": 3,
   "id": "834bdea7-58bd-485f-ade8-d021fc43e9aa",
   "metadata": {},
   "outputs": [
    {
     "data": {
      "text/plain": [
       "str"
      ]
     },
     "execution_count": 3,
     "metadata": {},
     "output_type": "execute_result"
    }
   ],
   "source": [
    "c='nit'\n",
    "type(c)"
   ]
  },
  {
   "cell_type": "code",
   "execution_count": 4,
   "id": "c2e88f4b-eef4-4e2f-b430-6bce9a399153",
   "metadata": {},
   "outputs": [
    {
     "data": {
      "text/plain": [
       "complex"
      ]
     },
     "execution_count": 4,
     "metadata": {},
     "output_type": "execute_result"
    }
   ],
   "source": [
    "d=1+2j\n",
    "type(d)"
   ]
  },
  {
   "cell_type": "code",
   "execution_count": 5,
   "id": "7e557560-d145-41aa-92e6-f02483b2b4ca",
   "metadata": {},
   "outputs": [
    {
     "data": {
      "text/plain": [
       "bool"
      ]
     },
     "execution_count": 5,
     "metadata": {},
     "output_type": "execute_result"
    }
   ],
   "source": [
    "e=True\n",
    "type(e)"
   ]
  },
  {
   "cell_type": "markdown",
   "id": "11ea0210-7a28-41b2-82f1-50837603561f",
   "metadata": {},
   "source": [
    "#data structures"
   ]
  },
  {
   "cell_type": "code",
   "execution_count": 6,
   "id": "cd35d692-e0cb-4db6-b66a-c088c8d237b9",
   "metadata": {},
   "outputs": [
    {
     "data": {
      "text/plain": [
       "[]"
      ]
     },
     "execution_count": 6,
     "metadata": {},
     "output_type": "execute_result"
    }
   ],
   "source": [
    "l=[]\n",
    "l"
   ]
  },
  {
   "cell_type": "code",
   "execution_count": 7,
   "id": "0915c49d-30fa-43c5-97e9-c43f9e9af0e8",
   "metadata": {},
   "outputs": [
    {
     "data": {
      "text/plain": [
       "list"
      ]
     },
     "execution_count": 7,
     "metadata": {},
     "output_type": "execute_result"
    }
   ],
   "source": [
    "type(l)"
   ]
  },
  {
   "cell_type": "code",
   "execution_count": 8,
   "id": "e04f4811-44ca-4e3f-b207-2ae389779f6d",
   "metadata": {},
   "outputs": [
    {
     "data": {
      "text/plain": [
       "[10, 20]"
      ]
     },
     "execution_count": 8,
     "metadata": {},
     "output_type": "execute_result"
    }
   ],
   "source": [
    "l.append(10)\n",
    "l.append(20)\n",
    "l"
   ]
  },
  {
   "cell_type": "code",
   "execution_count": 9,
   "id": "d3da691d-353e-4bac-ad67-47a48ed89dae",
   "metadata": {},
   "outputs": [
    {
     "data": {
      "text/plain": [
       "[10, 20, 30, 40, 10]"
      ]
     },
     "execution_count": 9,
     "metadata": {},
     "output_type": "execute_result"
    }
   ],
   "source": [
    "l.append(30)\n",
    "l.append(40)\n",
    "l.append(10)\n",
    "l"
   ]
  },
  {
   "cell_type": "code",
   "execution_count": 10,
   "id": "1a65cf7c-7832-445a-b03c-e2451c6226ce",
   "metadata": {},
   "outputs": [
    {
     "data": {
      "text/plain": [
       "5"
      ]
     },
     "execution_count": 10,
     "metadata": {},
     "output_type": "execute_result"
    }
   ],
   "source": [
    "len(l)"
   ]
  },
  {
   "cell_type": "code",
   "execution_count": 13,
   "id": "3440fde9-6357-4b7b-9b88-dc18cd8d903f",
   "metadata": {},
   "outputs": [
    {
     "data": {
      "text/plain": [
       "[10, 20, 30, 40, 10]"
      ]
     },
     "execution_count": 13,
     "metadata": {},
     "output_type": "execute_result"
    }
   ],
   "source": [
    "l10=[]\n",
    "l10=l.copy()\n",
    "l10"
   ]
  },
  {
   "cell_type": "raw",
   "id": "da42ec79-6839-478e-a0d2-c27bc0b4c84a",
   "metadata": {},
   "source": [
    "print(l)\n",
    "print(l10)"
   ]
  },
  {
   "cell_type": "code",
   "execution_count": 14,
   "id": "7a99f7ed-0b72-4dd4-89a6-9198c633ee36",
   "metadata": {},
   "outputs": [
    {
     "name": "stdout",
     "output_type": "stream",
     "text": [
      "[10, 20, 30, 40, 10]\n",
      "[10, 20, 30, 40, 10]\n"
     ]
    }
   ],
   "source": [
    "print(l)\n",
    "print(l10)"
   ]
  },
  {
   "cell_type": "code",
   "execution_count": 19,
   "id": "2e345e46-70bb-4239-b3f0-2358afd67d6e",
   "metadata": {},
   "outputs": [],
   "source": [
    "l9=[]\n",
    "l9.append(2.3)\n",
    "l9.append('nit')#different types of data types are inserted \n",
    "l9.append(True)\n",
    "l9.append(1+2j)\n",
    "l9.append([1,2,3])"
   ]
  },
  {
   "cell_type": "code",
   "execution_count": 20,
   "id": "6e8cdccb-ff23-4581-b85e-a7542fbd78b7",
   "metadata": {},
   "outputs": [
    {
     "data": {
      "text/plain": [
       "[2.3, 'nit', True, (1+2j), [1, 2, 3]]"
      ]
     },
     "execution_count": 20,
     "metadata": {},
     "output_type": "execute_result"
    }
   ],
   "source": [
    "l9"
   ]
  },
  {
   "cell_type": "code",
   "execution_count": 21,
   "id": "122551e2-8387-43d9-bc62-069c15fc63f4",
   "metadata": {},
   "outputs": [
    {
     "name": "stdout",
     "output_type": "stream",
     "text": [
      "[2.3, 'nit', True, (1+2j), [1, 2, 3]]\n"
     ]
    }
   ],
   "source": [
    "print(l9)"
   ]
  },
  {
   "cell_type": "code",
   "execution_count": 22,
   "id": "f63be2fd-86fb-4f89-a2a2-f8188f4567b4",
   "metadata": {},
   "outputs": [
    {
     "name": "stdout",
     "output_type": "stream",
     "text": [
      "5\n"
     ]
    }
   ],
   "source": [
    "print(len(l9))"
   ]
  },
  {
   "cell_type": "code",
   "execution_count": 23,
   "id": "fea2a2f3-9fed-44c2-bf1f-9de89e7db3aa",
   "metadata": {},
   "outputs": [
    {
     "name": "stdout",
     "output_type": "stream",
     "text": [
      "3235614389568\n",
      "3235559740800\n",
      "3235600477376\n"
     ]
    }
   ],
   "source": [
    "print(id(l9))\n",
    "print(id(l))\n",
    "print(id(l10))\n"
   ]
  },
  {
   "cell_type": "code",
   "execution_count": 24,
   "id": "e38d06b4-448f-4b10-aca8-97a608486541",
   "metadata": {},
   "outputs": [
    {
     "data": {
      "text/plain": [
       "1"
      ]
     },
     "execution_count": 24,
     "metadata": {},
     "output_type": "execute_result"
    }
   ],
   "source": [
    "l9.count('nit')"
   ]
  },
  {
   "cell_type": "code",
   "execution_count": 25,
   "id": "8e7192e6-5d31-4ba3-a6c1-4f19c811622c",
   "metadata": {},
   "outputs": [
    {
     "data": {
      "text/plain": [
       "2.3"
      ]
     },
     "execution_count": 25,
     "metadata": {},
     "output_type": "execute_result"
    }
   ],
   "source": [
    "l9[0]"
   ]
  },
  {
   "cell_type": "code",
   "execution_count": 26,
   "id": "58512c85-d973-4475-9f24-eae4082184db",
   "metadata": {},
   "outputs": [
    {
     "data": {
      "text/plain": [
       "(1+2j)"
      ]
     },
     "execution_count": 26,
     "metadata": {},
     "output_type": "execute_result"
    }
   ],
   "source": [
    "l9[3]"
   ]
  },
  {
   "cell_type": "code",
   "execution_count": 27,
   "id": "a3a8b32d-3056-454f-afba-cb10a04a7030",
   "metadata": {},
   "outputs": [
    {
     "data": {
      "text/plain": [
       "[1, 2, 3]"
      ]
     },
     "execution_count": 27,
     "metadata": {},
     "output_type": "execute_result"
    }
   ],
   "source": [
    "l9[-1]"
   ]
  },
  {
   "cell_type": "code",
   "execution_count": 28,
   "id": "e5c127c6-4cb7-4ccc-bd41-e0fceb1f5844",
   "metadata": {},
   "outputs": [
    {
     "data": {
      "text/plain": [
       "(1+2j)"
      ]
     },
     "execution_count": 28,
     "metadata": {},
     "output_type": "execute_result"
    }
   ],
   "source": [
    "l9[-2]"
   ]
  },
  {
   "cell_type": "code",
   "execution_count": 29,
   "id": "c047636f-f4d5-413d-9638-1ca4103d0ecd",
   "metadata": {},
   "outputs": [
    {
     "data": {
      "text/plain": [
       "True"
      ]
     },
     "execution_count": 29,
     "metadata": {},
     "output_type": "execute_result"
    }
   ],
   "source": [
    "l9[-3]"
   ]
  },
  {
   "cell_type": "code",
   "execution_count": 30,
   "id": "dc9a66c2-0a11-4661-a08c-831018ad0665",
   "metadata": {},
   "outputs": [
    {
     "data": {
      "text/plain": [
       "[230, 'nit', True, (1+2j), [1, 2, 3]]"
      ]
     },
     "execution_count": 30,
     "metadata": {},
     "output_type": "execute_result"
    }
   ],
   "source": [
    "l9[0]=230\n",
    "l9"
   ]
  },
  {
   "cell_type": "code",
   "execution_count": 31,
   "id": "020fa5aa-bf20-4c10-98f1-18a7dcb0c81e",
   "metadata": {},
   "outputs": [
    {
     "data": {
      "text/plain": [
       "[]"
      ]
     },
     "execution_count": 31,
     "metadata": {},
     "output_type": "execute_result"
    }
   ],
   "source": [
    "l10.clear()\n",
    "l10"
   ]
  },
  {
   "cell_type": "code",
   "execution_count": 32,
   "id": "8af56b23-cf8a-4d28-b4b7-fe99e8baaa82",
   "metadata": {},
   "outputs": [
    {
     "data": {
      "text/plain": [
       "0"
      ]
     },
     "execution_count": 32,
     "metadata": {},
     "output_type": "execute_result"
    }
   ],
   "source": [
    "len(l10)"
   ]
  },
  {
   "cell_type": "code",
   "execution_count": 34,
   "id": "495f7b45-a1aa-4354-9a25-b87d846d1ac8",
   "metadata": {},
   "outputs": [],
   "source": [
    "del l10 #deleting all the elements ."
   ]
  },
  {
   "cell_type": "markdown",
   "id": "d22f23a8-c39f-4954-bccb-cb5c35a04e04",
   "metadata": {},
   "source": [
    "l10"
   ]
  },
  {
   "cell_type": "code",
   "execution_count": 35,
   "id": "fa938ffc-38b9-47e4-9f4a-b1b30250d20a",
   "metadata": {},
   "outputs": [
    {
     "ename": "NameError",
     "evalue": "name 'l10' is not defined",
     "output_type": "error",
     "traceback": [
      "\u001b[1;31m---------------------------------------------------------------------------\u001b[0m",
      "\u001b[1;31mNameError\u001b[0m                                 Traceback (most recent call last)",
      "Cell \u001b[1;32mIn[35], line 1\u001b[0m\n\u001b[1;32m----> 1\u001b[0m l10\n",
      "\u001b[1;31mNameError\u001b[0m: name 'l10' is not defined"
     ]
    }
   ],
   "source": [
    "l10"
   ]
  },
  {
   "cell_type": "code",
   "execution_count": 38,
   "id": "fcda9db5-a292-4492-997e-8210e7c78e05",
   "metadata": {},
   "outputs": [
    {
     "data": {
      "text/plain": [
       "[1, 2, 3]"
      ]
     },
     "execution_count": 38,
     "metadata": {},
     "output_type": "execute_result"
    }
   ],
   "source": [
    "l9.pop() #by defualt the last element is removed "
   ]
  },
  {
   "cell_type": "code",
   "execution_count": 39,
   "id": "8e2ce364-6479-464a-b47d-8ca609d0d937",
   "metadata": {},
   "outputs": [
    {
     "data": {
      "text/plain": [
       "[230, 'nit', True, (1+2j)]"
      ]
     },
     "execution_count": 39,
     "metadata": {},
     "output_type": "execute_result"
    }
   ],
   "source": [
    "l9\n"
   ]
  },
  {
   "cell_type": "code",
   "execution_count": 40,
   "id": "98644d2f-565c-450c-ad20-15d445b08b4e",
   "metadata": {},
   "outputs": [
    {
     "data": {
      "text/plain": [
       "'nit'"
      ]
     },
     "execution_count": 40,
     "metadata": {},
     "output_type": "execute_result"
    }
   ],
   "source": [
    "l9.pop(1)#passing the index will remove the specific element and return it ."
   ]
  },
  {
   "cell_type": "code",
   "execution_count": 41,
   "id": "30839ad0-27b0-4684-839e-7c297484a4e5",
   "metadata": {},
   "outputs": [],
   "source": [
    "l9.remove(True)#just passing the element will remove it"
   ]
  },
  {
   "cell_type": "code",
   "execution_count": 42,
   "id": "47b489d0-a854-447d-a2aa-f5877bb4820f",
   "metadata": {},
   "outputs": [
    {
     "data": {
      "text/plain": [
       "[230, (1+2j)]"
      ]
     },
     "execution_count": 42,
     "metadata": {},
     "output_type": "execute_result"
    }
   ],
   "source": [
    "l9"
   ]
  },
  {
   "cell_type": "code",
   "execution_count": null,
   "id": "57302c91-63b1-414e-930c-1989eedef1f9",
   "metadata": {},
   "outputs": [],
   "source": []
  }
 ],
 "metadata": {
  "kernelspec": {
   "display_name": "Python [conda env:base] *",
   "language": "python",
   "name": "conda-base-py"
  },
  "language_info": {
   "codemirror_mode": {
    "name": "ipython",
    "version": 3
   },
   "file_extension": ".py",
   "mimetype": "text/x-python",
   "name": "python",
   "nbconvert_exporter": "python",
   "pygments_lexer": "ipython3",
   "version": "3.12.7"
  }
 },
 "nbformat": 4,
 "nbformat_minor": 5
}
