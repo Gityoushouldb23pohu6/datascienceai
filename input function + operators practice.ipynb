{
 "cells": [
  {
   "cell_type": "code",
   "execution_count": 1,
   "id": "71c4d770-1ae0-4748-9dc0-1e857a607459",
   "metadata": {},
   "outputs": [
    {
     "data": {
      "text/plain": [
       "2.0"
      ]
     },
     "execution_count": 1,
     "metadata": {},
     "output_type": "execute_result"
    }
   ],
   "source": [
    "8/4"
   ]
  },
  {
   "cell_type": "code",
   "execution_count": 2,
   "id": "7623b7d5-9f23-44b2-be08-3e83255067b4",
   "metadata": {},
   "outputs": [
    {
     "data": {
      "text/plain": [
       "1.6"
      ]
     },
     "execution_count": 2,
     "metadata": {},
     "output_type": "execute_result"
    }
   ],
   "source": [
    "8/5"
   ]
  },
  {
   "cell_type": "code",
   "execution_count": 3,
   "id": "b8be139e-dbe2-42f1-9aa7-b8fcf6e3ae80",
   "metadata": {},
   "outputs": [
    {
     "data": {
      "text/plain": [
       "1"
      ]
     },
     "execution_count": 3,
     "metadata": {},
     "output_type": "execute_result"
    }
   ],
   "source": [
    "8//5"
   ]
  },
  {
   "cell_type": "code",
   "execution_count": 4,
   "id": "fc96ddb9-03b7-43b5-9a64-7284af84ef26",
   "metadata": {},
   "outputs": [
    {
     "data": {
      "text/plain": [
       "10"
      ]
     },
     "execution_count": 4,
     "metadata": {},
     "output_type": "execute_result"
    }
   ],
   "source": [
    "8+9-7"
   ]
  },
  {
   "cell_type": "code",
   "execution_count": 5,
   "id": "52864e52-871b-4b6f-9cf4-49ec3c54a1d1",
   "metadata": {},
   "outputs": [
    {
     "ename": "SyntaxError",
     "evalue": "invalid syntax (3517709320.py, line 1)",
     "output_type": "error",
     "traceback": [
      "\u001b[1;36m  Cell \u001b[1;32mIn[5], line 1\u001b[1;36m\u001b[0m\n\u001b[1;33m    8+8-\u001b[0m\n\u001b[1;37m        ^\u001b[0m\n\u001b[1;31mSyntaxError\u001b[0m\u001b[1;31m:\u001b[0m invalid syntax\n"
     ]
    }
   ],
   "source": [
    "8+8-"
   ]
  },
  {
   "cell_type": "code",
   "execution_count": 6,
   "id": "746b3495-f343-4824-8c09-efd4e97cba5f",
   "metadata": {},
   "outputs": [
    {
     "data": {
      "text/plain": [
       "30"
      ]
     },
     "execution_count": 6,
     "metadata": {},
     "output_type": "execute_result"
    }
   ],
   "source": [
    "5+5*5"
   ]
  },
  {
   "cell_type": "code",
   "execution_count": 7,
   "id": "18533fa3-aea0-4793-b5f5-3f4e076d35f9",
   "metadata": {},
   "outputs": [
    {
     "data": {
      "text/plain": [
       "50"
      ]
     },
     "execution_count": 7,
     "metadata": {},
     "output_type": "execute_result"
    }
   ],
   "source": [
    "(5+5)*5"
   ]
  },
  {
   "cell_type": "code",
   "execution_count": 11,
   "id": "60a89c0b-c2ba-4d53-af22-af4a612bfb17",
   "metadata": {},
   "outputs": [
    {
     "data": {
      "text/plain": [
       "7"
      ]
     },
     "execution_count": 11,
     "metadata": {},
     "output_type": "execute_result"
    }
   ],
   "source": [
    "15//2\n"
   ]
  },
  {
   "cell_type": "code",
   "execution_count": 12,
   "id": "e9f56a9b-bdc2-448c-ba85-da8c64f535b6",
   "metadata": {},
   "outputs": [
    {
     "data": {
      "text/plain": [
       "1"
      ]
     },
     "execution_count": 12,
     "metadata": {},
     "output_type": "execute_result"
    }
   ],
   "source": [
    "15 %2"
   ]
  },
  {
   "cell_type": "code",
   "execution_count": 13,
   "id": "860cd8b7-8e9c-443b-ba1b-628970b0fd20",
   "metadata": {},
   "outputs": [
    {
     "data": {
      "text/plain": [
       "0"
      ]
     },
     "execution_count": 13,
     "metadata": {},
     "output_type": "execute_result"
    }
   ],
   "source": [
    "14 % 2"
   ]
  },
  {
   "cell_type": "code",
   "execution_count": 15,
   "id": "cb718c82-b71f-40ce-836f-aea23fc3becb",
   "metadata": {},
   "outputs": [],
   "source": [
    "a,b,c,d,e= 5,17.8, 1+2j,True,'nit'"
   ]
  },
  {
   "cell_type": "code",
   "execution_count": 16,
   "id": "20679c72-1062-4b3d-98c6-ffa5e2cdc945",
   "metadata": {},
   "outputs": [
    {
     "name": "stdout",
     "output_type": "stream",
     "text": [
      "5\n"
     ]
    }
   ],
   "source": [
    "print(a)"
   ]
  },
  {
   "cell_type": "code",
   "execution_count": 19,
   "id": "37c73447-809f-4f11-bb98-75a8da09fb76",
   "metadata": {},
   "outputs": [
    {
     "name": "stdout",
     "output_type": "stream",
     "text": [
      "17.8\n",
      "(1+2j)\n",
      "True\n",
      "nit\n"
     ]
    }
   ],
   "source": [
    "print(b)\n",
    "print(c)\n",
    "print(d)\n",
    "print(e)\n"
   ]
  },
  {
   "cell_type": "code",
   "execution_count": 20,
   "id": "9110baff-f857-46e0-b559-6ea12b4bc1b8",
   "metadata": {},
   "outputs": [
    {
     "name": "stdout",
     "output_type": "stream",
     "text": [
      "<class 'int'>\n",
      "<class 'float'>\n",
      "<class 'complex'>\n",
      "<class 'bool'>\n",
      "<class 'str'>\n"
     ]
    }
   ],
   "source": [
    "print(type(a))\n",
    "print(type(b))\n",
    "print(type(c))\n",
    "print(type(d))\n",
    "print(type(e))"
   ]
  },
  {
   "cell_type": "code",
   "execution_count": 21,
   "id": "a52bb4b0-c7aa-4f05-9a06-c725161cc0f7",
   "metadata": {},
   "outputs": [
    {
     "ename": "TypeError",
     "evalue": "unsupported operand type(s) for +: 'int' and 'str'",
     "output_type": "error",
     "traceback": [
      "\u001b[1;31m---------------------------------------------------------------------------\u001b[0m",
      "\u001b[1;31mTypeError\u001b[0m                                 Traceback (most recent call last)",
      "Cell \u001b[1;32mIn[21], line 3\u001b[0m\n\u001b[0;32m      1\u001b[0m a\u001b[38;5;241m=\u001b[39m\u001b[38;5;241m3\u001b[39m\n\u001b[0;32m      2\u001b[0m b\u001b[38;5;241m=\u001b[39m\u001b[38;5;124m'\u001b[39m\u001b[38;5;124mhi\u001b[39m\u001b[38;5;124m'\u001b[39m\n\u001b[1;32m----> 3\u001b[0m a\u001b[38;5;241m+\u001b[39mb\n",
      "\u001b[1;31mTypeError\u001b[0m: unsupported operand type(s) for +: 'int' and 'str'"
     ]
    }
   ],
   "source": [
    "a=3\n",
    "b='hi'\n",
    "a+b"
   ]
  },
  {
   "cell_type": "code",
   "execution_count": 22,
   "id": "3a9a9a2c-cb09-455a-84b4-1791b5721ab4",
   "metadata": {},
   "outputs": [
    {
     "ename": "SyntaxError",
     "evalue": "unterminated string literal (detected at line 1) (4280569398.py, line 1)",
     "output_type": "error",
     "traceback": [
      "\u001b[1;36m  Cell \u001b[1;32mIn[22], line 1\u001b[1;36m\u001b[0m\n\u001b[1;33m    print('naresh it's technology')\u001b[0m\n\u001b[1;37m                                 ^\u001b[0m\n\u001b[1;31mSyntaxError\u001b[0m\u001b[1;31m:\u001b[0m unterminated string literal (detected at line 1)\n"
     ]
    }
   ],
   "source": [
    "print('naresh it's technology')"
   ]
  },
  {
   "cell_type": "code",
   "execution_count": 23,
   "id": "e3bcba37-fa4c-41f5-82f8-035a51461bbf",
   "metadata": {},
   "outputs": [
    {
     "name": "stdout",
     "output_type": "stream",
     "text": [
      "naresh it's technology\n"
     ]
    }
   ],
   "source": [
    "print('naresh it\\'s technology')"
   ]
  },
  {
   "cell_type": "code",
   "execution_count": 24,
   "id": "7dfb6e64-1ca9-4c08-aef3-e9ebb8d12918",
   "metadata": {},
   "outputs": [
    {
     "name": "stdout",
     "output_type": "stream",
     "text": [
      "naresh  technology\n"
     ]
    }
   ],
   "source": [
    "print('naresh ','technology')"
   ]
  },
  {
   "cell_type": "code",
   "execution_count": 25,
   "id": "37944f5b-52b9-4ee7-bc12-8126479e0fea",
   "metadata": {},
   "outputs": [
    {
     "name": "stdout",
     "output_type": "stream",
     "text": [
      "naresh ','technology\n"
     ]
    }
   ],
   "source": [
    "print(\"naresh ','technology\")"
   ]
  },
  {
   "cell_type": "code",
   "execution_count": 26,
   "id": "54ccf79e-44c8-45b4-a011-cf53763ece1c",
   "metadata": {},
   "outputs": [
    {
     "data": {
      "text/plain": [
       "'nit nit'"
      ]
     },
     "execution_count": 26,
     "metadata": {},
     "output_type": "execute_result"
    }
   ],
   "source": [
    "'nit' +' nit'"
   ]
  },
  {
   "cell_type": "code",
   "execution_count": 27,
   "id": "e906d9db-f5f6-45a0-b2ce-e178503f4e44",
   "metadata": {},
   "outputs": [
    {
     "data": {
      "text/plain": [
       "'nitnit'"
      ]
     },
     "execution_count": 27,
     "metadata": {},
     "output_type": "execute_result"
    }
   ],
   "source": [
    "'nit' 'nit'"
   ]
  },
  {
   "cell_type": "code",
   "execution_count": 28,
   "id": "48bb7d6d-e0fe-43a0-84dd-1cfd0cdd5564",
   "metadata": {},
   "outputs": [
    {
     "data": {
      "text/plain": [
       "'nitnitnitnitnit'"
      ]
     },
     "execution_count": 28,
     "metadata": {},
     "output_type": "execute_result"
    }
   ],
   "source": [
    "5*'nit'"
   ]
  },
  {
   "cell_type": "code",
   "execution_count": 29,
   "id": "d771f765-0137-4683-bc9e-182aab4bd9a4",
   "metadata": {},
   "outputs": [
    {
     "data": {
      "text/plain": [
       "' nit  nit  nit  nit  nit '"
      ]
     },
     "execution_count": 29,
     "metadata": {},
     "output_type": "execute_result"
    }
   ],
   "source": [
    "5*' nit '"
   ]
  },
  {
   "cell_type": "code",
   "execution_count": 31,
   "id": "3c64ca97-6c42-495d-8c70-203b75c09921",
   "metadata": {},
   "outputs": [
    {
     "name": "stdout",
     "output_type": "stream",
     "text": [
      "c:\n",
      "it\n"
     ]
    }
   ],
   "source": [
    "print('c:\\nit')"
   ]
  },
  {
   "cell_type": "code",
   "execution_count": 32,
   "id": "9ea4f35b-188d-4c9e-b4a4-181f4cf8a027",
   "metadata": {},
   "outputs": [
    {
     "name": "stdout",
     "output_type": "stream",
     "text": [
      "c:\\nit\n"
     ]
    }
   ],
   "source": [
    "print(r'c:\\nit')"
   ]
  },
  {
   "cell_type": "code",
   "execution_count": 33,
   "id": "c80cf04e-7776-40d7-a0ed-fea9f07555e8",
   "metadata": {},
   "outputs": [],
   "source": [
    "x=2\n"
   ]
  },
  {
   "cell_type": "code",
   "execution_count": 34,
   "id": "1bdad3fc-c365-45bc-bac0-d9e7e1aed414",
   "metadata": {},
   "outputs": [
    {
     "data": {
      "text/plain": [
       "2"
      ]
     },
     "execution_count": 34,
     "metadata": {},
     "output_type": "execute_result"
    }
   ],
   "source": [
    "x"
   ]
  },
  {
   "cell_type": "code",
   "execution_count": 35,
   "id": "fafe7a76-c4a0-41f4-97a1-af1b572ad874",
   "metadata": {},
   "outputs": [
    {
     "data": {
      "text/plain": [
       "5"
      ]
     },
     "execution_count": 35,
     "metadata": {},
     "output_type": "execute_result"
    }
   ],
   "source": [
    "x+3"
   ]
  },
  {
   "cell_type": "code",
   "execution_count": 36,
   "id": "6d97f688-3507-45e4-8859-a3e063bc3f24",
   "metadata": {},
   "outputs": [
    {
     "data": {
      "text/plain": [
       "3"
      ]
     },
     "execution_count": 36,
     "metadata": {},
     "output_type": "execute_result"
    }
   ],
   "source": [
    "y=3\n",
    "y"
   ]
  },
  {
   "cell_type": "code",
   "execution_count": 37,
   "id": "6bfc6ef7-e252-4f06-80c2-abd3b8b57471",
   "metadata": {},
   "outputs": [
    {
     "data": {
      "text/plain": [
       "9"
      ]
     },
     "execution_count": 37,
     "metadata": {},
     "output_type": "execute_result"
    }
   ],
   "source": [
    "x=9\n",
    "x"
   ]
  },
  {
   "cell_type": "code",
   "execution_count": 38,
   "id": "f1c2ad0d-5685-48ae-845c-ac1d547897fa",
   "metadata": {},
   "outputs": [
    {
     "data": {
      "text/plain": [
       "12"
      ]
     },
     "execution_count": 38,
     "metadata": {},
     "output_type": "execute_result"
    }
   ],
   "source": [
    "x+y"
   ]
  },
  {
   "cell_type": "code",
   "execution_count": 39,
   "id": "bb3b1080-05e2-418a-9663-ad5e50b2a9f0",
   "metadata": {},
   "outputs": [
    {
     "data": {
      "text/plain": [
       "19"
      ]
     },
     "execution_count": 39,
     "metadata": {},
     "output_type": "execute_result"
    }
   ],
   "source": [
    "x+10"
   ]
  },
  {
   "cell_type": "code",
   "execution_count": 44,
   "id": "f1862a15-5ad3-4788-b5fc-ba84a11a722c",
   "metadata": {},
   "outputs": [
    {
     "data": {
      "text/plain": [
       "12"
      ]
     },
     "execution_count": 44,
     "metadata": {},
     "output_type": "execute_result"
    }
   ],
   "source": [
    "x+y"
   ]
  },
  {
   "cell_type": "code",
   "execution_count": 46,
   "id": "d6139d7c-1433-4079-9c54-dc1c59722d80",
   "metadata": {},
   "outputs": [
    {
     "ename": "TypeError",
     "evalue": "can only concatenate str (not \"int\") to str",
     "output_type": "error",
     "traceback": [
      "\u001b[1;31m---------------------------------------------------------------------------\u001b[0m",
      "\u001b[1;31mTypeError\u001b[0m                                 Traceback (most recent call last)",
      "Cell \u001b[1;32mIn[46], line 1\u001b[0m\n\u001b[1;32m----> 1\u001b[0m _ \u001b[38;5;241m+\u001b[39m y\n",
      "\u001b[1;31mTypeError\u001b[0m: can only concatenate str (not \"int\") to str"
     ]
    }
   ],
   "source": [
    "_ + y\n",
    "\n",
    "\n",
    "\n",
    "\n"
   ]
  },
  {
   "cell_type": "code",
   "execution_count": 48,
   "id": "f798bb53-3c50-438d-8623-a14fcabc4781",
   "metadata": {},
   "outputs": [
    {
     "name": "stdout",
     "output_type": "stream",
     "text": [
      "_\n"
     ]
    }
   ],
   "source": [
    "print('_')"
   ]
  },
  {
   "cell_type": "code",
   "execution_count": 49,
   "id": "6138b880-2d95-4be9-9c91-a3ed85cad591",
   "metadata": {},
   "outputs": [
    {
     "data": {
      "text/plain": [
       "12"
      ]
     },
     "execution_count": 49,
     "metadata": {},
     "output_type": "execute_result"
    }
   ],
   "source": [
    "x+y"
   ]
  },
  {
   "cell_type": "code",
   "execution_count": 51,
   "id": "a2b35aa8-029f-4ea3-ac14-e1c410132892",
   "metadata": {},
   "outputs": [
    {
     "ename": "TypeError",
     "evalue": "can only concatenate str (not \"int\") to str",
     "output_type": "error",
     "traceback": [
      "\u001b[1;31m---------------------------------------------------------------------------\u001b[0m",
      "\u001b[1;31mTypeError\u001b[0m                                 Traceback (most recent call last)",
      "Cell \u001b[1;32mIn[51], line 1\u001b[0m\n\u001b[1;32m----> 1\u001b[0m _\u001b[38;5;241m+\u001b[39m\u001b[38;5;241m4\u001b[39m\n",
      "\u001b[1;31mTypeError\u001b[0m: can only concatenate str (not \"int\") to str"
     ]
    }
   ],
   "source": [
    "_+4"
   ]
  },
  {
   "cell_type": "code",
   "execution_count": 52,
   "id": "4a543331-2267-46cd-8afd-6b24aa2c52ee",
   "metadata": {},
   "outputs": [],
   "source": [
    "name='mit'\n"
   ]
  },
  {
   "cell_type": "code",
   "execution_count": 53,
   "id": "261c69ee-3e6c-4a9c-83fc-a659ff33e196",
   "metadata": {},
   "outputs": [
    {
     "data": {
      "text/plain": [
       "'mittechnology'"
      ]
     },
     "execution_count": 53,
     "metadata": {},
     "output_type": "execute_result"
    }
   ],
   "source": [
    "name+'technology'"
   ]
  },
  {
   "cell_type": "code",
   "execution_count": 54,
   "id": "dce73419-3981-4a7d-a162-f5bf8e748553",
   "metadata": {},
   "outputs": [
    {
     "ename": "SyntaxError",
     "evalue": "invalid syntax (3186014715.py, line 1)",
     "output_type": "error",
     "traceback": [
      "\u001b[1;36m  Cell \u001b[1;32mIn[54], line 1\u001b[1;36m\u001b[0m\n\u001b[1;33m    name 'technology'\u001b[0m\n\u001b[1;37m         ^\u001b[0m\n\u001b[1;31mSyntaxError\u001b[0m\u001b[1;31m:\u001b[0m invalid syntax\n"
     ]
    }
   ],
   "source": [
    "name 'technology'"
   ]
  },
  {
   "cell_type": "code",
   "execution_count": 55,
   "id": "97daa25f-5066-43a2-ab6e-daf0e524bdd9",
   "metadata": {},
   "outputs": [
    {
     "data": {
      "text/plain": [
       "'m'"
      ]
     },
     "execution_count": 55,
     "metadata": {},
     "output_type": "execute_result"
    }
   ],
   "source": [
    "name[0]"
   ]
  },
  {
   "cell_type": "code",
   "execution_count": 57,
   "id": "fee78350-ae57-49ca-946b-4ba702b3164c",
   "metadata": {},
   "outputs": [
    {
     "data": {
      "text/plain": [
       "'t'"
      ]
     },
     "execution_count": 57,
     "metadata": {},
     "output_type": "execute_result"
    }
   ],
   "source": [
    "name[2]"
   ]
  },
  {
   "cell_type": "code",
   "execution_count": 58,
   "id": "78a91a4b-825e-4932-9e15-c75c2d9809fd",
   "metadata": {},
   "outputs": [
    {
     "data": {
      "text/plain": [
       "'i'"
      ]
     },
     "execution_count": 58,
     "metadata": {},
     "output_type": "execute_result"
    }
   ],
   "source": [
    "name[-2]"
   ]
  },
  {
   "cell_type": "code",
   "execution_count": 59,
   "id": "85bcb503-e60f-4819-a6e2-48042e5a759b",
   "metadata": {},
   "outputs": [
    {
     "data": {
      "text/plain": [
       "'t'"
      ]
     },
     "execution_count": 59,
     "metadata": {},
     "output_type": "execute_result"
    }
   ],
   "source": [
    "name[-1]"
   ]
  },
  {
   "cell_type": "code",
   "execution_count": 60,
   "id": "ee1f34d8-efe6-4a3d-b291-d37b2afc5ff0",
   "metadata": {},
   "outputs": [
    {
     "data": {
      "text/plain": [
       "'mi'"
      ]
     },
     "execution_count": 60,
     "metadata": {},
     "output_type": "execute_result"
    }
   ],
   "source": [
    "name[0:2]"
   ]
  },
  {
   "cell_type": "code",
   "execution_count": 61,
   "id": "ca21ab66-ad10-42fa-8ee9-35fa229c887d",
   "metadata": {},
   "outputs": [
    {
     "data": {
      "text/plain": [
       "'it'"
      ]
     },
     "execution_count": 61,
     "metadata": {},
     "output_type": "execute_result"
    }
   ],
   "source": [
    "name[1:4]"
   ]
  },
  {
   "cell_type": "code",
   "execution_count": 62,
   "id": "eb074a64-c542-4345-9f56-59f9e7d8222d",
   "metadata": {},
   "outputs": [
    {
     "data": {
      "text/plain": [
       "'mit'"
      ]
     },
     "execution_count": 62,
     "metadata": {},
     "output_type": "execute_result"
    }
   ],
   "source": [
    "name[0:4]"
   ]
  },
  {
   "cell_type": "code",
   "execution_count": 63,
   "id": "6ecdf587-29e2-43d6-a2b6-324f70b3f910",
   "metadata": {},
   "outputs": [
    {
     "data": {
      "text/plain": [
       "'it'"
      ]
     },
     "execution_count": 63,
     "metadata": {},
     "output_type": "execute_result"
    }
   ],
   "source": [
    "name[1:]"
   ]
  },
  {
   "cell_type": "code",
   "execution_count": 64,
   "id": "70cc9d5c-f715-40af-81e4-db621f24b19b",
   "metadata": {},
   "outputs": [
    {
     "data": {
      "text/plain": [
       "'mit'"
      ]
     },
     "execution_count": 64,
     "metadata": {},
     "output_type": "execute_result"
    }
   ],
   "source": [
    "name[:4]"
   ]
  },
  {
   "cell_type": "code",
   "execution_count": 65,
   "id": "3e1b267d-c810-4976-8281-b7532d062f19",
   "metadata": {},
   "outputs": [
    {
     "data": {
      "text/plain": [
       "''"
      ]
     },
     "execution_count": 65,
     "metadata": {},
     "output_type": "execute_result"
    }
   ],
   "source": [
    "name[3:9]"
   ]
  },
  {
   "cell_type": "code",
   "execution_count": 66,
   "id": "b595eeea-da6a-41cf-8d5a-56ff7121ec81",
   "metadata": {},
   "outputs": [],
   "source": [
    "name='fine'"
   ]
  },
  {
   "cell_type": "code",
   "execution_count": 67,
   "id": "5fe1a043-b28d-474c-b2b3-396e98cee101",
   "metadata": {},
   "outputs": [
    {
     "data": {
      "text/plain": [
       "'f'"
      ]
     },
     "execution_count": 67,
     "metadata": {},
     "output_type": "execute_result"
    }
   ],
   "source": [
    "name[0:1]"
   ]
  },
  {
   "cell_type": "code",
   "execution_count": 68,
   "id": "2013c4ea-346f-43c4-907d-4ef2574c5bd3",
   "metadata": {},
   "outputs": [
    {
     "ename": "TypeError",
     "evalue": "'str' object does not support item assignment",
     "output_type": "error",
     "traceback": [
      "\u001b[1;31m---------------------------------------------------------------------------\u001b[0m",
      "\u001b[1;31mTypeError\u001b[0m                                 Traceback (most recent call last)",
      "Cell \u001b[1;32mIn[68], line 1\u001b[0m\n\u001b[1;32m----> 1\u001b[0m name[\u001b[38;5;241m0\u001b[39m:\u001b[38;5;241m1\u001b[39m]\u001b[38;5;241m=\u001b[39m\u001b[38;5;124m'\u001b[39m\u001b[38;5;124md\u001b[39m\u001b[38;5;124m'\u001b[39m\n",
      "\u001b[1;31mTypeError\u001b[0m: 'str' object does not support item assignment"
     ]
    }
   ],
   "source": [
    "name[0:1]='d'"
   ]
  },
  {
   "cell_type": "code",
   "execution_count": 69,
   "id": "6f80e86d-74de-4172-a6b3-256c44732a2d",
   "metadata": {},
   "outputs": [
    {
     "data": {
      "text/plain": [
       "'f'"
      ]
     },
     "execution_count": 69,
     "metadata": {},
     "output_type": "execute_result"
    }
   ],
   "source": [
    "name[0]"
   ]
  },
  {
   "cell_type": "code",
   "execution_count": 70,
   "id": "9d47462a-dbff-438b-9cee-ef5916e35a44",
   "metadata": {},
   "outputs": [
    {
     "ename": "TypeError",
     "evalue": "'str' object does not support item assignment",
     "output_type": "error",
     "traceback": [
      "\u001b[1;31m---------------------------------------------------------------------------\u001b[0m",
      "\u001b[1;31mTypeError\u001b[0m                                 Traceback (most recent call last)",
      "Cell \u001b[1;32mIn[70], line 1\u001b[0m\n\u001b[1;32m----> 1\u001b[0m name[\u001b[38;5;241m0\u001b[39m]\u001b[38;5;241m=\u001b[39m\u001b[38;5;124m'\u001b[39m\u001b[38;5;124md\u001b[39m\u001b[38;5;124m'\u001b[39m\n",
      "\u001b[1;31mTypeError\u001b[0m: 'str' object does not support item assignment"
     ]
    }
   ],
   "source": [
    "name[0]='d'"
   ]
  },
  {
   "cell_type": "code",
   "execution_count": 71,
   "id": "d89b254b-0234-4e85-95cc-51537fda9816",
   "metadata": {},
   "outputs": [
    {
     "data": {
      "text/plain": [
       "'ine'"
      ]
     },
     "execution_count": 71,
     "metadata": {},
     "output_type": "execute_result"
    }
   ],
   "source": [
    "name[1:4]"
   ]
  },
  {
   "cell_type": "code",
   "execution_count": 72,
   "id": "43eaacdb-7c2d-40c4-827a-9076cb95e17c",
   "metadata": {},
   "outputs": [
    {
     "data": {
      "text/plain": [
       "'dine'"
      ]
     },
     "execution_count": 72,
     "metadata": {},
     "output_type": "execute_result"
    }
   ],
   "source": [
    "'d' + name[1:4]"
   ]
  },
  {
   "cell_type": "code",
   "execution_count": 73,
   "id": "7a4d2d68-5bd1-4a35-a4fc-96be6fb86457",
   "metadata": {},
   "outputs": [
    {
     "data": {
      "text/plain": [
       "4"
      ]
     },
     "execution_count": 73,
     "metadata": {},
     "output_type": "execute_result"
    }
   ],
   "source": [
    "len(name)"
   ]
  },
  {
   "cell_type": "code",
   "execution_count": 122,
   "id": "480b4b84-97cf-4270-adbf-1b9a555d7224",
   "metadata": {},
   "outputs": [],
   "source": [
    "l=['you','dinner','achicken']"
   ]
  },
  {
   "cell_type": "code",
   "execution_count": 123,
   "id": "6551dcb7-5de8-4e19-9e6b-28382bb0d48d",
   "metadata": {},
   "outputs": [],
   "source": [
    "l.insert(2,'lollaa')"
   ]
  },
  {
   "cell_type": "code",
   "execution_count": 124,
   "id": "82dc077a-ef2a-4f3d-880e-aeec574d01dd",
   "metadata": {},
   "outputs": [
    {
     "data": {
      "text/plain": [
       "['you', 'dinner', 'lollaa', 'achicken']"
      ]
     },
     "execution_count": 124,
     "metadata": {},
     "output_type": "execute_result"
    }
   ],
   "source": [
    "l"
   ]
  },
  {
   "cell_type": "code",
   "execution_count": 125,
   "id": "3071d4d9-7162-4080-b95c-0aed1c481d6b",
   "metadata": {},
   "outputs": [],
   "source": [
    "l.insert(0,1\n",
    "           )"
   ]
  },
  {
   "cell_type": "code",
   "execution_count": 126,
   "id": "856c9204-b3a7-4e87-8d55-a043dd910e7f",
   "metadata": {},
   "outputs": [
    {
     "data": {
      "text/plain": [
       "[1, 'you', 'dinner', 'lollaa', 'achicken']"
      ]
     },
     "execution_count": 126,
     "metadata": {},
     "output_type": "execute_result"
    }
   ],
   "source": [
    "l\n"
   ]
  },
  {
   "cell_type": "code",
   "execution_count": 127,
   "id": "6f2b43c5-b9c7-4069-a311-a1b4ae17915f",
   "metadata": {},
   "outputs": [],
   "source": [
    "del l[2:]"
   ]
  },
  {
   "cell_type": "code",
   "execution_count": 128,
   "id": "c9a06d4d-372f-4ee3-83c8-0ca3eb2ba009",
   "metadata": {},
   "outputs": [
    {
     "data": {
      "text/plain": [
       "[1, 'you']"
      ]
     },
     "execution_count": 128,
     "metadata": {},
     "output_type": "execute_result"
    }
   ],
   "source": [
    "l"
   ]
  },
  {
   "cell_type": "code",
   "execution_count": 132,
   "id": "5b0f1659-dc39-4d6d-99ca-cde199d4460f",
   "metadata": {},
   "outputs": [
    {
     "data": {
      "text/plain": [
       "[2, 2, 4, 5, 6, 6, 14]"
      ]
     },
     "execution_count": 132,
     "metadata": {},
     "output_type": "execute_result"
    }
   ],
   "source": [
    "l=[4,2,5,6,2,14,6]\n",
    "l.sort()\n",
    "l"
   ]
  },
  {
   "cell_type": "code",
   "execution_count": 130,
   "id": "70b75eef-e003-40af-946e-826a44714038",
   "metadata": {},
   "outputs": [
    {
     "ename": "TypeError",
     "evalue": "unsupported operand type(s) for +: 'int' and 'str'",
     "output_type": "error",
     "traceback": [
      "\u001b[1;31m---------------------------------------------------------------------------\u001b[0m",
      "\u001b[1;31mTypeError\u001b[0m                                 Traceback (most recent call last)",
      "Cell \u001b[1;32mIn[130], line 1\u001b[0m\n\u001b[1;32m----> 1\u001b[0m \u001b[38;5;28msum\u001b[39m(l)\n",
      "\u001b[1;31mTypeError\u001b[0m: unsupported operand type(s) for +: 'int' and 'str'"
     ]
    }
   ],
   "source": [
    "sum(l)"
   ]
  },
  {
   "cell_type": "code",
   "execution_count": 90,
   "id": "834d98e0-02b6-4851-8a09-35c8c637bf73",
   "metadata": {},
   "outputs": [
    {
     "name": "stdout",
     "output_type": "stream",
     "text": [
      "Welcome to Python 3.12's help utility! If this is your first time using\n",
      "Python, you should definitely check out the tutorial at\n",
      "https://docs.python.org/3.12/tutorial/.\n",
      "\n",
      "Enter the name of any module, keyword, or topic to get help on writing\n",
      "Python programs and using Python modules.  To get a list of available\n",
      "modules, keywords, symbols, or topics, enter \"modules\", \"keywords\",\n",
      "\"symbols\", or \"topics\".\n",
      "\n",
      "Each module also comes with a one-line summary of what it does; to list\n",
      "the modules whose name or summary contain a given string such as \"spam\",\n",
      "enter \"modules spam\".\n",
      "\n",
      "To quit this help utility and return to the interpreter,\n",
      "enter \"q\" or \"quit\".\n",
      "\n"
     ]
    },
    {
     "name": "stdin",
     "output_type": "stream",
     "text": [
      "help>  q\n"
     ]
    },
    {
     "name": "stdout",
     "output_type": "stream",
     "text": [
      "\n",
      "You are now leaving help and returning to the Python interpreter.\n",
      "If you want to ask for help on a particular object directly from the\n",
      "interpreter, you can type \"help(object)\".  Executing \"help('string')\"\n",
      "has the same effect as typing a particular string at the help> prompt.\n"
     ]
    }
   ],
   "source": [
    "help()"
   ]
  },
  {
   "cell_type": "code",
   "execution_count": 91,
   "id": "764c7df9-0e9e-4846-b321-d16b1ff0d6ef",
   "metadata": {},
   "outputs": [],
   "source": [
    "a=10\n",
    "b=a"
   ]
  },
  {
   "cell_type": "code",
   "execution_count": 92,
   "id": "0924e6d5-12c7-411c-9d26-1019bf9e42dd",
   "metadata": {},
   "outputs": [
    {
     "data": {
      "text/plain": [
       "140706231757528"
      ]
     },
     "execution_count": 92,
     "metadata": {},
     "output_type": "execute_result"
    }
   ],
   "source": [
    "id(a)"
   ]
  },
  {
   "cell_type": "code",
   "execution_count": 93,
   "id": "d5e386ba-e968-45c7-8198-51bd4b38d434",
   "metadata": {},
   "outputs": [
    {
     "data": {
      "text/plain": [
       "140706231757528"
      ]
     },
     "execution_count": 93,
     "metadata": {},
     "output_type": "execute_result"
    }
   ],
   "source": [
    "id(b)"
   ]
  },
  {
   "cell_type": "code",
   "execution_count": 94,
   "id": "e7f410f8-1410-4607-a3c6-afd8a85513e6",
   "metadata": {},
   "outputs": [
    {
     "data": {
      "text/plain": [
       "140706231757528"
      ]
     },
     "execution_count": 94,
     "metadata": {},
     "output_type": "execute_result"
    }
   ],
   "source": [
    "id(10)"
   ]
  },
  {
   "cell_type": "code",
   "execution_count": 95,
   "id": "e61499c8-651b-43dd-afc3-af0d398ee7d7",
   "metadata": {},
   "outputs": [
    {
     "data": {
      "text/plain": [
       "140706231757528"
      ]
     },
     "execution_count": 95,
     "metadata": {},
     "output_type": "execute_result"
    }
   ],
   "source": [
    "c=10\n",
    "id(c)"
   ]
  },
  {
   "cell_type": "code",
   "execution_count": 102,
   "id": "29cb72c2-f517-4623-bf5e-48e47399e94c",
   "metadata": {},
   "outputs": [
    {
     "data": {
      "text/plain": [
       "140706231757848"
      ]
     },
     "execution_count": 102,
     "metadata": {},
     "output_type": "execute_result"
    }
   ],
   "source": [
    "a=20\n",
    "id(a)"
   ]
  },
  {
   "cell_type": "code",
   "execution_count": 97,
   "id": "9d4c6e54-b256-4db2-bdbe-95b3ed7fbdc0",
   "metadata": {},
   "outputs": [],
   "source": [
    "u='nit'"
   ]
  },
  {
   "cell_type": "code",
   "execution_count": 98,
   "id": "745db2df-729d-4c23-9877-e7f277637b71",
   "metadata": {},
   "outputs": [
    {
     "data": {
      "text/plain": [
       "1909558859872"
      ]
     },
     "execution_count": 98,
     "metadata": {},
     "output_type": "execute_result"
    }
   ],
   "source": [
    "id(u)"
   ]
  },
  {
   "cell_type": "code",
   "execution_count": 99,
   "id": "6fd26f7c-1745-48d6-82f5-207d36bad470",
   "metadata": {},
   "outputs": [
    {
     "data": {
      "text/plain": [
       "140706231757528"
      ]
     },
     "execution_count": 99,
     "metadata": {},
     "output_type": "execute_result"
    }
   ],
   "source": [
    "id(b)"
   ]
  },
  {
   "cell_type": "code",
   "execution_count": 103,
   "id": "adc147e9-c6a0-41e0-b3b8-a456b3fa625f",
   "metadata": {},
   "outputs": [
    {
     "data": {
      "text/plain": [
       "20"
      ]
     },
     "execution_count": 103,
     "metadata": {},
     "output_type": "execute_result"
    }
   ],
   "source": [
    "a"
   ]
  },
  {
   "cell_type": "code",
   "execution_count": 104,
   "id": "df247110-9bfb-46be-af5e-234b278748ed",
   "metadata": {},
   "outputs": [
    {
     "data": {
      "text/plain": [
       "20"
      ]
     },
     "execution_count": 104,
     "metadata": {},
     "output_type": "execute_result"
    }
   ],
   "source": [
    "(a)"
   ]
  },
  {
   "cell_type": "code",
   "execution_count": 105,
   "id": "6dbf154c-4167-46f8-9e95-f43b9a593e1e",
   "metadata": {},
   "outputs": [],
   "source": [
    "a=5.6\n",
    "b=int(a)\n",
    "k=float(b)"
   ]
  },
  {
   "cell_type": "code",
   "execution_count": 106,
   "id": "b78332d8-af3d-41c3-94f7-e9a1f13bb98a",
   "metadata": {},
   "outputs": [
    {
     "name": "stdout",
     "output_type": "stream",
     "text": [
      "5.6\n",
      "5\n",
      "5.0\n"
     ]
    }
   ],
   "source": [
    "print(a)\n",
    "print(b)\n",
    "print(k)"
   ]
  },
  {
   "cell_type": "code",
   "execution_count": 107,
   "id": "0dbc16ce-2ec2-4f72-a114-1148293ed9a6",
   "metadata": {},
   "outputs": [],
   "source": [
    "k1=complex(b,k)"
   ]
  },
  {
   "cell_type": "code",
   "execution_count": 109,
   "id": "f57ae93c-e472-42e1-861f-28e5cbc242a0",
   "metadata": {},
   "outputs": [
    {
     "name": "stdout",
     "output_type": "stream",
     "text": [
      "(5+5j)\n"
     ]
    },
    {
     "data": {
      "text/plain": [
       "complex"
      ]
     },
     "execution_count": 109,
     "metadata": {},
     "output_type": "execute_result"
    }
   ],
   "source": [
    "print(k1)\n",
    "type(k1)"
   ]
  },
  {
   "cell_type": "code",
   "execution_count": 110,
   "id": "36f295ff-0222-42b0-adf4-7ac58e7fa5a1",
   "metadata": {},
   "outputs": [
    {
     "data": {
      "text/plain": [
       "False"
      ]
     },
     "execution_count": 110,
     "metadata": {},
     "output_type": "execute_result"
    }
   ],
   "source": [
    "b<k"
   ]
  },
  {
   "cell_type": "code",
   "execution_count": 111,
   "id": "5740114f-8f44-43a8-832a-fc9454e73370",
   "metadata": {},
   "outputs": [],
   "source": [
    "condition=b<k"
   ]
  },
  {
   "cell_type": "code",
   "execution_count": 112,
   "id": "bca20749-624c-4017-86bf-a6347299856a",
   "metadata": {},
   "outputs": [
    {
     "data": {
      "text/plain": [
       "bool"
      ]
     },
     "execution_count": 112,
     "metadata": {},
     "output_type": "execute_result"
    }
   ],
   "source": [
    "type(condition)"
   ]
  },
  {
   "cell_type": "code",
   "execution_count": 113,
   "id": "bcce407a-2a33-4059-a7ac-af4e1a5a6961",
   "metadata": {},
   "outputs": [
    {
     "name": "stdout",
     "output_type": "stream",
     "text": [
      "[1, 2, 3, 4]\n",
      "<class 'list'>\n"
     ]
    }
   ],
   "source": [
    "l=[1,2,3,4]\n",
    "print(l)\n",
    "print(type(l))"
   ]
  },
  {
   "cell_type": "code",
   "execution_count": 115,
   "id": "eac382d3-a41c-49e5-8e6a-7fad7c488ed8",
   "metadata": {},
   "outputs": [
    {
     "data": {
      "text/plain": [
       "str"
      ]
     },
     "execution_count": 115,
     "metadata": {},
     "output_type": "execute_result"
    }
   ],
   "source": [
    "st='n'\n",
    "type(st)"
   ]
  },
  {
   "cell_type": "code",
   "execution_count": 116,
   "id": "92b9698a-dbb4-4e45-87bd-1c56836d633e",
   "metadata": {},
   "outputs": [],
   "source": [
    "r=(1,10)"
   ]
  },
  {
   "cell_type": "code",
   "execution_count": 117,
   "id": "56332e45-8949-4ad5-a94e-60ef4595c019",
   "metadata": {},
   "outputs": [
    {
     "data": {
      "text/plain": [
       "(1, 10)"
      ]
     },
     "execution_count": 117,
     "metadata": {},
     "output_type": "execute_result"
    }
   ],
   "source": [
    "r"
   ]
  },
  {
   "cell_type": "code",
   "execution_count": 120,
   "id": "4506ad32-8ef8-4def-8a3f-76c929e33af7",
   "metadata": {},
   "outputs": [
    {
     "ename": "TypeError",
     "evalue": "'list' object is not callable",
     "output_type": "error",
     "traceback": [
      "\u001b[1;31m---------------------------------------------------------------------------\u001b[0m",
      "\u001b[1;31mTypeError\u001b[0m                                 Traceback (most recent call last)",
      "Cell \u001b[1;32mIn[120], line 1\u001b[0m\n\u001b[1;32m----> 1\u001b[0m \u001b[38;5;28mlist\u001b[39m(\u001b[38;5;28mrange\u001b[39m(\u001b[38;5;241m0\u001b[39m,\u001b[38;5;241m10\u001b[39m))\n",
      "\u001b[1;31mTypeError\u001b[0m: 'list' object is not callable"
     ]
    }
   ],
   "source": [
    "list(range(0,10))"
   ]
  },
  {
   "cell_type": "code",
   "execution_count": 121,
   "id": "cbd1ed21-09fd-4bb2-9014-aeccaea547d1",
   "metadata": {},
   "outputs": [
    {
     "ename": "TypeError",
     "evalue": "'list' object is not callable",
     "output_type": "error",
     "traceback": [
      "\u001b[1;31m---------------------------------------------------------------------------\u001b[0m",
      "\u001b[1;31mTypeError\u001b[0m                                 Traceback (most recent call last)",
      "Cell \u001b[1;32mIn[121], line 1\u001b[0m\n\u001b[1;32m----> 1\u001b[0m \u001b[38;5;28mlist\u001b[39m(r)\n",
      "\u001b[1;31mTypeError\u001b[0m: 'list' object is not callable"
     ]
    }
   ],
   "source": [
    "list(r)"
   ]
  },
  {
   "cell_type": "code",
   "execution_count": 133,
   "id": "dcf27502-d6b6-42ba-af55-d5f2c0bd28cc",
   "metadata": {},
   "outputs": [
    {
     "ename": "TypeError",
     "evalue": "'list' object is not callable",
     "output_type": "error",
     "traceback": [
      "\u001b[1;31m---------------------------------------------------------------------------\u001b[0m",
      "\u001b[1;31mTypeError\u001b[0m                                 Traceback (most recent call last)",
      "Cell \u001b[1;32mIn[133], line 1\u001b[0m\n\u001b[1;32m----> 1\u001b[0m \u001b[38;5;28mlist\u001b[39m(\u001b[38;5;28mrange\u001b[39m(\u001b[38;5;241m0\u001b[39m,\u001b[38;5;241m20\u001b[39m))\n",
      "\u001b[1;31mTypeError\u001b[0m: 'list' object is not callable"
     ]
    }
   ],
   "source": [
    "list(range(0,20))"
   ]
  },
  {
   "cell_type": "code",
   "execution_count": 134,
   "id": "0d509b0c-b583-4c94-affa-42a6d7a8637a",
   "metadata": {},
   "outputs": [],
   "source": [
    "x,y=5,10"
   ]
  },
  {
   "cell_type": "code",
   "execution_count": 135,
   "id": "dcfc2565-a9eb-4abe-800a-e3e3cbfc691b",
   "metadata": {},
   "outputs": [
    {
     "data": {
      "text/plain": [
       "-5"
      ]
     },
     "execution_count": 135,
     "metadata": {},
     "output_type": "execute_result"
    }
   ],
   "source": [
    "x-y"
   ]
  },
  {
   "cell_type": "code",
   "execution_count": 136,
   "id": "ea98a59b-934b-4c27-8c11-53aeb28ce070",
   "metadata": {},
   "outputs": [
    {
     "data": {
      "text/plain": [
       "15"
      ]
     },
     "execution_count": 136,
     "metadata": {},
     "output_type": "execute_result"
    }
   ],
   "source": [
    "x+y"
   ]
  },
  {
   "cell_type": "code",
   "execution_count": 137,
   "id": "ce5ee869-e77b-4f16-98cd-a78f5a4b3c41",
   "metadata": {},
   "outputs": [
    {
     "data": {
      "text/plain": [
       "0"
      ]
     },
     "execution_count": 137,
     "metadata": {},
     "output_type": "execute_result"
    }
   ],
   "source": [
    "x//y"
   ]
  },
  {
   "cell_type": "code",
   "execution_count": 139,
   "id": "e32d0fbc-03f5-48b3-920c-6da453b5728b",
   "metadata": {},
   "outputs": [
    {
     "data": {
      "text/plain": [
       "1"
      ]
     },
     "execution_count": 139,
     "metadata": {},
     "output_type": "execute_result"
    }
   ],
   "source": [
    "y//y"
   ]
  },
  {
   "cell_type": "code",
   "execution_count": 140,
   "id": "3da3ac74-aaef-4c93-9882-e001b8ea0b09",
   "metadata": {},
   "outputs": [
    {
     "data": {
      "text/plain": [
       "5"
      ]
     },
     "execution_count": 140,
     "metadata": {},
     "output_type": "execute_result"
    }
   ],
   "source": [
    "x%y"
   ]
  },
  {
   "cell_type": "code",
   "execution_count": 141,
   "id": "81eb4914-1073-4e41-913b-dfb20b43a4fc",
   "metadata": {},
   "outputs": [
    {
     "data": {
      "text/plain": [
       "9765625"
      ]
     },
     "execution_count": 141,
     "metadata": {},
     "output_type": "execute_result"
    }
   ],
   "source": [
    "x**y"
   ]
  },
  {
   "cell_type": "code",
   "execution_count": 142,
   "id": "3a557565-2247-453d-8517-dda7dae16e77",
   "metadata": {},
   "outputs": [],
   "source": [
    "x=2\n",
    "x=x+2"
   ]
  },
  {
   "cell_type": "code",
   "execution_count": 143,
   "id": "ef09766d-b6fb-4751-bc75-19ac75e5fcbe",
   "metadata": {},
   "outputs": [
    {
     "data": {
      "text/plain": [
       "4"
      ]
     },
     "execution_count": 143,
     "metadata": {},
     "output_type": "execute_result"
    }
   ],
   "source": [
    "x"
   ]
  },
  {
   "cell_type": "code",
   "execution_count": 144,
   "id": "2a3aeed2-7f2f-4cef-8a3d-47dfc3b3122d",
   "metadata": {},
   "outputs": [],
   "source": [
    "x+=2"
   ]
  },
  {
   "cell_type": "code",
   "execution_count": 145,
   "id": "76092dc6-56b2-4c46-9874-33a53f18c7aa",
   "metadata": {},
   "outputs": [
    {
     "data": {
      "text/plain": [
       "6"
      ]
     },
     "execution_count": 145,
     "metadata": {},
     "output_type": "execute_result"
    }
   ],
   "source": [
    "x"
   ]
  },
  {
   "cell_type": "code",
   "execution_count": 146,
   "id": "d05b4e31-d146-4db5-b938-47c05fcd014e",
   "metadata": {},
   "outputs": [],
   "source": [
    "x/=2"
   ]
  },
  {
   "cell_type": "code",
   "execution_count": 147,
   "id": "1034464c-269a-429e-989a-9e2a969759b7",
   "metadata": {},
   "outputs": [
    {
     "data": {
      "text/plain": [
       "3.0"
      ]
     },
     "execution_count": 147,
     "metadata": {},
     "output_type": "execute_result"
    }
   ],
   "source": [
    "x"
   ]
  },
  {
   "cell_type": "code",
   "execution_count": 148,
   "id": "c8bd9d7b-4991-48dc-8971-b801b1570032",
   "metadata": {},
   "outputs": [],
   "source": [
    "x*=3"
   ]
  },
  {
   "cell_type": "code",
   "execution_count": 149,
   "id": "1d59a6b8-43a9-4bb0-8af3-0e89d874121c",
   "metadata": {},
   "outputs": [
    {
     "data": {
      "text/plain": [
       "9.0"
      ]
     },
     "execution_count": 149,
     "metadata": {},
     "output_type": "execute_result"
    }
   ],
   "source": [
    "x"
   ]
  },
  {
   "cell_type": "code",
   "execution_count": 150,
   "id": "b6546c1e-48e6-4cc9-93d9-d1b41895575f",
   "metadata": {},
   "outputs": [],
   "source": [
    "x-=4"
   ]
  },
  {
   "cell_type": "code",
   "execution_count": 151,
   "id": "f33bcba3-a84a-4238-bfa4-015700e6d770",
   "metadata": {},
   "outputs": [
    {
     "data": {
      "text/plain": [
       "5.0"
      ]
     },
     "execution_count": 151,
     "metadata": {},
     "output_type": "execute_result"
    }
   ],
   "source": [
    "x"
   ]
  },
  {
   "cell_type": "code",
   "execution_count": 152,
   "id": "5277ae37-b482-4e81-9a51-61100a4f7381",
   "metadata": {},
   "outputs": [
    {
     "data": {
      "text/plain": [
       "5"
      ]
     },
     "execution_count": 152,
     "metadata": {},
     "output_type": "execute_result"
    }
   ],
   "source": [
    "a,b=5,6\n",
    "a\n"
   ]
  },
  {
   "cell_type": "code",
   "execution_count": 153,
   "id": "4ea92aea-148a-45cb-bbc8-8285e3cc5614",
   "metadata": {},
   "outputs": [
    {
     "data": {
      "text/plain": [
       "6"
      ]
     },
     "execution_count": 153,
     "metadata": {},
     "output_type": "execute_result"
    }
   ],
   "source": [
    "b"
   ]
  },
  {
   "cell_type": "code",
   "execution_count": 154,
   "id": "2cc0052e-d23a-455e-aa4f-7c4a86ccc888",
   "metadata": {},
   "outputs": [],
   "source": [
    "n=7"
   ]
  },
  {
   "cell_type": "code",
   "execution_count": 155,
   "id": "e4ccda68-79ce-4a2d-9c25-695271d016e7",
   "metadata": {},
   "outputs": [],
   "source": [
    "m=-(n)"
   ]
  },
  {
   "cell_type": "code",
   "execution_count": 156,
   "id": "063451ac-9e07-44e1-81c6-1a98bf31ff0d",
   "metadata": {},
   "outputs": [
    {
     "data": {
      "text/plain": [
       "-7"
      ]
     },
     "execution_count": 156,
     "metadata": {},
     "output_type": "execute_result"
    }
   ],
   "source": [
    "m"
   ]
  },
  {
   "cell_type": "code",
   "execution_count": 157,
   "id": "6c707221-8836-4795-8fe7-7a60f309846d",
   "metadata": {},
   "outputs": [
    {
     "data": {
      "text/plain": [
       "7"
      ]
     },
     "execution_count": 157,
     "metadata": {},
     "output_type": "execute_result"
    }
   ],
   "source": [
    "n\n"
   ]
  },
  {
   "cell_type": "code",
   "execution_count": 158,
   "id": "dff4ef1b-6e65-43ee-8bc5-4b488849ac72",
   "metadata": {},
   "outputs": [
    {
     "data": {
      "text/plain": [
       "-7"
      ]
     },
     "execution_count": 158,
     "metadata": {},
     "output_type": "execute_result"
    }
   ],
   "source": [
    "-n"
   ]
  },
  {
   "cell_type": "code",
   "execution_count": 159,
   "id": "52aeb30c-d1d9-4c55-a43b-fa4b5e8a99aa",
   "metadata": {},
   "outputs": [
    {
     "data": {
      "text/plain": [
       "False"
      ]
     },
     "execution_count": 159,
     "metadata": {},
     "output_type": "execute_result"
    }
   ],
   "source": [
    "a=5\n",
    "b=7\n",
    "a==b"
   ]
  },
  {
   "cell_type": "code",
   "execution_count": 160,
   "id": "b0d54660-10d3-40d2-8926-418447beb24d",
   "metadata": {},
   "outputs": [
    {
     "data": {
      "text/plain": [
       "False"
      ]
     },
     "execution_count": 160,
     "metadata": {},
     "output_type": "execute_result"
    }
   ],
   "source": [
    "a>b"
   ]
  },
  {
   "cell_type": "code",
   "execution_count": 161,
   "id": "da766992-5254-4eb3-a0e4-518a73bcc025",
   "metadata": {},
   "outputs": [
    {
     "data": {
      "text/plain": [
       "True"
      ]
     },
     "execution_count": 161,
     "metadata": {},
     "output_type": "execute_result"
    }
   ],
   "source": [
    "a<b"
   ]
  },
  {
   "cell_type": "code",
   "execution_count": 162,
   "id": "8f0ff67b-b8eb-4449-bdc0-531c6bfe43fd",
   "metadata": {},
   "outputs": [],
   "source": [
    "a=10\n"
   ]
  },
  {
   "cell_type": "code",
   "execution_count": 163,
   "id": "6524a7e1-f414-4480-9fbc-e8e5782c52c3",
   "metadata": {},
   "outputs": [
    {
     "data": {
      "text/plain": [
       "True"
      ]
     },
     "execution_count": 163,
     "metadata": {},
     "output_type": "execute_result"
    }
   ],
   "source": [
    "a!=b"
   ]
  },
  {
   "cell_type": "code",
   "execution_count": 164,
   "id": "cb465959-698f-416b-9f50-818eaf037a6c",
   "metadata": {},
   "outputs": [
    {
     "data": {
      "text/plain": [
       "True"
      ]
     },
     "execution_count": 164,
     "metadata": {},
     "output_type": "execute_result"
    }
   ],
   "source": [
    "b=10\n",
    "a<=b"
   ]
  },
  {
   "cell_type": "code",
   "execution_count": 165,
   "id": "bc18bf67-cac0-4a94-bba4-33e43b598e4a",
   "metadata": {},
   "outputs": [
    {
     "data": {
      "text/plain": [
       "True"
      ]
     },
     "execution_count": 165,
     "metadata": {},
     "output_type": "execute_result"
    }
   ],
   "source": [
    "a>=b"
   ]
  },
  {
   "cell_type": "code",
   "execution_count": 166,
   "id": "e1949d55-d659-439f-b0e4-da4890f38fb4",
   "metadata": {},
   "outputs": [
    {
     "data": {
      "text/plain": [
       "True"
      ]
     },
     "execution_count": 166,
     "metadata": {},
     "output_type": "execute_result"
    }
   ],
   "source": [
    "a==b"
   ]
  },
  {
   "cell_type": "code",
   "execution_count": 168,
   "id": "f2c83c67-7259-4585-a507-d2d863114e8b",
   "metadata": {},
   "outputs": [
    {
     "data": {
      "text/plain": [
       "True"
      ]
     },
     "execution_count": 168,
     "metadata": {},
     "output_type": "execute_result"
    }
   ],
   "source": [
    "b=7\n",
    "\n",
    "b!=a"
   ]
  },
  {
   "cell_type": "code",
   "execution_count": 169,
   "id": "091f24b2-c994-4889-bc74-bbf9396962ed",
   "metadata": {},
   "outputs": [],
   "source": [
    "a=5\n",
    "b=4"
   ]
  },
  {
   "cell_type": "code",
   "execution_count": 170,
   "id": "565c7358-a6a2-4efa-aa3f-4b75d2a31ee0",
   "metadata": {},
   "outputs": [
    {
     "data": {
      "text/plain": [
       "False"
      ]
     },
     "execution_count": 170,
     "metadata": {},
     "output_type": "execute_result"
    }
   ],
   "source": [
    "a<2 and b>8"
   ]
  },
  {
   "cell_type": "code",
   "execution_count": 171,
   "id": "c9a8e5fa-d663-4750-a00e-0d64b1914fd2",
   "metadata": {},
   "outputs": [
    {
     "data": {
      "text/plain": [
       "True"
      ]
     },
     "execution_count": 171,
     "metadata": {},
     "output_type": "execute_result"
    }
   ],
   "source": [
    "a>2 and b<8"
   ]
  },
  {
   "cell_type": "code",
   "execution_count": 173,
   "id": "d641d0a2-f8cd-4abf-b981-1d0c4ad00e0f",
   "metadata": {},
   "outputs": [
    {
     "data": {
      "text/plain": [
       "False"
      ]
     },
     "execution_count": 173,
     "metadata": {},
     "output_type": "execute_result"
    }
   ],
   "source": [
    "a==2 and b==8"
   ]
  },
  {
   "cell_type": "code",
   "execution_count": 174,
   "id": "40e3cfad-76b5-49df-8a29-831a0a6c7e54",
   "metadata": {},
   "outputs": [
    {
     "data": {
      "text/plain": [
       "True"
      ]
     },
     "execution_count": 174,
     "metadata": {},
     "output_type": "execute_result"
    }
   ],
   "source": [
    "a<8 or b>5"
   ]
  },
  {
   "cell_type": "code",
   "execution_count": 175,
   "id": "944f246f-266b-45f6-a60b-41a6cff50278",
   "metadata": {},
   "outputs": [],
   "source": [
    "x=False\n"
   ]
  },
  {
   "cell_type": "code",
   "execution_count": 176,
   "id": "de2a7150-d512-48f8-9b48-fa63f73343e9",
   "metadata": {},
   "outputs": [
    {
     "data": {
      "text/plain": [
       "True"
      ]
     },
     "execution_count": 176,
     "metadata": {},
     "output_type": "execute_result"
    }
   ],
   "source": [
    "not x"
   ]
  },
  {
   "cell_type": "code",
   "execution_count": 177,
   "id": "a0518afc-7b2c-4d59-818f-ce64da4ec089",
   "metadata": {},
   "outputs": [
    {
     "data": {
      "text/plain": [
       "True"
      ]
     },
     "execution_count": 177,
     "metadata": {},
     "output_type": "execute_result"
    }
   ],
   "source": [
    "x= not x\n",
    "x\n"
   ]
  },
  {
   "cell_type": "code",
   "execution_count": 178,
   "id": "7d8c1be7-3a8c-4b2e-b25e-3132acaadd90",
   "metadata": {},
   "outputs": [
    {
     "data": {
      "text/plain": [
       "25"
      ]
     },
     "execution_count": 178,
     "metadata": {},
     "output_type": "execute_result"
    }
   ],
   "source": [
    "25"
   ]
  },
  {
   "cell_type": "code",
   "execution_count": 179,
   "id": "59f6e3a2-5fdd-4ce2-9cbe-5bc380295663",
   "metadata": {},
   "outputs": [
    {
     "data": {
      "text/plain": [
       "'0b11001'"
      ]
     },
     "execution_count": 179,
     "metadata": {},
     "output_type": "execute_result"
    }
   ],
   "source": [
    "bin(25)"
   ]
  },
  {
   "cell_type": "code",
   "execution_count": 180,
   "id": "011ea4d3-e55d-4f36-8b83-71af26d5e8b2",
   "metadata": {},
   "outputs": [
    {
     "data": {
      "text/plain": [
       "25"
      ]
     },
     "execution_count": 180,
     "metadata": {},
     "output_type": "execute_result"
    }
   ],
   "source": [
    "int(0b11001)"
   ]
  },
  {
   "cell_type": "code",
   "execution_count": 181,
   "id": "f964b9af-edef-48b5-842d-704af41eeae9",
   "metadata": {},
   "outputs": [
    {
     "data": {
      "text/plain": [
       "'0b100011'"
      ]
     },
     "execution_count": 181,
     "metadata": {},
     "output_type": "execute_result"
    }
   ],
   "source": [
    "bin(35)"
   ]
  },
  {
   "cell_type": "code",
   "execution_count": 182,
   "id": "cd19334f-d2dc-4979-b55b-bc5a8535e508",
   "metadata": {},
   "outputs": [
    {
     "data": {
      "text/plain": [
       "'0b10100'"
      ]
     },
     "execution_count": 182,
     "metadata": {},
     "output_type": "execute_result"
    }
   ],
   "source": [
    "bin(20)"
   ]
  },
  {
   "cell_type": "code",
   "execution_count": 183,
   "id": "214dd911-f1af-4b56-ae62-a642423d4466",
   "metadata": {},
   "outputs": [
    {
     "data": {
      "text/plain": [
       "20"
      ]
     },
     "execution_count": 183,
     "metadata": {},
     "output_type": "execute_result"
    }
   ],
   "source": [
    "int(0b10100)"
   ]
  },
  {
   "cell_type": "code",
   "execution_count": 184,
   "id": "7d90fe60-7dbc-4181-b4d1-a4835a3165c7",
   "metadata": {},
   "outputs": [
    {
     "data": {
      "text/plain": [
       "15"
      ]
     },
     "execution_count": 184,
     "metadata": {},
     "output_type": "execute_result"
    }
   ],
   "source": [
    "0b1111"
   ]
  },
  {
   "cell_type": "code",
   "execution_count": 185,
   "id": "1f045d2d-8ed6-4597-a30c-9627c9f5a699",
   "metadata": {},
   "outputs": [
    {
     "data": {
      "text/plain": [
       "'0o17'"
      ]
     },
     "execution_count": 185,
     "metadata": {},
     "output_type": "execute_result"
    }
   ],
   "source": [
    "oct(15)"
   ]
  },
  {
   "cell_type": "code",
   "execution_count": 186,
   "id": "02b36c35-1059-44ba-9abe-1a8e8165772b",
   "metadata": {},
   "outputs": [
    {
     "data": {
      "text/plain": [
       "'0x9'"
      ]
     },
     "execution_count": 186,
     "metadata": {},
     "output_type": "execute_result"
    }
   ],
   "source": [
    "hex(9)"
   ]
  },
  {
   "cell_type": "code",
   "execution_count": 187,
   "id": "03b1ae2b-1bfa-4ac9-b6c6-1c2e8707a693",
   "metadata": {},
   "outputs": [
    {
     "data": {
      "text/plain": [
       "15"
      ]
     },
     "execution_count": 187,
     "metadata": {},
     "output_type": "execute_result"
    }
   ],
   "source": [
    "0xf"
   ]
  },
  {
   "cell_type": "code",
   "execution_count": 188,
   "id": "a16f81b8-67e5-4374-9861-448ca13b2547",
   "metadata": {},
   "outputs": [
    {
     "data": {
      "text/plain": [
       "10"
      ]
     },
     "execution_count": 188,
     "metadata": {},
     "output_type": "execute_result"
    }
   ],
   "source": [
    "0xa"
   ]
  },
  {
   "cell_type": "code",
   "execution_count": 189,
   "id": "5938bf90-6787-4b23-85a5-7e7509eff8fe",
   "metadata": {},
   "outputs": [
    {
     "data": {
      "text/plain": [
       "'0x19'"
      ]
     },
     "execution_count": 189,
     "metadata": {},
     "output_type": "execute_result"
    }
   ],
   "source": [
    "hex(25)"
   ]
  },
  {
   "cell_type": "code",
   "execution_count": 190,
   "id": "d0b4d125-7ee4-4957-b6e9-bfdd968053fa",
   "metadata": {},
   "outputs": [],
   "source": [
    "a=5\n",
    "b=6"
   ]
  },
  {
   "cell_type": "code",
   "execution_count": 191,
   "id": "5bb32d5e-0c47-407e-b08c-cb4610927e3f",
   "metadata": {},
   "outputs": [],
   "source": [
    "a=b\n",
    "b=a"
   ]
  },
  {
   "cell_type": "code",
   "execution_count": 192,
   "id": "2a2d3f26-38d9-4953-8937-30662c733664",
   "metadata": {},
   "outputs": [
    {
     "data": {
      "text/plain": [
       "(6, 6)"
      ]
     },
     "execution_count": 192,
     "metadata": {},
     "output_type": "execute_result"
    }
   ],
   "source": [
    "a,b"
   ]
  },
  {
   "cell_type": "code",
   "execution_count": 193,
   "id": "2ad8d7a8-2fa6-420d-97b5-26b5728c67f1",
   "metadata": {},
   "outputs": [],
   "source": [
    "a1=7\n",
    "b1=8\n"
   ]
  },
  {
   "cell_type": "code",
   "execution_count": 194,
   "id": "40fa18e9-01e2-4179-8484-76db1bcccc61",
   "metadata": {},
   "outputs": [],
   "source": [
    "temp=a1\n",
    "a1=b1\n",
    "b1=temp\n"
   ]
  },
  {
   "cell_type": "code",
   "execution_count": 196,
   "id": "6b2f4d97-0189-41d8-be66-222bee5af7bd",
   "metadata": {},
   "outputs": [
    {
     "name": "stdout",
     "output_type": "stream",
     "text": [
      "8\n",
      "7\n"
     ]
    }
   ],
   "source": [
    "print(a1)\n",
    "print(b1)"
   ]
  },
  {
   "cell_type": "code",
   "execution_count": 197,
   "id": "b4ed8a61-4503-4ee3-841a-fcde9ea60ef3",
   "metadata": {},
   "outputs": [],
   "source": [
    "a2=5\n",
    "b2=6\n"
   ]
  },
  {
   "cell_type": "code",
   "execution_count": 198,
   "id": "3e86759c-a349-43ba-8eee-83d991840ef3",
   "metadata": {},
   "outputs": [],
   "source": [
    "a2=a2+b2\n",
    "b2=a2-b2\n",
    "a2=a2-b2"
   ]
  },
  {
   "cell_type": "code",
   "execution_count": 200,
   "id": "03c5e93f-80cc-426c-9747-adae8468c971",
   "metadata": {},
   "outputs": [
    {
     "name": "stdout",
     "output_type": "stream",
     "text": [
      "6\n",
      "5\n"
     ]
    }
   ],
   "source": [
    "print(a2)\n",
    "print(b2)"
   ]
  },
  {
   "cell_type": "code",
   "execution_count": 201,
   "id": "5c106587-0089-49b3-a702-5e4fbf91d01b",
   "metadata": {},
   "outputs": [],
   "source": [
    "a2,b2=b2,a2"
   ]
  },
  {
   "cell_type": "code",
   "execution_count": 202,
   "id": "6724918d-3b23-4300-b655-469fa9e6e0d7",
   "metadata": {},
   "outputs": [
    {
     "data": {
      "text/plain": [
       "(5, 6)"
      ]
     },
     "execution_count": 202,
     "metadata": {},
     "output_type": "execute_result"
    }
   ],
   "source": [
    "a2,b2"
   ]
  },
  {
   "cell_type": "code",
   "execution_count": 203,
   "id": "bb764d85-276e-44aa-98ac-e923d5cac4c0",
   "metadata": {},
   "outputs": [
    {
     "name": "stdout",
     "output_type": "stream",
     "text": [
      "5\n",
      "6\n"
     ]
    }
   ],
   "source": [
    "print(0b101)\n",
    "print(0b110)"
   ]
  },
  {
   "cell_type": "code",
   "execution_count": 204,
   "id": "df24608f-7ca1-46a4-b9bc-dd58cbfb2178",
   "metadata": {},
   "outputs": [
    {
     "data": {
      "text/plain": [
       "'0b1011'"
      ]
     },
     "execution_count": 204,
     "metadata": {},
     "output_type": "execute_result"
    }
   ],
   "source": [
    "bin(11)"
   ]
  },
  {
   "cell_type": "code",
   "execution_count": 205,
   "id": "30c09b15-47a3-4d25-b927-95fddd283c2b",
   "metadata": {},
   "outputs": [
    {
     "data": {
      "text/plain": [
       "-13"
      ]
     },
     "execution_count": 205,
     "metadata": {},
     "output_type": "execute_result"
    }
   ],
   "source": [
    "~12"
   ]
  },
  {
   "cell_type": "code",
   "execution_count": 206,
   "id": "20c0f925-1999-47a2-bdaf-43a4e49c344f",
   "metadata": {},
   "outputs": [
    {
     "data": {
      "text/plain": [
       "-77"
      ]
     },
     "execution_count": 206,
     "metadata": {},
     "output_type": "execute_result"
    }
   ],
   "source": [
    "~76"
   ]
  },
  {
   "cell_type": "code",
   "execution_count": 207,
   "id": "f13a157a-a5e5-41e0-b76d-ccb55730029d",
   "metadata": {},
   "outputs": [
    {
     "data": {
      "text/plain": [
       "0"
      ]
     },
     "execution_count": 207,
     "metadata": {},
     "output_type": "execute_result"
    }
   ],
   "source": [
    "~-1"
   ]
  },
  {
   "cell_type": "code",
   "execution_count": 208,
   "id": "b13dba9b-773f-4db9-9407-b81eadc3120d",
   "metadata": {},
   "outputs": [
    {
     "data": {
      "text/plain": [
       "1"
      ]
     },
     "execution_count": 208,
     "metadata": {},
     "output_type": "execute_result"
    }
   ],
   "source": [
    "~-2"
   ]
  },
  {
   "cell_type": "code",
   "execution_count": 209,
   "id": "ddd0a473-4d9e-4aea-87b4-d75fc4a1614c",
   "metadata": {},
   "outputs": [
    {
     "data": {
      "text/plain": [
       "12"
      ]
     },
     "execution_count": 209,
     "metadata": {},
     "output_type": "execute_result"
    }
   ],
   "source": [
    "12 & 13"
   ]
  },
  {
   "cell_type": "code",
   "execution_count": 210,
   "id": "2ae1bc53-ff92-4ebf-a31e-1e9188fdb0ba",
   "metadata": {},
   "outputs": [
    {
     "data": {
      "text/plain": [
       "1"
      ]
     },
     "execution_count": 210,
     "metadata": {},
     "output_type": "execute_result"
    }
   ],
   "source": [
    "1 & 1"
   ]
  },
  {
   "cell_type": "code",
   "execution_count": 211,
   "id": "19ddb444-8e06-4c55-b3d8-c1b9db9a558f",
   "metadata": {},
   "outputs": [
    {
     "data": {
      "text/plain": [
       "13"
      ]
     },
     "execution_count": 211,
     "metadata": {},
     "output_type": "execute_result"
    }
   ],
   "source": [
    "12 | 13"
   ]
  },
  {
   "cell_type": "code",
   "execution_count": 212,
   "id": "38966856-120d-4865-b58e-1451e5f0c080",
   "metadata": {},
   "outputs": [
    {
     "data": {
      "text/plain": [
       "1"
      ]
     },
     "execution_count": 212,
     "metadata": {},
     "output_type": "execute_result"
    }
   ],
   "source": [
    "1|0"
   ]
  },
  {
   "cell_type": "code",
   "execution_count": 213,
   "id": "7f991664-590d-483c-a79f-e586cd03fa3e",
   "metadata": {},
   "outputs": [
    {
     "data": {
      "text/plain": [
       "0"
      ]
     },
     "execution_count": 213,
     "metadata": {},
     "output_type": "execute_result"
    }
   ],
   "source": [
    "1 & 0"
   ]
  },
  {
   "cell_type": "code",
   "execution_count": 214,
   "id": "e7fefd74-104c-4bc1-aff0-e209c4f417cc",
   "metadata": {},
   "outputs": [
    {
     "data": {
      "text/plain": [
       "'0b100011'"
      ]
     },
     "execution_count": 214,
     "metadata": {},
     "output_type": "execute_result"
    }
   ],
   "source": [
    "bin(35)"
   ]
  },
  {
   "cell_type": "code",
   "execution_count": 215,
   "id": "884fb457-0628-47a7-b2e3-d5f66d79f161",
   "metadata": {},
   "outputs": [
    {
     "data": {
      "text/plain": [
       "'0b101000'"
      ]
     },
     "execution_count": 215,
     "metadata": {},
     "output_type": "execute_result"
    }
   ],
   "source": [
    "bin(40)"
   ]
  },
  {
   "cell_type": "code",
   "execution_count": 216,
   "id": "71009828-4513-4116-a5b2-8890dac68d34",
   "metadata": {},
   "outputs": [
    {
     "data": {
      "text/plain": [
       "32"
      ]
     },
     "execution_count": 216,
     "metadata": {},
     "output_type": "execute_result"
    }
   ],
   "source": [
    "35 &40"
   ]
  },
  {
   "cell_type": "code",
   "execution_count": 217,
   "id": "2e83becd-2a85-4dc4-8165-020f4563305b",
   "metadata": {},
   "outputs": [
    {
     "data": {
      "text/plain": [
       "43"
      ]
     },
     "execution_count": 217,
     "metadata": {},
     "output_type": "execute_result"
    }
   ],
   "source": [
    "35 |40"
   ]
  },
  {
   "cell_type": "code",
   "execution_count": 218,
   "id": "f5ad4044-708b-4fd3-afb6-469c861228c6",
   "metadata": {},
   "outputs": [
    {
     "data": {
      "text/plain": [
       "'0b1100'"
      ]
     },
     "execution_count": 218,
     "metadata": {},
     "output_type": "execute_result"
    }
   ],
   "source": [
    "bin(12)"
   ]
  },
  {
   "cell_type": "code",
   "execution_count": 219,
   "id": "eba9b50a-cf92-4360-bf57-1a0e183f8b8b",
   "metadata": {},
   "outputs": [
    {
     "data": {
      "text/plain": [
       "'0b1101'"
      ]
     },
     "execution_count": 219,
     "metadata": {},
     "output_type": "execute_result"
    }
   ],
   "source": [
    "bin(13)"
   ]
  },
  {
   "cell_type": "code",
   "execution_count": 220,
   "id": "095ab07c-5dfe-4a10-a9e8-01035b89fa0a",
   "metadata": {},
   "outputs": [
    {
     "data": {
      "text/plain": [
       "1"
      ]
     },
     "execution_count": 220,
     "metadata": {},
     "output_type": "execute_result"
    }
   ],
   "source": [
    "12 ^13"
   ]
  },
  {
   "cell_type": "code",
   "execution_count": 221,
   "id": "3af8c030-59d2-435f-89dc-79510a54d5ea",
   "metadata": {},
   "outputs": [
    {
     "data": {
      "text/plain": [
       "7"
      ]
     },
     "execution_count": 221,
     "metadata": {},
     "output_type": "execute_result"
    }
   ],
   "source": [
    "25 ^ 30"
   ]
  },
  {
   "cell_type": "code",
   "execution_count": 222,
   "id": "094341b8-94c9-49a9-a8eb-0c20d36044d5",
   "metadata": {},
   "outputs": [
    {
     "data": {
      "text/plain": [
       "7"
      ]
     },
     "execution_count": 222,
     "metadata": {},
     "output_type": "execute_result"
    }
   ],
   "source": [
    "int(0b0111)"
   ]
  },
  {
   "cell_type": "code",
   "execution_count": 223,
   "id": "d849eb75-b74f-4b9d-a991-d738fe97d03d",
   "metadata": {},
   "outputs": [
    {
     "data": {
      "text/plain": [
       "40"
      ]
     },
     "execution_count": 223,
     "metadata": {},
     "output_type": "execute_result"
    }
   ],
   "source": [
    "10<<2"
   ]
  },
  {
   "cell_type": "code",
   "execution_count": 224,
   "id": "855a2c3b-1de1-4413-9451-81e841cb9a05",
   "metadata": {},
   "outputs": [
    {
     "data": {
      "text/plain": [
       "2"
      ]
     },
     "execution_count": 224,
     "metadata": {},
     "output_type": "execute_result"
    }
   ],
   "source": [
    "10>>2"
   ]
  },
  {
   "cell_type": "code",
   "execution_count": 225,
   "id": "44ba24c3-bcb7-479a-b87b-f1cd63d4c264",
   "metadata": {},
   "outputs": [
    {
     "data": {
      "text/plain": [
       "320"
      ]
     },
     "execution_count": 225,
     "metadata": {},
     "output_type": "execute_result"
    }
   ],
   "source": [
    "20<<4"
   ]
  },
  {
   "cell_type": "code",
   "execution_count": 226,
   "id": "4f4bdb33-8276-42d3-a16a-b07282cc4c56",
   "metadata": {},
   "outputs": [
    {
     "data": {
      "text/plain": [
       "1"
      ]
     },
     "execution_count": 226,
     "metadata": {},
     "output_type": "execute_result"
    }
   ],
   "source": [
    "20>>4"
   ]
  },
  {
   "cell_type": "code",
   "execution_count": 227,
   "id": "61765358-2b86-4e62-a8d9-2b17f3007c84",
   "metadata": {},
   "outputs": [],
   "source": [
    "import math\n",
    "x= math.sqrt(25)"
   ]
  },
  {
   "cell_type": "code",
   "execution_count": 228,
   "id": "a47dc850-355a-4fed-9fb2-2831a6ead0f2",
   "metadata": {},
   "outputs": [
    {
     "data": {
      "text/plain": [
       "5.0"
      ]
     },
     "execution_count": 228,
     "metadata": {},
     "output_type": "execute_result"
    }
   ],
   "source": [
    "x"
   ]
  },
  {
   "cell_type": "code",
   "execution_count": 229,
   "id": "c7207fd2-4eff-4d73-a14b-47b86835837c",
   "metadata": {},
   "outputs": [],
   "source": [
    "y=math.sqrt(15)"
   ]
  },
  {
   "cell_type": "code",
   "execution_count": 230,
   "id": "4066187d-82ef-4b6d-9c12-56a194ac6be4",
   "metadata": {},
   "outputs": [
    {
     "data": {
      "text/plain": [
       "3.872983346207417"
      ]
     },
     "execution_count": 230,
     "metadata": {},
     "output_type": "execute_result"
    }
   ],
   "source": [
    "y"
   ]
  },
  {
   "cell_type": "code",
   "execution_count": 231,
   "id": "ac4dfa82-f569-43ed-86c1-9f5cce5cf09b",
   "metadata": {},
   "outputs": [
    {
     "data": {
      "text/plain": [
       "4"
      ]
     },
     "execution_count": 231,
     "metadata": {},
     "output_type": "execute_result"
    }
   ],
   "source": [
    "math.floor(4.5)"
   ]
  },
  {
   "cell_type": "code",
   "execution_count": 233,
   "id": "abd98dee-e617-43a0-a64b-53f36612cc31",
   "metadata": {},
   "outputs": [
    {
     "data": {
      "text/plain": [
       "7"
      ]
     },
     "execution_count": 233,
     "metadata": {},
     "output_type": "execute_result"
    }
   ],
   "source": [
    "math.ceil(6.6)"
   ]
  },
  {
   "cell_type": "code",
   "execution_count": 234,
   "id": "32ce8410-fe83-4976-a5a0-53dcfa573b29",
   "metadata": {},
   "outputs": [
    {
     "data": {
      "text/plain": [
       "1"
      ]
     },
     "execution_count": 234,
     "metadata": {},
     "output_type": "execute_result"
    }
   ],
   "source": [
    "math.floor(1.1)"
   ]
  },
  {
   "cell_type": "code",
   "execution_count": 235,
   "id": "778f8ead-17f1-40e6-8d6f-977e33c40f7b",
   "metadata": {},
   "outputs": [
    {
     "data": {
      "text/plain": [
       "10"
      ]
     },
     "execution_count": 235,
     "metadata": {},
     "output_type": "execute_result"
    }
   ],
   "source": [
    "math.ceil(9.89)"
   ]
  },
  {
   "cell_type": "code",
   "execution_count": 236,
   "id": "deecfa3e-ce78-473c-a0a7-bdc930a85842",
   "metadata": {},
   "outputs": [
    {
     "name": "stdout",
     "output_type": "stream",
     "text": [
      "95099.00499000002\n"
     ]
    }
   ],
   "source": [
    "print(math.pow(9.9,5))"
   ]
  },
  {
   "cell_type": "code",
   "execution_count": 237,
   "id": "564111fd-2d0e-4ce9-b848-5741a5cf63af",
   "metadata": {},
   "outputs": [
    {
     "name": "stdout",
     "output_type": "stream",
     "text": [
      "25329516.211914062\n"
     ]
    }
   ],
   "source": [
    "print(math.pow(5.5,10))"
   ]
  },
  {
   "cell_type": "code",
   "execution_count": 238,
   "id": "ec627596-4c49-4553-bc7b-bb1ac64068b8",
   "metadata": {},
   "outputs": [
    {
     "data": {
      "text/plain": [
       "3.141592653589793"
      ]
     },
     "execution_count": 238,
     "metadata": {},
     "output_type": "execute_result"
    }
   ],
   "source": [
    "math.pi"
   ]
  },
  {
   "cell_type": "code",
   "execution_count": 239,
   "id": "0ecdd63b-6d35-4f1d-a914-fd27ce85da6c",
   "metadata": {},
   "outputs": [
    {
     "data": {
      "text/plain": [
       "2.718281828459045"
      ]
     },
     "execution_count": 239,
     "metadata": {},
     "output_type": "execute_result"
    }
   ],
   "source": [
    "math.e"
   ]
  },
  {
   "cell_type": "code",
   "execution_count": 240,
   "id": "527973aa-1f87-44f4-bd33-a353555f49dc",
   "metadata": {},
   "outputs": [],
   "source": [
    "import math as m"
   ]
  },
  {
   "cell_type": "code",
   "execution_count": 241,
   "id": "499356a4-75f8-4d21-9bd1-79facabb7c10",
   "metadata": {},
   "outputs": [
    {
     "data": {
      "text/plain": [
       "9.433981132056603"
      ]
     },
     "execution_count": 241,
     "metadata": {},
     "output_type": "execute_result"
    }
   ],
   "source": [
    "m.sqrt(89)"
   ]
  },
  {
   "cell_type": "code",
   "execution_count": 243,
   "id": "37b0c3d9-d75b-4fbd-abc1-5d9c1b0433e6",
   "metadata": {},
   "outputs": [
    {
     "data": {
      "text/plain": [
       "9.0"
      ]
     },
     "execution_count": 243,
     "metadata": {},
     "output_type": "execute_result"
    }
   ],
   "source": [
    "from math import pow\n",
    "pow(3,2)"
   ]
  },
  {
   "cell_type": "code",
   "execution_count": 244,
   "id": "1e087a38-2adb-48b7-82b7-020410ff32b6",
   "metadata": {},
   "outputs": [
    {
     "data": {
      "text/plain": [
       "15625.0"
      ]
     },
     "execution_count": 244,
     "metadata": {},
     "output_type": "execute_result"
    }
   ],
   "source": [
    "pow(5,6)"
   ]
  },
  {
   "cell_type": "code",
   "execution_count": 245,
   "id": "87e008fd-8caf-4d68-b579-1a7a2aeb9e56",
   "metadata": {},
   "outputs": [
    {
     "data": {
      "text/plain": [
       "3660323412732308295715935589293935017395024384971560161643768298370469386491158608423908316540829696"
      ]
     },
     "execution_count": 245,
     "metadata": {},
     "output_type": "execute_result"
    }
   ],
   "source": [
    "round(pow(9.9,100))"
   ]
  },
  {
   "cell_type": "code",
   "execution_count": 247,
   "id": "8c837f13-5cb8-4e0e-b18e-05adb002ec14",
   "metadata": {},
   "outputs": [
    {
     "name": "stdin",
     "output_type": "stream",
     "text": [
      "Enter the first number 45\n",
      "Enter the second number  22\n"
     ]
    },
    {
     "name": "stdout",
     "output_type": "stream",
     "text": [
      "4522\n"
     ]
    }
   ],
   "source": [
    "x1=input('Enter the first number')\n",
    "y1=input('Enter the second number ')\n",
    "z1=x1+y1\n",
    "print(z1)"
   ]
  },
  {
   "cell_type": "code",
   "execution_count": 248,
   "id": "9c1e8bfd-ed93-4a24-a3e4-f5dff3f32869",
   "metadata": {},
   "outputs": [
    {
     "data": {
      "text/plain": [
       "str"
      ]
     },
     "execution_count": 248,
     "metadata": {},
     "output_type": "execute_result"
    }
   ],
   "source": [
    "type(x1)"
   ]
  },
  {
   "cell_type": "code",
   "execution_count": 249,
   "id": "48122d0f-5f15-4940-b66b-0a6f1de58a12",
   "metadata": {},
   "outputs": [
    {
     "data": {
      "text/plain": [
       "str"
      ]
     },
     "execution_count": 249,
     "metadata": {},
     "output_type": "execute_result"
    }
   ],
   "source": [
    "type(y1)"
   ]
  },
  {
   "cell_type": "code",
   "execution_count": 251,
   "id": "83656844-e922-4b4a-8c4e-5500d269270f",
   "metadata": {},
   "outputs": [
    {
     "name": "stdin",
     "output_type": "stream",
     "text": [
      "Enter the first number 4\n",
      "Enter the second number  5\n"
     ]
    },
    {
     "name": "stdout",
     "output_type": "stream",
     "text": [
      "9\n"
     ]
    }
   ],
   "source": [
    "x1=input('Enter the first number')\n",
    "a1=int(x1)\n",
    "y1=input('Enter the second number ')\n",
    "b1=int(y1)\n",
    "z1=a1+b1\n",
    "print(z1)"
   ]
  },
  {
   "cell_type": "code",
   "execution_count": 252,
   "id": "056af66d-289c-4d4b-bb85-623c33506552",
   "metadata": {},
   "outputs": [
    {
     "name": "stdin",
     "output_type": "stream",
     "text": [
      "Enter the first number  3\n",
      "Enter the second number  4\n"
     ]
    },
    {
     "name": "stdout",
     "output_type": "stream",
     "text": [
      "7\n"
     ]
    }
   ],
   "source": [
    "x2=int(input('Enter the first number '))\n",
    "y2=int(input('Enter the second number '))\n",
    "\n",
    "z2=x2+y2\n",
    "print(z2)"
   ]
  },
  {
   "cell_type": "code",
   "execution_count": 253,
   "id": "78710f7d-655c-478f-a2f3-35234fd1c4af",
   "metadata": {},
   "outputs": [
    {
     "name": "stdin",
     "output_type": "stream",
     "text": [
      "input a character. 2\n"
     ]
    },
    {
     "name": "stdout",
     "output_type": "stream",
     "text": [
      "2\n"
     ]
    }
   ],
   "source": [
    "ch=input('input a character.')\n",
    "print(ch)"
   ]
  },
  {
   "cell_type": "code",
   "execution_count": 254,
   "id": "37c91bc3-41ef-44ad-bfc9-2b87cdb973b2",
   "metadata": {},
   "outputs": [
    {
     "name": "stdin",
     "output_type": "stream",
     "text": [
      "input a character. helllo\n"
     ]
    },
    {
     "name": "stdout",
     "output_type": "stream",
     "text": [
      "helllo\n"
     ]
    }
   ],
   "source": [
    "ch=input('input a character.')\n",
    "print(ch)\n"
   ]
  },
  {
   "cell_type": "code",
   "execution_count": 255,
   "id": "bfc16463-6cfb-4d33-9a11-45145ebb3c44",
   "metadata": {},
   "outputs": [
    {
     "data": {
      "text/plain": [
       "'o'"
      ]
     },
     "execution_count": 255,
     "metadata": {},
     "output_type": "execute_result"
    }
   ],
   "source": [
    "ch[-1]"
   ]
  },
  {
   "cell_type": "code",
   "execution_count": 256,
   "id": "1ccb129d-352d-4c88-8b91-f050ab9b9267",
   "metadata": {},
   "outputs": [
    {
     "data": {
      "text/plain": [
       "'h'"
      ]
     },
     "execution_count": 256,
     "metadata": {},
     "output_type": "execute_result"
    }
   ],
   "source": [
    "ch[0]"
   ]
  },
  {
   "cell_type": "code",
   "execution_count": 257,
   "id": "1f9b755d-5fa3-48b4-8ef2-85d722ea292b",
   "metadata": {},
   "outputs": [
    {
     "data": {
      "text/plain": [
       "'l'"
      ]
     },
     "execution_count": 257,
     "metadata": {},
     "output_type": "execute_result"
    }
   ],
   "source": [
    "ch[4]"
   ]
  },
  {
   "cell_type": "code",
   "execution_count": 258,
   "id": "9c7b18e1-471e-4c35-9d4d-f223d8fff323",
   "metadata": {},
   "outputs": [
    {
     "name": "stdin",
     "output_type": "stream",
     "text": [
      "enter a character roolaa\n"
     ]
    },
    {
     "name": "stdout",
     "output_type": "stream",
     "text": [
      "r\n"
     ]
    }
   ],
   "source": [
    "ch=input('enter a character')[0]\n",
    "print(ch)\n"
   ]
  },
  {
   "cell_type": "code",
   "execution_count": 260,
   "id": "5b1d684d-faeb-450c-929e-9b8c5a50cb2e",
   "metadata": {},
   "outputs": [
    {
     "name": "stdin",
     "output_type": "stream",
     "text": [
      "enter a character rooolaaj\n"
     ]
    },
    {
     "name": "stdout",
     "output_type": "stream",
     "text": [
      "roo\n"
     ]
    }
   ],
   "source": [
    "ch=input('enter a character')[0:3]\n",
    "print(ch)"
   ]
  },
  {
   "cell_type": "code",
   "execution_count": 261,
   "id": "81fef7b7-8999-4275-9038-4380a27087d3",
   "metadata": {},
   "outputs": [
    {
     "name": "stdin",
     "output_type": "stream",
     "text": [
      "enter a character youtube\n"
     ]
    },
    {
     "name": "stdout",
     "output_type": "stream",
     "text": [
      "out\n"
     ]
    }
   ],
   "source": [
    "ch=input('enter a character')[1:4]\n",
    "print(ch)"
   ]
  },
  {
   "cell_type": "code",
   "execution_count": 262,
   "id": "80622726-f1d6-486d-957b-3bc0c9b59b25",
   "metadata": {},
   "outputs": [
    {
     "name": "stdin",
     "output_type": "stream",
     "text": [
      "10 10\n"
     ]
    },
    {
     "name": "stdout",
     "output_type": "stream",
     "text": [
      "10\n"
     ]
    }
   ],
   "source": [
    "c=input(2+3+5)\n",
    "print(c)"
   ]
  },
  {
   "cell_type": "code",
   "execution_count": 263,
   "id": "7075cb17-df59-4741-9d61-b28bd86583f7",
   "metadata": {},
   "outputs": [
    {
     "name": "stdin",
     "output_type": "stream",
     "text": [
      "enter an expression 10+9\n"
     ]
    },
    {
     "name": "stdout",
     "output_type": "stream",
     "text": [
      "10+9\n"
     ]
    }
   ],
   "source": [
    "c=input('enter an expression')\n",
    "print(c)"
   ]
  },
  {
   "cell_type": "code",
   "execution_count": 264,
   "id": "53364bd6-8106-4eb2-809c-8396e3b70768",
   "metadata": {},
   "outputs": [
    {
     "name": "stdin",
     "output_type": "stream",
     "text": [
      "enter an expression 6+4+4\n"
     ]
    },
    {
     "name": "stdout",
     "output_type": "stream",
     "text": [
      "14\n"
     ]
    }
   ],
   "source": [
    "c=eval(input('enter an expression'))\n",
    "print(c)"
   ]
  },
  {
   "cell_type": "code",
   "execution_count": null,
   "id": "49d1e6dc-e8c9-4579-9db9-d11838fcc6c7",
   "metadata": {},
   "outputs": [],
   "source": []
  }
 ],
 "metadata": {
  "kernelspec": {
   "display_name": "Python [conda env:base] *",
   "language": "python",
   "name": "conda-base-py"
  },
  "language_info": {
   "codemirror_mode": {
    "name": "ipython",
    "version": 3
   },
   "file_extension": ".py",
   "mimetype": "text/x-python",
   "name": "python",
   "nbconvert_exporter": "python",
   "pygments_lexer": "ipython3",
   "version": "3.12.7"
  }
 },
 "nbformat": 4,
 "nbformat_minor": 5
}
