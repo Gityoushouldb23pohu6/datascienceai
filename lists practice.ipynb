{
 "cells": [
  {
   "cell_type": "code",
   "execution_count": 1,
   "id": "c1d6a941-c64e-4f7f-99e7-283752a00af6",
   "metadata": {},
   "outputs": [
    {
     "ename": "SyntaxError",
     "evalue": "invalid syntax. Perhaps you forgot a comma? (180873857.py, line 1)",
     "output_type": "error",
     "traceback": [
      "\u001b[1;36m  Cell \u001b[1;32mIn[1], line 1\u001b[1;36m\u001b[0m\n\u001b[1;33m    print(\"my favorite tv show is \"game of thrones \"\")\u001b[0m\n\u001b[1;37m          ^\u001b[0m\n\u001b[1;31mSyntaxError\u001b[0m\u001b[1;31m:\u001b[0m invalid syntax. Perhaps you forgot a comma?\n"
     ]
    }
   ],
   "source": [
    "print(\"my favorite tv show is \"game of thrones \"\")"
   ]
  },
  {
   "cell_type": "code",
   "execution_count": 2,
   "id": "ba399493-9d63-46b3-b211-861f5c72c455",
   "metadata": {},
   "outputs": [
    {
     "name": "stderr",
     "output_type": "stream",
     "text": [
      "<>:1: SyntaxWarning: invalid escape sequence '\\ '\n",
      "<>:1: SyntaxWarning: invalid escape sequence '\\ '\n",
      "C:\\Users\\arnav\\AppData\\Local\\Temp\\ipykernel_4840\\214643365.py:1: SyntaxWarning: invalid escape sequence '\\ '\n",
      "  print(\"my favorite tv show is \\\"game of thrones\\ \"\")\n"
     ]
    },
    {
     "ename": "SyntaxError",
     "evalue": "unterminated string literal (detected at line 1) (214643365.py, line 1)",
     "output_type": "error",
     "traceback": [
      "\u001b[1;36m  Cell \u001b[1;32mIn[2], line 1\u001b[1;36m\u001b[0m\n\u001b[1;33m    print(\"my favorite tv show is \\\"game of thrones\\ \"\")\u001b[0m\n\u001b[1;37m                                                      ^\u001b[0m\n\u001b[1;31mSyntaxError\u001b[0m\u001b[1;31m:\u001b[0m unterminated string literal (detected at line 1)\n"
     ]
    }
   ],
   "source": [
    "print(\"my favorite tv show is \\\"game of thrones\\ \"\")\n"
   ]
  },
  {
   "cell_type": "code",
   "execution_count": 3,
   "id": "ae0e9aef-fb18-4cba-9252-e60b2d4ad86c",
   "metadata": {},
   "outputs": [],
   "source": [
    "list1=[]"
   ]
  },
  {
   "cell_type": "code",
   "execution_count": 4,
   "id": "9f707708-59a8-4610-b0a2-cfb81517f6f7",
   "metadata": {},
   "outputs": [
    {
     "data": {
      "text/plain": [
       "list"
      ]
     },
     "execution_count": 4,
     "metadata": {},
     "output_type": "execute_result"
    }
   ],
   "source": [
    "type(list1)"
   ]
  },
  {
   "cell_type": "code",
   "execution_count": 5,
   "id": "e474dc81-909b-46ce-8237-a2f2ad975247",
   "metadata": {},
   "outputs": [
    {
     "data": {
      "text/plain": [
       "[10, 30, 60]"
      ]
     },
     "execution_count": 5,
     "metadata": {},
     "output_type": "execute_result"
    }
   ],
   "source": [
    "list2=[10,30,60]\n",
    "list2"
   ]
  },
  {
   "cell_type": "code",
   "execution_count": 6,
   "id": "7475896a-d29f-4be3-858f-a4d0ab60f8f7",
   "metadata": {},
   "outputs": [],
   "source": [
    "list=[10.9,2903.4,20.4]"
   ]
  },
  {
   "cell_type": "code",
   "execution_count": 7,
   "id": "fb7c980e-f401-4d3c-b905-3a17b43fb820",
   "metadata": {},
   "outputs": [
    {
     "data": {
      "text/plain": [
       "[10.9, 2903.4, 20.4]"
      ]
     },
     "execution_count": 7,
     "metadata": {},
     "output_type": "execute_result"
    }
   ],
   "source": [
    "list"
   ]
  },
  {
   "cell_type": "code",
   "execution_count": 8,
   "id": "8ebeea81-0864-450d-8508-c5223bcaccaf",
   "metadata": {},
   "outputs": [],
   "source": [
    "l3=['huh','kis','lop']"
   ]
  },
  {
   "cell_type": "code",
   "execution_count": 9,
   "id": "a5449b22-ec63-4ac1-9efb-12411ef3a6e1",
   "metadata": {},
   "outputs": [
    {
     "data": {
      "text/plain": [
       "['huh', 'kis', 'lop']"
      ]
     },
     "execution_count": 9,
     "metadata": {},
     "output_type": "execute_result"
    }
   ],
   "source": [
    "l3"
   ]
  },
  {
   "cell_type": "code",
   "execution_count": 11,
   "id": "712f85d5-c943-4932-b711-62d74874ac53",
   "metadata": {},
   "outputs": [],
   "source": [
    "l4=['Aisf','yu',[78,2,60],[90,310,2]]"
   ]
  },
  {
   "cell_type": "code",
   "execution_count": 12,
   "id": "1d0e1f0e-b8aa-445c-8a7a-d80c4eb7d89c",
   "metadata": {},
   "outputs": [
    {
     "data": {
      "text/plain": [
       "['Aisf', 'yu', [78, 2, 60], [90, 310, 2]]"
      ]
     },
     "execution_count": 12,
     "metadata": {},
     "output_type": "execute_result"
    }
   ],
   "source": [
    "l4"
   ]
  },
  {
   "cell_type": "code",
   "execution_count": 13,
   "id": "9c149a7f-9905-4c98-8779-90a3d8058d7a",
   "metadata": {},
   "outputs": [],
   "source": [
    "l5=[1,2,'Asif',{'john','david'}]"
   ]
  },
  {
   "cell_type": "code",
   "execution_count": 14,
   "id": "497e7faf-7887-4472-878f-e884396427cf",
   "metadata": {},
   "outputs": [
    {
     "data": {
      "text/plain": [
       "[1, 2, 'Asif', {'david', 'john'}]"
      ]
     },
     "execution_count": 14,
     "metadata": {},
     "output_type": "execute_result"
    }
   ],
   "source": [
    "l5"
   ]
  },
  {
   "cell_type": "code",
   "execution_count": 16,
   "id": "49194495-6d60-4a45-8242-0ccccadfb279",
   "metadata": {},
   "outputs": [],
   "source": [
    "l9=[59,99.9,100,'opal']"
   ]
  },
  {
   "cell_type": "code",
   "execution_count": 17,
   "id": "4df912be-6fec-47f4-999a-4f8896fc8bfb",
   "metadata": {},
   "outputs": [
    {
     "data": {
      "text/plain": [
       "[59, 99.9, 100, 'opal']"
      ]
     },
     "execution_count": 17,
     "metadata": {},
     "output_type": "execute_result"
    }
   ],
   "source": [
    "l9"
   ]
  },
  {
   "cell_type": "code",
   "execution_count": 18,
   "id": "3ba0ad9f-e3f6-49f3-ad65-432175855383",
   "metadata": {},
   "outputs": [],
   "source": [
    "l8=[1, 2, 'Asif', {'david', 'john'}]"
   ]
  },
  {
   "cell_type": "code",
   "execution_count": 19,
   "id": "57bd1575-f36b-47fc-92b7-717daf292a0d",
   "metadata": {},
   "outputs": [
    {
     "data": {
      "text/plain": [
       "[1, 2, 'Asif', {'david', 'john'}]"
      ]
     },
     "execution_count": 19,
     "metadata": {},
     "output_type": "execute_result"
    }
   ],
   "source": [
    "l8"
   ]
  },
  {
   "cell_type": "code",
   "execution_count": 20,
   "id": "b7cc62ea-ea9e-4abf-ac56-32ab0163656b",
   "metadata": {},
   "outputs": [
    {
     "data": {
      "text/plain": [
       "4"
      ]
     },
     "execution_count": 20,
     "metadata": {},
     "output_type": "execute_result"
    }
   ],
   "source": [
    "len(l8)"
   ]
  },
  {
   "cell_type": "code",
   "execution_count": 21,
   "id": "b8c3f2e3-f858-4d75-822e-0616c6bb9146",
   "metadata": {},
   "outputs": [
    {
     "data": {
      "text/plain": [
       "1"
      ]
     },
     "execution_count": 21,
     "metadata": {},
     "output_type": "execute_result"
    }
   ],
   "source": [
    "l8[0]"
   ]
  },
  {
   "cell_type": "code",
   "execution_count": 23,
   "id": "0d725012-be27-4484-9b24-29dfbcf57231",
   "metadata": {},
   "outputs": [
    {
     "data": {
      "text/plain": [
       "'A'"
      ]
     },
     "execution_count": 23,
     "metadata": {},
     "output_type": "execute_result"
    }
   ],
   "source": [
    "l8[2][0]"
   ]
  },
  {
   "cell_type": "code",
   "execution_count": 25,
   "id": "4d949b9d-0cc4-45f7-a16c-4d47cc28cdf7",
   "metadata": {},
   "outputs": [
    {
     "data": {
      "text/plain": [
       "'A'"
      ]
     },
     "execution_count": 25,
     "metadata": {},
     "output_type": "execute_result"
    }
   ],
   "source": [
    "l8[2][0]"
   ]
  },
  {
   "cell_type": "markdown",
   "id": "fb6ff5a9-951d-4ef1-9697-93546b18cdf1",
   "metadata": {},
   "source": [
    "l4[-1]"
   ]
  },
  {
   "cell_type": "code",
   "execution_count": 26,
   "id": "c95663dd-0061-4c46-91ea-c666080cf5d6",
   "metadata": {},
   "outputs": [
    {
     "data": {
      "text/plain": [
       "[90, 310, 2]"
      ]
     },
     "execution_count": 26,
     "metadata": {},
     "output_type": "execute_result"
    }
   ],
   "source": [
    "l4[-1]"
   ]
  },
  {
   "cell_type": "code",
   "execution_count": 27,
   "id": "47207b1f-fb5e-4e18-9c8f-44a5458595dc",
   "metadata": {},
   "outputs": [],
   "source": [
    "myl=['one','two','three','four','five','six','seven','eight']"
   ]
  },
  {
   "cell_type": "code",
   "execution_count": 28,
   "id": "ad999e7c-d1c4-46d1-a0cf-2dc482c4ba21",
   "metadata": {},
   "outputs": [
    {
     "data": {
      "text/plain": [
       "['one', 'two', 'three']"
      ]
     },
     "execution_count": 28,
     "metadata": {},
     "output_type": "execute_result"
    }
   ],
   "source": [
    "myl[0:3]"
   ]
  },
  {
   "cell_type": "code",
   "execution_count": 29,
   "id": "d5a699ca-04cd-4b97-91fd-8f167a013cbc",
   "metadata": {},
   "outputs": [
    {
     "data": {
      "text/plain": [
       "['one', 'two', 'three', 'four', 'five', 'six', 'seven', 'eight']"
      ]
     },
     "execution_count": 29,
     "metadata": {},
     "output_type": "execute_result"
    }
   ],
   "source": [
    "myl[:]"
   ]
  },
  {
   "cell_type": "code",
   "execution_count": 30,
   "id": "4c6258ce-b898-4fc3-b5fc-b87db72c9c45",
   "metadata": {},
   "outputs": [
    {
     "data": {
      "text/plain": [
       "['three', 'four', 'five']"
      ]
     },
     "execution_count": 30,
     "metadata": {},
     "output_type": "execute_result"
    }
   ],
   "source": [
    "myl[2:5]"
   ]
  },
  {
   "cell_type": "code",
   "execution_count": 31,
   "id": "1f551cd0-18bb-41d2-a47a-dd06cbb0c233",
   "metadata": {},
   "outputs": [
    {
     "data": {
      "text/plain": [
       "['five', 'six', 'seven', 'eight']"
      ]
     },
     "execution_count": 31,
     "metadata": {},
     "output_type": "execute_result"
    }
   ],
   "source": [
    "myl[4:]"
   ]
  },
  {
   "cell_type": "code",
   "execution_count": 32,
   "id": "55bc4270-d4bf-4fff-a4c6-d1c84a0b32d1",
   "metadata": {},
   "outputs": [
    {
     "data": {
      "text/plain": [
       "['four', 'five', 'six', 'seven', 'eight']"
      ]
     },
     "execution_count": 32,
     "metadata": {},
     "output_type": "execute_result"
    }
   ],
   "source": [
    "myl[3:]"
   ]
  },
  {
   "cell_type": "code",
   "execution_count": 33,
   "id": "62130f84-da71-4175-915c-57af5bc1cd0d",
   "metadata": {},
   "outputs": [
    {
     "data": {
      "text/plain": [
       "['one', 'two', 'three', 'four', 'five', 'six', 'seven']"
      ]
     },
     "execution_count": 33,
     "metadata": {},
     "output_type": "execute_result"
    }
   ],
   "source": [
    "myl[:-1]"
   ]
  },
  {
   "cell_type": "code",
   "execution_count": 34,
   "id": "9223b681-2596-4fcb-8a24-df2277f6a19f",
   "metadata": {},
   "outputs": [
    {
     "data": {
      "text/plain": [
       "'seven'"
      ]
     },
     "execution_count": 34,
     "metadata": {},
     "output_type": "execute_result"
    }
   ],
   "source": [
    "myl[-2]"
   ]
  },
  {
   "cell_type": "code",
   "execution_count": 35,
   "id": "f4d5cc4e-cf2c-4716-923b-76802247da1f",
   "metadata": {},
   "outputs": [
    {
     "data": {
      "text/plain": [
       "['one', 'two', 'three', 'four', 'five', 'six']"
      ]
     },
     "execution_count": 35,
     "metadata": {},
     "output_type": "execute_result"
    }
   ],
   "source": [
    "myl[:-2]"
   ]
  },
  {
   "cell_type": "code",
   "execution_count": 36,
   "id": "03dc3656-26e8-40a4-87fc-527f904c3f5d",
   "metadata": {},
   "outputs": [
    {
     "data": {
      "text/plain": [
       "['one', 'two', 'three']"
      ]
     },
     "execution_count": 36,
     "metadata": {},
     "output_type": "execute_result"
    }
   ],
   "source": [
    "myl[:3]"
   ]
  },
  {
   "cell_type": "code",
   "execution_count": 37,
   "id": "6cd81985-77dc-45a6-ac75-319ee4a96545",
   "metadata": {},
   "outputs": [
    {
     "data": {
      "text/plain": [
       "['one', 'two', 'three', 'four']"
      ]
     },
     "execution_count": 37,
     "metadata": {},
     "output_type": "execute_result"
    }
   ],
   "source": [
    "myl[:4]"
   ]
  },
  {
   "cell_type": "code",
   "execution_count": 38,
   "id": "c27d3546-e388-4d53-9046-19abe675ee61",
   "metadata": {},
   "outputs": [
    {
     "data": {
      "text/plain": [
       "['six', 'seven', 'eight']"
      ]
     },
     "execution_count": 38,
     "metadata": {},
     "output_type": "execute_result"
    }
   ],
   "source": [
    "myl[-3:]"
   ]
  },
  {
   "cell_type": "code",
   "execution_count": 39,
   "id": "35e49cab-056f-4364-8ebf-e3075c6fe9f0",
   "metadata": {},
   "outputs": [
    {
     "data": {
      "text/plain": [
       "['seven', 'eight']"
      ]
     },
     "execution_count": 39,
     "metadata": {},
     "output_type": "execute_result"
    }
   ],
   "source": [
    "myl[-2:]"
   ]
  },
  {
   "cell_type": "code",
   "execution_count": 40,
   "id": "b75bcca6-0856-4699-8c66-129b8b0c9fa2",
   "metadata": {},
   "outputs": [
    {
     "data": {
      "text/plain": [
       "['eight']"
      ]
     },
     "execution_count": 40,
     "metadata": {},
     "output_type": "execute_result"
    }
   ],
   "source": [
    "myl[-1:]"
   ]
  },
  {
   "cell_type": "code",
   "execution_count": 41,
   "id": "e56be3fd-78b0-40c1-9d29-38045044293b",
   "metadata": {},
   "outputs": [
    {
     "data": {
      "text/plain": [
       "['one', 'two', 'three', 'four', 'five', 'six', 'seven', 'eight']"
      ]
     },
     "execution_count": 41,
     "metadata": {},
     "output_type": "execute_result"
    }
   ],
   "source": [
    "myl"
   ]
  },
  {
   "cell_type": "code",
   "execution_count": 44,
   "id": "0015b451-d557-4675-bbb2-52e22435d2b3",
   "metadata": {},
   "outputs": [],
   "source": [
    "myl.append('nine')"
   ]
  },
  {
   "cell_type": "code",
   "execution_count": 46,
   "id": "403630f4-8d80-44fc-9792-45705d0db86a",
   "metadata": {},
   "outputs": [
    {
     "data": {
      "text/plain": [
       "['one', 'two', 'three', 'four', 'five', 'six', 'seven', 'eight', 'ten', 'nine']"
      ]
     },
     "execution_count": 46,
     "metadata": {},
     "output_type": "execute_result"
    }
   ],
   "source": [
    "myl\n"
   ]
  },
  {
   "cell_type": "code",
   "execution_count": 47,
   "id": "7a244fd9-7165-405a-980f-078943ad7a23",
   "metadata": {},
   "outputs": [],
   "source": [
    "myl[8]='nine'"
   ]
  },
  {
   "cell_type": "code",
   "execution_count": 48,
   "id": "71c4af24-ac01-47ba-ae72-fc5db87b6eac",
   "metadata": {},
   "outputs": [
    {
     "data": {
      "text/plain": [
       "['one',\n",
       " 'two',\n",
       " 'three',\n",
       " 'four',\n",
       " 'five',\n",
       " 'six',\n",
       " 'seven',\n",
       " 'eight',\n",
       " 'nine',\n",
       " 'nine']"
      ]
     },
     "execution_count": 48,
     "metadata": {},
     "output_type": "execute_result"
    }
   ],
   "source": [
    "myl\n"
   ]
  },
  {
   "cell_type": "code",
   "execution_count": 49,
   "id": "2c3a7a60-8a03-49af-8ff2-8f6b111c62cd",
   "metadata": {},
   "outputs": [],
   "source": [
    "myl[9]='ten'"
   ]
  },
  {
   "cell_type": "code",
   "execution_count": 50,
   "id": "e1a40f03-d0b0-473b-a2ae-bc0dc9d4e1f1",
   "metadata": {},
   "outputs": [
    {
     "data": {
      "text/plain": [
       "['one', 'two', 'three', 'four', 'five', 'six', 'seven', 'eight', 'nine', 'ten']"
      ]
     },
     "execution_count": 50,
     "metadata": {},
     "output_type": "execute_result"
    }
   ],
   "source": [
    "myl"
   ]
  },
  {
   "cell_type": "code",
   "execution_count": 52,
   "id": "d18a88d3-757d-45ab-9f2d-f049df59d943",
   "metadata": {},
   "outputs": [],
   "source": [
    "myl.insert(10,'eleven')"
   ]
  },
  {
   "cell_type": "code",
   "execution_count": 53,
   "id": "8050feee-9c81-4f3e-9f91-348acff5da66",
   "metadata": {},
   "outputs": [
    {
     "data": {
      "text/plain": [
       "['one',\n",
       " 'two',\n",
       " 'three',\n",
       " 'four',\n",
       " 'five',\n",
       " 'six',\n",
       " 'seven',\n",
       " 'eight',\n",
       " 'nine',\n",
       " 'ten',\n",
       " 'eleven']"
      ]
     },
     "execution_count": 53,
     "metadata": {},
     "output_type": "execute_result"
    }
   ],
   "source": [
    "myl"
   ]
  },
  {
   "cell_type": "code",
   "execution_count": 54,
   "id": "225e3e2d-2466-49d0-9500-21b655530791",
   "metadata": {},
   "outputs": [],
   "source": [
    "myl.insert(1,'ONE')"
   ]
  },
  {
   "cell_type": "code",
   "execution_count": 55,
   "id": "8154cfdb-8ba3-4b59-8642-c90bbf833e7f",
   "metadata": {},
   "outputs": [
    {
     "data": {
      "text/plain": [
       "['one',\n",
       " 'ONE',\n",
       " 'two',\n",
       " 'three',\n",
       " 'four',\n",
       " 'five',\n",
       " 'six',\n",
       " 'seven',\n",
       " 'eight',\n",
       " 'nine',\n",
       " 'ten',\n",
       " 'eleven']"
      ]
     },
     "execution_count": 55,
     "metadata": {},
     "output_type": "execute_result"
    }
   ],
   "source": [
    "myl"
   ]
  },
  {
   "cell_type": "code",
   "execution_count": 57,
   "id": "92f4618b-e707-40d4-b6eb-dd1009c84015",
   "metadata": {},
   "outputs": [],
   "source": [
    "myl.remove('ONE')"
   ]
  },
  {
   "cell_type": "code",
   "execution_count": 59,
   "id": "7c138c96-7ebf-4bc2-aab5-325635d5fdc3",
   "metadata": {},
   "outputs": [
    {
     "data": {
      "text/plain": [
       "['one',\n",
       " 'two',\n",
       " 'three',\n",
       " 'four',\n",
       " 'five',\n",
       " 'six',\n",
       " 'seven',\n",
       " 'eight',\n",
       " 'nine',\n",
       " 'ten',\n",
       " 'eleven']"
      ]
     },
     "execution_count": 59,
     "metadata": {},
     "output_type": "execute_result"
    }
   ],
   "source": [
    "myl"
   ]
  },
  {
   "cell_type": "code",
   "execution_count": 60,
   "id": "7cf68524-e211-4197-a6f0-9c8af1004162",
   "metadata": {},
   "outputs": [
    {
     "data": {
      "text/plain": [
       "'eleven'"
      ]
     },
     "execution_count": 60,
     "metadata": {},
     "output_type": "execute_result"
    }
   ],
   "source": [
    "myl.pop()"
   ]
  },
  {
   "cell_type": "code",
   "execution_count": 61,
   "id": "c322f69e-a1dc-48ef-8166-393e6d7f18d5",
   "metadata": {},
   "outputs": [
    {
     "data": {
      "text/plain": [
       "['one', 'two', 'three', 'four', 'five', 'six', 'seven', 'eight', 'nine', 'ten']"
      ]
     },
     "execution_count": 61,
     "metadata": {},
     "output_type": "execute_result"
    }
   ],
   "source": [
    "myl"
   ]
  },
  {
   "cell_type": "code",
   "execution_count": 62,
   "id": "89d1e98b-c349-4902-81b1-f184f71ad1b7",
   "metadata": {},
   "outputs": [
    {
     "data": {
      "text/plain": [
       "'nine'"
      ]
     },
     "execution_count": 62,
     "metadata": {},
     "output_type": "execute_result"
    }
   ],
   "source": [
    "myl.pop(8)"
   ]
  },
  {
   "cell_type": "code",
   "execution_count": 63,
   "id": "f64c1cbc-74f1-48f8-831e-ef2916331d0c",
   "metadata": {},
   "outputs": [],
   "source": [
    "del myl[7]"
   ]
  },
  {
   "cell_type": "code",
   "execution_count": 64,
   "id": "c09fc16f-d2d8-433d-8d27-aeb4942209f5",
   "metadata": {},
   "outputs": [
    {
     "data": {
      "text/plain": [
       "['one', 'two', 'three', 'four', 'five', 'six', 'seven', 'ten']"
      ]
     },
     "execution_count": 64,
     "metadata": {},
     "output_type": "execute_result"
    }
   ],
   "source": [
    "myl"
   ]
  },
  {
   "cell_type": "code",
   "execution_count": 65,
   "id": "67aa2bf0-52ff-4c65-8af1-ee1886fb9e73",
   "metadata": {},
   "outputs": [
    {
     "data": {
      "text/plain": [
       "'ten'"
      ]
     },
     "execution_count": 65,
     "metadata": {},
     "output_type": "execute_result"
    }
   ],
   "source": [
    "myl.pop(7)"
   ]
  },
  {
   "cell_type": "code",
   "execution_count": 66,
   "id": "0a7b4a68-44e1-490c-bd10-89241d9519dd",
   "metadata": {},
   "outputs": [
    {
     "data": {
      "text/plain": [
       "['one', 'two', 'three', 'four', 'five', 'six', 'seven']"
      ]
     },
     "execution_count": 66,
     "metadata": {},
     "output_type": "execute_result"
    }
   ],
   "source": [
    "myl"
   ]
  },
  {
   "cell_type": "code",
   "execution_count": 68,
   "id": "c3bff162-6805-44bb-bb2d-1b8b44e3b25e",
   "metadata": {},
   "outputs": [],
   "source": [
    "myl[1]='lol'"
   ]
  },
  {
   "cell_type": "code",
   "execution_count": 69,
   "id": "b8ecbb4e-fce2-4bc7-a12a-2a34f3ddd4da",
   "metadata": {},
   "outputs": [
    {
     "data": {
      "text/plain": [
       "['one', 'lol', 'three', 'four', 'five', 'six', 'seven']"
      ]
     },
     "execution_count": 69,
     "metadata": {},
     "output_type": "execute_result"
    }
   ],
   "source": [
    "myl"
   ]
  },
  {
   "cell_type": "code",
   "execution_count": null,
   "id": "039fd772-7e91-4424-9e1b-0b3d291de154",
   "metadata": {},
   "outputs": [],
   "source": [
    "myl[2]=90\n",
    "myl"
   ]
  },
  {
   "cell_type": "code",
   "execution_count": 71,
   "id": "50b07be8-0949-42bf-b2cf-b14d3ade4dcc",
   "metadata": {},
   "outputs": [],
   "source": [
    "myl[3]='nona'"
   ]
  },
  {
   "cell_type": "code",
   "execution_count": 72,
   "id": "0d4cf66a-15bc-4cf2-bbf7-f89cc1b29546",
   "metadata": {},
   "outputs": [
    {
     "data": {
      "text/plain": [
       "['one', 'lol', 90, 'nona', 'five', 'six', 'seven']"
      ]
     },
     "execution_count": 72,
     "metadata": {},
     "output_type": "execute_result"
    }
   ],
   "source": [
    "myl"
   ]
  },
  {
   "cell_type": "code",
   "execution_count": 73,
   "id": "bf164300-acd7-47be-8cf0-1308f5b8e29d",
   "metadata": {},
   "outputs": [],
   "source": [
    "myl.clear()"
   ]
  },
  {
   "cell_type": "code",
   "execution_count": 74,
   "id": "c4af5c08-a0f8-4e98-af79-67cba821f6b3",
   "metadata": {},
   "outputs": [
    {
     "data": {
      "text/plain": [
       "[]"
      ]
     },
     "execution_count": 74,
     "metadata": {},
     "output_type": "execute_result"
    }
   ],
   "source": [
    "myl"
   ]
  },
  {
   "cell_type": "code",
   "execution_count": 75,
   "id": "3149359f-6ec8-4497-beea-67908f311177",
   "metadata": {},
   "outputs": [],
   "source": [
    "del myl"
   ]
  },
  {
   "cell_type": "code",
   "execution_count": 76,
   "id": "1983cc3a-5b8e-4f56-817e-a68a84fba45b",
   "metadata": {},
   "outputs": [
    {
     "ename": "NameError",
     "evalue": "name 'myl' is not defined",
     "output_type": "error",
     "traceback": [
      "\u001b[1;31m---------------------------------------------------------------------------\u001b[0m",
      "\u001b[1;31mNameError\u001b[0m                                 Traceback (most recent call last)",
      "Cell \u001b[1;32mIn[76], line 1\u001b[0m\n\u001b[1;32m----> 1\u001b[0m myl\n",
      "\u001b[1;31mNameError\u001b[0m: name 'myl' is not defined"
     ]
    }
   ],
   "source": []
  },
  {
   "cell_type": "code",
   "execution_count": 77,
   "id": "6644f423-317f-41b9-85b3-592b0a4a08e8",
   "metadata": {},
   "outputs": [],
   "source": [
    "myl=['one','two','three','four','five','six','seven','eight']\n",
    "myl1=myl"
   ]
  },
  {
   "cell_type": "code",
   "execution_count": 78,
   "id": "0d54e965-0985-4a5b-9f49-fc2a020c6461",
   "metadata": {},
   "outputs": [
    {
     "data": {
      "text/plain": [
       "(3154737169472, 3154737169472)"
      ]
     },
     "execution_count": 78,
     "metadata": {},
     "output_type": "execute_result"
    }
   ],
   "source": [
    "id(myl),id(myl1)"
   ]
  },
  {
   "cell_type": "code",
   "execution_count": 79,
   "id": "e28b5c4c-abed-4533-a6fe-c5425c4ddcb7",
   "metadata": {},
   "outputs": [],
   "source": [
    "myl2=myl.copy()"
   ]
  },
  {
   "cell_type": "code",
   "execution_count": 80,
   "id": "4c94eab5-cded-4c07-9926-14f248f1536d",
   "metadata": {},
   "outputs": [
    {
     "data": {
      "text/plain": [
       "3154737168704"
      ]
     },
     "execution_count": 80,
     "metadata": {},
     "output_type": "execute_result"
    }
   ],
   "source": [
    "id(myl2)"
   ]
  },
  {
   "cell_type": "code",
   "execution_count": 81,
   "id": "323c99d3-94d5-4f26-9c9e-858c11836998",
   "metadata": {},
   "outputs": [
    {
     "data": {
      "text/plain": [
       "[1, 'two', 'three', 'four', 'five', 'six', 'seven', 'eight']"
      ]
     },
     "execution_count": 81,
     "metadata": {},
     "output_type": "execute_result"
    }
   ],
   "source": [
    "myl[0]=1\n",
    "myl"
   ]
  },
  {
   "cell_type": "code",
   "execution_count": 82,
   "id": "1ed4e76f-c3c0-43cf-a40b-b78fc4beebe6",
   "metadata": {},
   "outputs": [
    {
     "data": {
      "text/plain": [
       "[1, 'two', 'three', 'four', 'five', 'six', 'seven', 'eight']"
      ]
     },
     "execution_count": 82,
     "metadata": {},
     "output_type": "execute_result"
    }
   ],
   "source": [
    "myl1"
   ]
  },
  {
   "cell_type": "code",
   "execution_count": 83,
   "id": "07348d94-a643-45ee-9a7b-70e5664b0640",
   "metadata": {},
   "outputs": [
    {
     "data": {
      "text/plain": [
       "['one', 'two', 'three', 'four', 'five', 'six', 'seven', 'eight']"
      ]
     },
     "execution_count": 83,
     "metadata": {},
     "output_type": "execute_result"
    }
   ],
   "source": [
    "myl2"
   ]
  },
  {
   "cell_type": "code",
   "execution_count": 85,
   "id": "1e717448-b964-4e09-a863-cb9387913563",
   "metadata": {},
   "outputs": [
    {
     "data": {
      "text/plain": [
       "['one', 'two', 'three', 'four', 'five', 'six']"
      ]
     },
     "execution_count": 85,
     "metadata": {},
     "output_type": "execute_result"
    }
   ],
   "source": [
    "l1=['one','two','three']\n",
    "l2=['four','five','six']\n",
    "l1+l2"
   ]
  },
  {
   "cell_type": "code",
   "execution_count": 91,
   "id": "644a0096-15ad-4c18-b507-72490d279942",
   "metadata": {},
   "outputs": [],
   "source": [
    "l1.extend(l2)"
   ]
  },
  {
   "cell_type": "code",
   "execution_count": 92,
   "id": "ef36508e-cee5-4e11-8299-24e87b896083",
   "metadata": {},
   "outputs": [
    {
     "data": {
      "text/plain": [
       "['one',\n",
       " 'two',\n",
       " 'three',\n",
       " 'one',\n",
       " 'two',\n",
       " 'three',\n",
       " 'four',\n",
       " 'five',\n",
       " 'six',\n",
       " 'four',\n",
       " 'five',\n",
       " 'six']"
      ]
     },
     "execution_count": 92,
     "metadata": {},
     "output_type": "execute_result"
    }
   ],
   "source": [
    "l1"
   ]
  },
  {
   "cell_type": "code",
   "execution_count": 93,
   "id": "932300cd-f406-46fc-9915-2bf81d7368b5",
   "metadata": {},
   "outputs": [
    {
     "data": {
      "text/plain": [
       "True"
      ]
     },
     "execution_count": 93,
     "metadata": {},
     "output_type": "execute_result"
    }
   ],
   "source": [
    "'one' in l1"
   ]
  },
  {
   "cell_type": "code",
   "execution_count": 95,
   "id": "ed77c905-1b98-4677-aa17-c82549b9925c",
   "metadata": {},
   "outputs": [
    {
     "data": {
      "text/plain": [
       "False"
      ]
     },
     "execution_count": 95,
     "metadata": {},
     "output_type": "execute_result"
    }
   ],
   "source": [
    "'ten' in l1"
   ]
  },
  {
   "cell_type": "code",
   "execution_count": 96,
   "id": "dca45baa-365e-4362-a3e8-edcd469fe4d4",
   "metadata": {},
   "outputs": [
    {
     "name": "stdout",
     "output_type": "stream",
     "text": [
      "Three is present in the list.\n"
     ]
    }
   ],
   "source": [
    "if 'three'in l1:\n",
    "    print('Three is present in the list.')\n",
    "else:\n",
    "    print('three is not present in the list.')"
   ]
  },
  {
   "cell_type": "code",
   "execution_count": 97,
   "id": "85fdaffe-06ee-4309-97b9-9cdd14ef2527",
   "metadata": {},
   "outputs": [
    {
     "name": "stdout",
     "output_type": "stream",
     "text": [
      "eleven is not present in the list.\n"
     ]
    }
   ],
   "source": [
    "if 'eleven'in l1:\n",
    "    print('eleven is present in the list.')\n",
    "else:\n",
    "    print('eleven is not present in the list.')"
   ]
  },
  {
   "cell_type": "code",
   "execution_count": 100,
   "id": "01b3dd72-46fc-41f4-aa96-492c43908f2b",
   "metadata": {},
   "outputs": [
    {
     "data": {
      "text/plain": [
       "['one',\n",
       " 'two',\n",
       " 'three',\n",
       " 'one',\n",
       " 'two',\n",
       " 'three',\n",
       " 'four',\n",
       " 'five',\n",
       " 'six',\n",
       " 'four',\n",
       " 'five',\n",
       " 'six']"
      ]
     },
     "execution_count": 100,
     "metadata": {},
     "output_type": "execute_result"
    }
   ],
   "source": [
    "l1.reverse()\n",
    "l1"
   ]
  },
  {
   "cell_type": "code",
   "execution_count": 101,
   "id": "820f33ef-5aea-4574-a334-1f04a36a5ba1",
   "metadata": {},
   "outputs": [],
   "source": [
    "l1=l1[::-1]"
   ]
  },
  {
   "cell_type": "code",
   "execution_count": 102,
   "id": "97534066-615a-4359-84e5-80b2ee7447ff",
   "metadata": {},
   "outputs": [
    {
     "data": {
      "text/plain": [
       "['six',\n",
       " 'five',\n",
       " 'four',\n",
       " 'six',\n",
       " 'five',\n",
       " 'four',\n",
       " 'three',\n",
       " 'two',\n",
       " 'one',\n",
       " 'three',\n",
       " 'two',\n",
       " 'one']"
      ]
     },
     "execution_count": 102,
     "metadata": {},
     "output_type": "execute_result"
    }
   ],
   "source": [
    "l1"
   ]
  },
  {
   "cell_type": "code",
   "execution_count": 103,
   "id": "aacd44af-311c-4aa1-951f-bff029858dc4",
   "metadata": {},
   "outputs": [],
   "source": [
    "list1=['one','two','three','four','five','six','seven','eight']\n",
    "list1.reverse()"
   ]
  },
  {
   "cell_type": "code",
   "execution_count": 104,
   "id": "ddd57661-28ea-42d4-82dd-0e036461b843",
   "metadata": {},
   "outputs": [
    {
     "data": {
      "text/plain": [
       "['eight', 'seven', 'six', 'five', 'four', 'three', 'two', 'one']"
      ]
     },
     "execution_count": 104,
     "metadata": {},
     "output_type": "execute_result"
    }
   ],
   "source": [
    "list1"
   ]
  },
  {
   "cell_type": "code",
   "execution_count": 105,
   "id": "ae4aa5c0-1c06-4572-8462-b1bdc14d8ff6",
   "metadata": {},
   "outputs": [],
   "source": [
    "list1=list1[::-1]"
   ]
  },
  {
   "cell_type": "code",
   "execution_count": 106,
   "id": "5b7124e9-acc2-48c6-b7cd-54222f9a7731",
   "metadata": {},
   "outputs": [
    {
     "data": {
      "text/plain": [
       "['one', 'two', 'three', 'four', 'five', 'six', 'seven', 'eight']"
      ]
     },
     "execution_count": 106,
     "metadata": {},
     "output_type": "execute_result"
    }
   ],
   "source": [
    "list1"
   ]
  },
  {
   "cell_type": "code",
   "execution_count": 108,
   "id": "0b315f4f-9828-4b2e-a26f-36c593fb34f2",
   "metadata": {},
   "outputs": [
    {
     "data": {
      "text/plain": [
       "[1, 'two', 'three', 'four', 'five', 'six', 'seven', 'eight']"
      ]
     },
     "execution_count": 108,
     "metadata": {},
     "output_type": "execute_result"
    }
   ],
   "source": [
    "myl"
   ]
  },
  {
   "cell_type": "code",
   "execution_count": 109,
   "id": "5b03373a-dfed-49c3-a573-6bc63d5291c8",
   "metadata": {},
   "outputs": [],
   "source": [
    "myl3=[4,5,1,2,6,78]"
   ]
  },
  {
   "cell_type": "code",
   "execution_count": 110,
   "id": "8467eb6b-ebdc-4682-a222-d6660a0a8ca2",
   "metadata": {},
   "outputs": [],
   "source": [
    "myl3.sort()"
   ]
  },
  {
   "cell_type": "code",
   "execution_count": 111,
   "id": "26032fde-1d40-4e2f-8842-f8bd323080df",
   "metadata": {},
   "outputs": [
    {
     "data": {
      "text/plain": [
       "[1, 2, 4, 5, 6, 78]"
      ]
     },
     "execution_count": 111,
     "metadata": {},
     "output_type": "execute_result"
    }
   ],
   "source": [
    "myl3"
   ]
  },
  {
   "cell_type": "code",
   "execution_count": 112,
   "id": "2de2a20e-9799-4cc7-9f30-b6f97071ff74",
   "metadata": {},
   "outputs": [],
   "source": [
    "myl3.sort(reverse=True)"
   ]
  },
  {
   "cell_type": "code",
   "execution_count": 113,
   "id": "02fc11f4-5f6d-43be-8f1a-c1167490f6d7",
   "metadata": {},
   "outputs": [
    {
     "data": {
      "text/plain": [
       "[78, 6, 5, 4, 2, 1]"
      ]
     },
     "execution_count": 113,
     "metadata": {},
     "output_type": "execute_result"
    }
   ],
   "source": [
    "myl3"
   ]
  },
  {
   "cell_type": "code",
   "execution_count": 114,
   "id": "bbbd0b41-ca0a-40d1-a929-0aad82be5c39",
   "metadata": {},
   "outputs": [
    {
     "data": {
      "text/plain": [
       "[1, 2, 4, 5, 6, 78]"
      ]
     },
     "execution_count": 114,
     "metadata": {},
     "output_type": "execute_result"
    }
   ],
   "source": [
    "sorted(myl3)"
   ]
  },
  {
   "cell_type": "code",
   "execution_count": 116,
   "id": "d1c61347-83bb-4d14-8042-2fbf343f2ee0",
   "metadata": {},
   "outputs": [
    {
     "data": {
      "text/plain": [
       "[78, 6, 5, 4, 2, 1]"
      ]
     },
     "execution_count": 116,
     "metadata": {},
     "output_type": "execute_result"
    }
   ],
   "source": [
    "myl3"
   ]
  },
  {
   "cell_type": "code",
   "execution_count": 117,
   "id": "dd6dfccd-98b5-4080-87d7-8657de0bf6e0",
   "metadata": {},
   "outputs": [
    {
     "data": {
      "text/plain": [
       "3"
      ]
     },
     "execution_count": 117,
     "metadata": {},
     "output_type": "execute_result"
    }
   ],
   "source": [
    "list1=['one','two','three','four','five','six','seven','eight','one','three','two','one']\n",
    "list1.count('one')"
   ]
  },
  {
   "cell_type": "code",
   "execution_count": 118,
   "id": "1b12b1be-2091-4bc0-a905-9519134c2438",
   "metadata": {},
   "outputs": [
    {
     "data": {
      "text/plain": [
       "2"
      ]
     },
     "execution_count": 118,
     "metadata": {},
     "output_type": "execute_result"
    }
   ],
   "source": [
    "list1.count('three')"
   ]
  },
  {
   "cell_type": "code",
   "execution_count": 119,
   "id": "96a71e3e-6dfa-4c75-991c-c81c6c9874b6",
   "metadata": {},
   "outputs": [
    {
     "data": {
      "text/plain": [
       "2"
      ]
     },
     "execution_count": 119,
     "metadata": {},
     "output_type": "execute_result"
    }
   ],
   "source": [
    "list1.count('two')"
   ]
  },
  {
   "cell_type": "code",
   "execution_count": 122,
   "id": "e07b09a2-6c1f-42aa-927f-2087c680da7d",
   "metadata": {},
   "outputs": [
    {
     "data": {
      "text/plain": [
       "True"
      ]
     },
     "execution_count": 122,
     "metadata": {},
     "output_type": "execute_result"
    }
   ],
   "source": [
    "myl3=[4,5,1,2,6,78,True,False]\n",
    "any(l3)"
   ]
  },
  {
   "cell_type": "code",
   "execution_count": 124,
   "id": "51cbe541-7e78-46a9-a12a-6e1b34d59ee5",
   "metadata": {},
   "outputs": [
    {
     "data": {
      "text/plain": [
       "True"
      ]
     },
     "execution_count": 124,
     "metadata": {},
     "output_type": "execute_result"
    }
   ],
   "source": [
    "all(l3)"
   ]
  },
  {
   "cell_type": "code",
   "execution_count": null,
   "id": "d4d98f99-a95f-46d0-a5e3-25e0abef3eb2",
   "metadata": {},
   "outputs": [],
   "source": []
  }
 ],
 "metadata": {
  "kernelspec": {
   "display_name": "Python [conda env:base] *",
   "language": "python",
   "name": "conda-base-py"
  },
  "language_info": {
   "codemirror_mode": {
    "name": "ipython",
    "version": 3
   },
   "file_extension": ".py",
   "mimetype": "text/x-python",
   "name": "python",
   "nbconvert_exporter": "python",
   "pygments_lexer": "ipython3",
   "version": "3.12.7"
  }
 },
 "nbformat": 4,
 "nbformat_minor": 5
}
