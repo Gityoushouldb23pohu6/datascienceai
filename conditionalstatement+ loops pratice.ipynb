{
 "cells": [
  {
   "cell_type": "code",
   "execution_count": 1,
   "id": "4b1ba5af-d881-40d2-8412-67ad9482e4b6",
   "metadata": {},
   "outputs": [
    {
     "name": "stdout",
     "output_type": "stream",
     "text": [
      "Data Science\n"
     ]
    }
   ],
   "source": [
    "if True:\n",
    "    print ('Data Science')\n",
    "    "
   ]
  },
  {
   "cell_type": "code",
   "execution_count": 3,
   "id": "b4a16f51-8dd5-4f95-bfb0-047563057921",
   "metadata": {},
   "outputs": [
    {
     "name": "stdout",
     "output_type": "stream",
     "text": [
      "Data Science\n",
      "Bye for now \n"
     ]
    }
   ],
   "source": [
    "if True:\n",
    "    print('Data Science')\n",
    "print('Bye for now ')"
   ]
  },
  {
   "cell_type": "code",
   "execution_count": 4,
   "id": "1f91d39a-80f5-4433-81c9-cfe34bdae655",
   "metadata": {},
   "outputs": [
    {
     "name": "stdout",
     "output_type": "stream",
     "text": [
      "Bye for now \n"
     ]
    }
   ],
   "source": [
    "if False:\n",
    "    print('Data Science')\n",
    "print('Bye for now ')"
   ]
  },
  {
   "cell_type": "code",
   "execution_count": 6,
   "id": "bd045d99-12a9-4ab1-a7b9-fc3cfc6828ea",
   "metadata": {},
   "outputs": [
    {
     "name": "stdout",
     "output_type": "stream",
     "text": [
      "Number is even \n"
     ]
    }
   ],
   "source": [
    "x=4\n",
    "\n",
    "r=x%2\n",
    "\n",
    "if r==0:\n",
    "    print (\"Number is even \")"
   ]
  },
  {
   "cell_type": "code",
   "execution_count": 7,
   "id": "c63128a6-e7a8-45d7-8add-823e3c1d1d76",
   "metadata": {},
   "outputs": [
    {
     "name": "stdout",
     "output_type": "stream",
     "text": [
      "odd number \n"
     ]
    }
   ],
   "source": [
    "x=5\n",
    "\n",
    "r=x%2\n",
    "\n",
    "if r==0:\n",
    "    print (\"Number is even \")\n",
    "print(\"odd number \")"
   ]
  },
  {
   "cell_type": "code",
   "execution_count": 8,
   "id": "1313a119-d4da-4086-80f5-2b2425974e7b",
   "metadata": {},
   "outputs": [
    {
     "name": "stdout",
     "output_type": "stream",
     "text": [
      "Number is even \n",
      "odd number \n"
     ]
    }
   ],
   "source": [
    "x=8\n",
    "\n",
    "r=x%2\n",
    "\n",
    "if r==0:\n",
    "    print (\"Number is even \")\n",
    "print(\"odd number \")"
   ]
  },
  {
   "cell_type": "code",
   "execution_count": 9,
   "id": "12cb41d7-899b-4f67-837e-8c84846af1ae",
   "metadata": {},
   "outputs": [
    {
     "name": "stdout",
     "output_type": "stream",
     "text": [
      "Number is even \n"
     ]
    }
   ],
   "source": [
    "x=8\n",
    "\n",
    "r=x%2\n",
    "\n",
    "if r==0:\n",
    "    print (\"Number is even \")\n",
    "if r==1:\n",
    "    \n",
    "    print(\"odd number \")"
   ]
  },
  {
   "cell_type": "code",
   "execution_count": 10,
   "id": "3c31517d-af53-48a6-a1fb-ab868071d4a2",
   "metadata": {},
   "outputs": [
    {
     "name": "stdout",
     "output_type": "stream",
     "text": [
      "odd number \n"
     ]
    }
   ],
   "source": [
    "x=19\n",
    "\n",
    "r=x%2\n",
    "\n",
    "if r==0:\n",
    "    print (\"Number is even \")\n",
    "if r!=0:\n",
    "    \n",
    "    print(\"odd number \")"
   ]
  },
  {
   "cell_type": "code",
   "execution_count": 13,
   "id": "fd894eac-2635-4b30-ab08-89fe73363b77",
   "metadata": {},
   "outputs": [
    {
     "name": "stdout",
     "output_type": "stream",
     "text": [
      "Number is even \n",
      "greater number .\n"
     ]
    }
   ],
   "source": [
    "x=8\n",
    "\n",
    "\n",
    "r=x%2\n",
    "\n",
    "if r==0:\n",
    "    print (\"Number is even \")\n",
    "    if x>5:\n",
    "        print (\"greater number .\")\n",
    "\n",
    "if r!=0:\n",
    "    \n",
    "    print(\"odd number \")"
   ]
  },
  {
   "cell_type": "code",
   "execution_count": 15,
   "id": "0331852c-7e54-4367-9251-302058d9ab18",
   "metadata": {},
   "outputs": [
    {
     "name": "stdout",
     "output_type": "stream",
     "text": [
      "Number is even \n",
      "greater number .\n"
     ]
    }
   ],
   "source": [
    "x=8\n",
    "\n",
    "\n",
    "r=x%2\n",
    "\n",
    "if r==0:\n",
    "    print (\"Number is even \")\n",
    "    if x>5:\n",
    "        print (\"greater number .\")\n",
    "    else :\n",
    "        print (\"smaller number \")\n",
    "\n",
    "if r!=0:\n",
    "    \n",
    "    print(\"odd number \")"
   ]
  },
  {
   "cell_type": "code",
   "execution_count": 25,
   "id": "cc7e413c-5fd1-4f48-9b9b-c7f0e96858a8",
   "metadata": {},
   "outputs": [
    {
     "name": "stdin",
     "output_type": "stream",
     "text": [
      "enter a number  4\n"
     ]
    },
    {
     "name": "stdout",
     "output_type": "stream",
     "text": [
      "four \n"
     ]
    }
   ],
   "source": [
    "x=int (input (\"enter a number \"))\n",
    "\n",
    "if(x==1):\n",
    "    print (\"one\")\n",
    "elif(x==2):\n",
    "    print (\"two\")\n",
    "elif(x==3):\n",
    "    print (\"three \")\n",
    "elif(x==4):\n",
    "    print (\"four \")\n",
    "else:\n",
    "    print (\"some other number \")\n",
    "    \n"
   ]
  },
  {
   "cell_type": "code",
   "execution_count": 27,
   "id": "07f7fc6c-cfb8-4bd9-a795-b5c90473bdae",
   "metadata": {},
   "outputs": [
    {
     "name": "stdout",
     "output_type": "stream",
     "text": [
      "hey dude !\n",
      "hey dude !\n",
      "hey dude !\n",
      "hey dude !\n",
      "hey dude !\n"
     ]
    }
   ],
   "source": [
    "i=1\n",
    "while i<=5:\n",
    "    print('hey dude !')\n",
    "    i+=1"
   ]
  },
  {
   "cell_type": "code",
   "execution_count": 28,
   "id": "e03eb8e3-7aa6-432b-a517-e97c3e83d1ea",
   "metadata": {},
   "outputs": [
    {
     "name": "stdout",
     "output_type": "stream",
     "text": [
      "hey dude ! : 5\n",
      "hey dude ! : 4\n",
      "hey dude ! : 3\n",
      "hey dude ! : 2\n",
      "hey dude ! : 1\n"
     ]
    }
   ],
   "source": [
    "i=5\n",
    "while i>=1:\n",
    "    print('hey dude ! :',i)\n",
    "    i-=1"
   ]
  },
  {
   "cell_type": "code",
   "execution_count": 33,
   "id": "b96e74b2-628a-4e91-96e3-dc51519e48ec",
   "metadata": {},
   "outputs": [
    {
     "name": "stdout",
     "output_type": "stream",
     "text": [
      "hey Im learning data science \n",
      "AI\n",
      "AI\n",
      "AI\n",
      "AI\n",
      "\n",
      "hey Im learning data science \n",
      "AI\n",
      "AI\n",
      "AI\n",
      "AI\n",
      "\n",
      "hey Im learning data science \n",
      "AI\n",
      "AI\n",
      "AI\n",
      "AI\n",
      "\n",
      "hey Im learning data science \n",
      "AI\n",
      "AI\n",
      "AI\n",
      "AI\n",
      "\n",
      "hey Im learning data science \n",
      "AI\n",
      "AI\n",
      "AI\n",
      "AI\n",
      "\n"
     ]
    }
   ],
   "source": [
    "i=1\n",
    "\n",
    "while i<=5:\n",
    "    print ('hey Im learning data science ')\n",
    "    j=1\n",
    "    while j<5:\n",
    "        print (\"AI\")\n",
    "        j+=1\n",
    "    i+=1\n",
    "    print (\"\")\n",
    "            \n"
   ]
  },
  {
   "cell_type": "code",
   "execution_count": 35,
   "id": "064821ff-5894-486c-8ad8-53289035953a",
   "metadata": {},
   "outputs": [
    {
     "name": "stdout",
     "output_type": "stream",
     "text": [
      "hey Im learning data science  AI AI AI AI \n",
      "hey Im learning data science  AI AI AI AI \n",
      "hey Im learning data science  AI AI AI AI \n",
      "hey Im learning data science  AI AI AI AI \n",
      "hey Im learning data science  AI AI AI AI \n"
     ]
    }
   ],
   "source": [
    "i=1\n",
    "\n",
    "while i<=5:\n",
    "    print ('hey Im learning data science ',end=\" \")\n",
    "    j=1\n",
    "    while j<5:\n",
    "        print (\"AI\",end=\" \")\n",
    "        j+=1\n",
    "    i+=1\n",
    "    print (\"\")"
   ]
  },
  {
   "cell_type": "code",
   "execution_count": 37,
   "id": "e20e1adf-77fb-4de1-b5a9-cc55e878fcad",
   "metadata": {},
   "outputs": [
    {
     "name": "stdout",
     "output_type": "stream",
     "text": [
      "0\n",
      "1\n",
      "2\n",
      "\n",
      "0\n",
      "2\n",
      "4\n",
      "\n"
     ]
    }
   ],
   "source": [
    "i=1\n",
    "while i<=2:\n",
    "    j=0\n",
    "    while j<=2:\n",
    "        print (i*j)\n",
    "        j+=1\n",
    "    i+=1\n",
    "    print(\"\")\n"
   ]
  },
  {
   "cell_type": "code",
   "execution_count": 38,
   "id": "c05f4129-648f-423f-a4ac-927affd58543",
   "metadata": {},
   "outputs": [
    {
     "name": "stdout",
     "output_type": "stream",
     "text": [
      "0\n",
      "1\n",
      "2\n",
      "3\n",
      "\n",
      "0\n",
      "2\n",
      "4\n",
      "6\n",
      "\n",
      "0\n",
      "3\n",
      "6\n",
      "9\n",
      "\n",
      "0\n",
      "4\n",
      "8\n",
      "12\n",
      "\n"
     ]
    }
   ],
   "source": [
    "i=1\n",
    "while i<=4:\n",
    "    j=0\n",
    "    while j<=3:\n",
    "        print (i*j)\n",
    "        j+=1\n",
    "    i+=1\n",
    "    print(\"\")\n"
   ]
  },
  {
   "cell_type": "code",
   "execution_count": 40,
   "id": "d8164a08-676f-47af-aef3-7e6d832b0eee",
   "metadata": {},
   "outputs": [
    {
     "name": "stdout",
     "output_type": "stream",
     "text": [
      "n\n",
      "i\n",
      "t\n"
     ]
    }
   ],
   "source": [
    "name = 'nit'\n",
    "for i in name:\n",
    "    print(i)"
   ]
  },
  {
   "cell_type": "code",
   "execution_count": 42,
   "id": "97363966-b338-415b-8e22-005cbc5da841",
   "metadata": {},
   "outputs": [
    {
     "name": "stdout",
     "output_type": "stream",
     "text": [
      "1\n",
      "3.5\n",
      "hello\n"
     ]
    }
   ],
   "source": [
    "name1=[1,3.5,\"hello\"]\n",
    "for i in name1 : \n",
    "    print (i)"
   ]
  },
  {
   "cell_type": "code",
   "execution_count": 44,
   "id": "cd7b93e6-0f6c-48bd-b7ba-f747fabb7121",
   "metadata": {},
   "outputs": [
    {
     "name": "stdout",
     "output_type": "stream",
     "text": [
      "2\n",
      "3\n",
      "4\n",
      "5\n",
      "1\n",
      "hello\n",
      "daring \n"
     ]
    }
   ],
   "source": [
    "for i in [2,3,4,5,1,'hello','daring ']:\n",
    "    print (i)"
   ]
  },
  {
   "cell_type": "code",
   "execution_count": 45,
   "id": "9b528543-99e9-424f-adf6-7ad4e93cde8c",
   "metadata": {},
   "outputs": [
    {
     "data": {
      "text/plain": [
       "range(0, 5)"
      ]
     },
     "execution_count": 45,
     "metadata": {},
     "output_type": "execute_result"
    }
   ],
   "source": [
    "range(5)"
   ]
  },
  {
   "cell_type": "code",
   "execution_count": 46,
   "id": "7ca25048-cd83-4f6f-900f-d6bbc79212d8",
   "metadata": {},
   "outputs": [
    {
     "name": "stdout",
     "output_type": "stream",
     "text": [
      "0\n",
      "1\n",
      "2\n",
      "3\n",
      "4\n"
     ]
    }
   ],
   "source": [
    "for i in range(5):\n",
    "    print (i)"
   ]
  },
  {
   "cell_type": "code",
   "execution_count": 47,
   "id": "dc0f9238-4f7f-43bb-8931-7cdcf28f0e3e",
   "metadata": {},
   "outputs": [
    {
     "name": "stdout",
     "output_type": "stream",
     "text": [
      "2\n",
      "3\n",
      "4\n"
     ]
    }
   ],
   "source": [
    "for i in range(2,5):\n",
    "    print (i)"
   ]
  },
  {
   "cell_type": "code",
   "execution_count": 48,
   "id": "5e22d47a-59b3-41e2-bc0a-7c4707efbedf",
   "metadata": {},
   "outputs": [
    {
     "name": "stdout",
     "output_type": "stream",
     "text": [
      "1\n",
      "4\n",
      "7\n"
     ]
    }
   ],
   "source": [
    "for i in range(1,10,3):\n",
    "    print (i)"
   ]
  },
  {
   "cell_type": "code",
   "execution_count": 50,
   "id": "4d3b5ffd-7699-49b7-8072-a2cf0395d99c",
   "metadata": {},
   "outputs": [
    {
     "name": "stdout",
     "output_type": "stream",
     "text": [
      "1\n",
      "4\n",
      "7\n",
      "10\n",
      "13\n",
      "16\n",
      "19\n"
     ]
    }
   ],
   "source": [
    "for i in range(1,21,3):\n",
    "    print (i)"
   ]
  },
  {
   "cell_type": "code",
   "execution_count": 52,
   "id": "4953470d-919b-4e80-9339-89fbb1e76fc6",
   "metadata": {},
   "outputs": [
    {
     "name": "stdout",
     "output_type": "stream",
     "text": [
      "5\n",
      "10\n",
      "15\n",
      "20\n",
      "25\n",
      "30\n",
      "35\n",
      "40\n",
      "45\n",
      "50\n"
     ]
    }
   ],
   "source": [
    "for i in range(1,51):\n",
    "    if(i%5)==0:\n",
    "        print (i)"
   ]
  },
  {
   "cell_type": "code",
   "execution_count": 53,
   "id": "3b510600-c456-4dc7-b794-4548802ab5cd",
   "metadata": {},
   "outputs": [
    {
     "name": "stdout",
     "output_type": "stream",
     "text": [
      "1\n",
      "2\n",
      "3\n",
      "4\n",
      "6\n",
      "7\n",
      "8\n",
      "9\n",
      "11\n",
      "12\n",
      "13\n",
      "14\n",
      "16\n",
      "17\n",
      "18\n",
      "19\n",
      "21\n",
      "22\n",
      "23\n",
      "24\n",
      "26\n",
      "27\n",
      "28\n",
      "29\n",
      "31\n",
      "32\n",
      "33\n",
      "34\n",
      "36\n",
      "37\n",
      "38\n",
      "39\n",
      "41\n",
      "42\n",
      "43\n",
      "44\n",
      "46\n",
      "47\n",
      "48\n",
      "49\n"
     ]
    }
   ],
   "source": [
    "for i in range(1,51):\n",
    "    if(i%5)!=0:\n",
    "        print (i)"
   ]
  },
  {
   "cell_type": "code",
   "execution_count": 1,
   "id": "b4c38cff-5b4d-42f3-844e-c8bb9836289d",
   "metadata": {},
   "outputs": [
    {
     "name": "stdin",
     "output_type": "stream",
     "text": [
      "how many chocolates do you want ? 3\n"
     ]
    },
    {
     "name": "stdout",
     "output_type": "stream",
     "text": [
      "heres your chocolate\n",
      "heres your chocolate\n",
      "heres your chocolate\n"
     ]
    }
   ],
   "source": [
    "x=int(input(\"how many chocolates do you want ?\"))\n",
    "i=1\n",
    "while i<=x:\n",
    "    print (\"heres your chocolate\")\n",
    "    i+=1"
   ]
  },
  {
   "cell_type": "code",
   "execution_count": 3,
   "id": "3011ac7c-7cff-42cf-942a-6d3f19e3b32d",
   "metadata": {},
   "outputs": [
    {
     "name": "stdin",
     "output_type": "stream",
     "text": [
      "how many chocolates do you want ? 11\n"
     ]
    },
    {
     "name": "stdout",
     "output_type": "stream",
     "text": [
      "heres your chocolate\n",
      "heres your chocolate\n",
      "heres your chocolate\n",
      "heres your chocolate\n",
      "heres your chocolate\n",
      "heres your chocolate\n",
      "heres your chocolate\n",
      "heres your chocolate\n",
      "heres your chocolate\n",
      "heres your chocolate\n",
      "bye for now \n"
     ]
    }
   ],
   "source": [
    "avaichoco=10\n",
    "x=int(input(\"how many chocolates do you want ?\"))\n",
    "i=1\n",
    "while i<=x:\n",
    "    if (i>avaichoco):\n",
    "        break\n",
    "    \n",
    "    print (\"heres your chocolate\")\n",
    "    i+=1\n",
    "print(\"bye for now \")    "
   ]
  },
  {
   "cell_type": "code",
   "execution_count": 4,
   "id": "9990282c-d9ec-471f-9bbe-0650f2bea206",
   "metadata": {},
   "outputs": [
    {
     "name": "stdout",
     "output_type": "stream",
     "text": [
      "1\n",
      "2\n",
      "3\n",
      "4\n",
      "5\n",
      "6\n",
      "7\n",
      "8\n",
      "9\n",
      "10\n"
     ]
    }
   ],
   "source": [
    "for i in range(1,11):\n",
    "    print(i)"
   ]
  },
  {
   "cell_type": "code",
   "execution_count": 5,
   "id": "a6077b66-42bd-4b33-9a4a-50267b566930",
   "metadata": {},
   "outputs": [
    {
     "name": "stdout",
     "output_type": "stream",
     "text": [
      "1\n",
      "2\n",
      "3\n",
      "4\n",
      "5\n"
     ]
    }
   ],
   "source": [
    "for i in range(1,11):\n",
    "    \n",
    "    if (i==6):\n",
    "        break\n",
    "    \n",
    "    print(i)"
   ]
  },
  {
   "cell_type": "code",
   "execution_count": 6,
   "id": "544b15c0-7ae3-4386-ad05-9c74ab93396a",
   "metadata": {},
   "outputs": [
    {
     "name": "stdout",
     "output_type": "stream",
     "text": [
      "1\n",
      "2\n",
      "3\n",
      "4\n",
      "5\n",
      "7\n",
      "8\n",
      "9\n",
      "10\n"
     ]
    }
   ],
   "source": [
    "for i in range(1,11):\n",
    "    \n",
    "    if (i==6):\n",
    "        continue\n",
    "    \n",
    "    print(i)"
   ]
  },
  {
   "cell_type": "code",
   "execution_count": 8,
   "id": "557918bd-6fcf-4c79-b125-6cbb31301f90",
   "metadata": {},
   "outputs": [],
   "source": [
    "for i in range(1,11):\n",
    "    pass\n",
    "    "
   ]
  },
  {
   "cell_type": "code",
   "execution_count": 9,
   "id": "0b059a29-7897-4295-924b-1422efb68fd4",
   "metadata": {},
   "outputs": [
    {
     "name": "stdout",
     "output_type": "stream",
     "text": [
      "3\n",
      "6\n",
      "9\n",
      "12\n",
      "15\n",
      "18\n",
      "21\n",
      "24\n",
      "27\n",
      "30\n",
      "33\n",
      "36\n",
      "39\n",
      "42\n",
      "45\n",
      "48\n",
      "end\n"
     ]
    }
   ],
   "source": [
    "for i in range(1,51):\n",
    "    if (i%3)==0:\n",
    "        print(i)\n",
    "print (\"end\")"
   ]
  },
  {
   "cell_type": "code",
   "execution_count": 10,
   "id": "bcc7ac84-a02a-4015-8989-c759011ea88c",
   "metadata": {},
   "outputs": [
    {
     "name": "stdout",
     "output_type": "stream",
     "text": [
      "1\n",
      "2\n",
      "4\n",
      "5\n",
      "7\n",
      "8\n",
      "10\n",
      "11\n",
      "13\n",
      "14\n",
      "16\n",
      "17\n",
      "19\n",
      "20\n",
      "22\n",
      "23\n",
      "25\n",
      "26\n",
      "28\n",
      "29\n",
      "31\n",
      "32\n",
      "34\n",
      "35\n",
      "37\n",
      "38\n",
      "40\n",
      "41\n",
      "43\n",
      "44\n",
      "46\n",
      "47\n",
      "49\n",
      "50\n",
      "end\n"
     ]
    }
   ],
   "source": [
    "for i in range(1,51):\n",
    "    if (i%3)==0:\n",
    "        continue\n",
    "    print(i)\n",
    "print (\"end\")"
   ]
  },
  {
   "cell_type": "code",
   "execution_count": 13,
   "id": "22d46f31-4213-4ba6-b5dd-a1b4279fca6d",
   "metadata": {},
   "outputs": [
    {
     "name": "stdout",
     "output_type": "stream",
     "text": [
      "1\n",
      "2\n",
      "3\n",
      "4\n",
      "5\n",
      "6\n",
      "7\n",
      "8\n",
      "9\n",
      "10\n",
      "11\n",
      "12\n",
      "13\n",
      "14\n",
      "16\n",
      "17\n",
      "18\n",
      "19\n",
      "20\n",
      "21\n",
      "22\n",
      "23\n",
      "24\n",
      "25\n",
      "26\n",
      "27\n",
      "28\n",
      "29\n",
      "its over \n"
     ]
    }
   ],
   "source": [
    "for i in range(1,30):\n",
    "    if (i%3==0) &(i%5==0):\n",
    "        continue \n",
    "    print(i)\n",
    "print(\"its over \")"
   ]
  },
  {
   "cell_type": "code",
   "execution_count": 15,
   "id": "22f10e0f-cc81-4137-877b-98b492f21009",
   "metadata": {},
   "outputs": [
    {
     "name": "stdout",
     "output_type": "stream",
     "text": [
      "1\n",
      "3\n",
      "5\n",
      "7\n",
      "9\n",
      "11\n",
      "13\n",
      "15\n",
      "17\n",
      "19\n",
      "21\n",
      "23\n",
      "25\n",
      "27\n",
      "29\n",
      "31\n",
      "33\n",
      "35\n",
      "37\n",
      "39\n",
      "41\n",
      "43\n",
      "45\n",
      "47\n",
      "49\n",
      "its the en d\n"
     ]
    }
   ],
   "source": [
    "for i in range(1,51):\n",
    "    if(i%2)==0:\n",
    "        continue\n",
    "    else:\n",
    "        print(i)\n",
    "print(\"its the en d\")        "
   ]
  },
  {
   "cell_type": "code",
   "execution_count": 16,
   "id": "2808e71d-da9e-47f2-a239-fb74f991acc0",
   "metadata": {},
   "outputs": [],
   "source": [
    "####\n",
    "####\n",
    "####"
   ]
  },
  {
   "cell_type": "code",
   "execution_count": 17,
   "id": "19b57b87-614d-4498-bf3d-dfe604e0423b",
   "metadata": {},
   "outputs": [
    {
     "name": "stdout",
     "output_type": "stream",
     "text": [
      "####\n",
      "####\n",
      "####\n",
      "####\n"
     ]
    }
   ],
   "source": [
    "for i in range(1,5):\n",
    "    print(\"####\")\n",
    "    i+=1"
   ]
  },
  {
   "cell_type": "code",
   "execution_count": 18,
   "id": "e9a1900b-79a1-439f-8ba2-f96eb975ac92",
   "metadata": {},
   "outputs": [
    {
     "name": "stdout",
     "output_type": "stream",
     "text": [
      "####\n",
      "####\n",
      "####\n",
      "####\n"
     ]
    }
   ],
   "source": [
    "for i in range(1,5):\n",
    "    \n",
    "    print(\"####\")\n",
    "    "
   ]
  },
  {
   "cell_type": "code",
   "execution_count": 21,
   "id": "dc9f3e9f-57e9-4275-8283-a845b8586c60",
   "metadata": {},
   "outputs": [
    {
     "name": "stdout",
     "output_type": "stream",
     "text": [
      "#\n",
      "#\n",
      "#\n",
      "#\n"
     ]
    }
   ],
   "source": [
    "for j in  range(4):\n",
    "    print(\"#\")"
   ]
  },
  {
   "cell_type": "code",
   "execution_count": 24,
   "id": "30c70a40-90f6-4906-9bf2-89abe8465363",
   "metadata": {},
   "outputs": [
    {
     "name": "stdout",
     "output_type": "stream",
     "text": [
      "####\n",
      "####\n",
      "####\n",
      "####\n"
     ]
    }
   ],
   "source": [
    "for i in range(4):\n",
    "    for j in  range(4):\n",
    "        print(\"#\",end=\"\")\n",
    "    print (\"\")"
   ]
  },
  {
   "cell_type": "code",
   "execution_count": 27,
   "id": "e0f91edf-d0ea-4fc9-85f9-bce71455a66f",
   "metadata": {},
   "outputs": [
    {
     "name": "stdout",
     "output_type": "stream",
     "text": [
      "\n",
      "*\n",
      "**\n",
      "***\n",
      "****\n"
     ]
    }
   ],
   "source": [
    "for i in range(5):\n",
    "    for j in range(i):\n",
    "        print(\"*\",end='')\n",
    "    print()"
   ]
  },
  {
   "cell_type": "code",
   "execution_count": 32,
   "id": "f6252086-3e41-4aec-842f-fcd908c7433f",
   "metadata": {},
   "outputs": [
    {
     "name": "stdout",
     "output_type": "stream",
     "text": [
      "[0]\n"
     ]
    }
   ],
   "source": [
    "print (list(range(1)))"
   ]
  },
  {
   "cell_type": "code",
   "execution_count": 33,
   "id": "e695e33c-2700-4a0a-95c0-5fafcfb0e1a6",
   "metadata": {},
   "outputs": [
    {
     "name": "stdout",
     "output_type": "stream",
     "text": [
      "\n",
      "#\n",
      "##\n",
      "###\n",
      "####\n"
     ]
    }
   ],
   "source": [
    "for i in range(5):\n",
    "    print (\"#\"*i)"
   ]
  },
  {
   "cell_type": "code",
   "execution_count": 35,
   "id": "ee1360d6-72f1-43be-8626-2ec502022a41",
   "metadata": {},
   "outputs": [
    {
     "name": "stdout",
     "output_type": "stream",
     "text": [
      "*\n",
      "**\n",
      "***\n",
      "****\n"
     ]
    }
   ],
   "source": [
    "for i in range(1,5):\n",
    "    for j in range(4):\n",
    "        if(i>j):\n",
    "            print(\"*\", end=\"\")\n",
    "    print(\"\")\n"
   ]
  },
  {
   "cell_type": "code",
   "execution_count": 36,
   "id": "17af5503-3b57-4513-8550-73341fbd0d88",
   "metadata": {},
   "outputs": [],
   "source": [
    "####\n",
    "###\n",
    "##\n",
    "#"
   ]
  },
  {
   "cell_type": "code",
   "execution_count": 37,
   "id": "df0846e1-c616-48be-a102-c1d88a96f574",
   "metadata": {},
   "outputs": [
    {
     "name": "stdout",
     "output_type": "stream",
     "text": [
      "^^^^\n",
      "^^^\n",
      "^^\n",
      "^\n"
     ]
    }
   ],
   "source": [
    "for i in range(4):\n",
    "    for j in range (4-i):\n",
    "        print(\"^\",end=\"\")\n",
    "    print ()             "
   ]
  },
  {
   "cell_type": "code",
   "execution_count": 39,
   "id": "6fd21735-3242-4383-8657-3ebc31fe31ea",
   "metadata": {},
   "outputs": [
    {
     "name": "stdout",
     "output_type": "stream",
     "text": [
      "****\n",
      "***\n",
      "**\n",
      "*\n"
     ]
    }
   ],
   "source": [
    "for i in range(4):\n",
    "    print('*' * (4-i))\n",
    "   "
   ]
  },
  {
   "cell_type": "code",
   "execution_count": 51,
   "id": "de8afce2-cdf1-4fd0-9f9c-f72b3351dc12",
   "metadata": {},
   "outputs": [
    {
     "name": "stdout",
     "output_type": "stream",
     "text": [
      "number not found \n"
     ]
    }
   ],
   "source": [
    "nums=[14,51,44,12,10,20,4,50,2]\n",
    "for i in nums:\n",
    "    if(i%8==0):\n",
    "        print(i)\n",
    "        break\n",
    "else :\n",
    "        print (\"number not found \")"
   ]
  },
  {
   "cell_type": "code",
   "execution_count": 52,
   "id": "a90be3ba-e4eb-4e62-8c7d-1c4333abba0b",
   "metadata": {},
   "outputs": [
    {
     "ename": "SyntaxError",
     "evalue": "incomplete input (4069733103.py, line 3)",
     "output_type": "error",
     "traceback": [
      "\u001b[1;36m  Cell \u001b[1;32mIn[52], line 3\u001b[1;36m\u001b[0m\n\u001b[1;33m    for i in range (2,num/2):\u001b[0m\n\u001b[1;37m                             ^\u001b[0m\n\u001b[1;31mSyntaxError\u001b[0m\u001b[1;31m:\u001b[0m incomplete input\n"
     ]
    }
   ],
   "source": [
    "num=14\n",
    "\n",
    "for i in range (2,num/2):\n",
    "    if (num%i==0):\n",
    "        print(\"not a prime number \")\n",
    "        break    \n",
    "else :\n",
    "    print (\"prime her\")"
   ]
  },
  {
   "cell_type": "code",
   "execution_count": null,
   "id": "ecabb84a-1e81-460e-a8af-97f79bc83864",
   "metadata": {},
   "outputs": [],
   "source": []
  }
 ],
 "metadata": {
  "kernelspec": {
   "display_name": "Python [conda env:base] *",
   "language": "python",
   "name": "conda-base-py"
  },
  "language_info": {
   "codemirror_mode": {
    "name": "ipython",
    "version": 3
   },
   "file_extension": ".py",
   "mimetype": "text/x-python",
   "name": "python",
   "nbconvert_exporter": "python",
   "pygments_lexer": "ipython3",
   "version": "3.12.7"
  }
 },
 "nbformat": 4,
 "nbformat_minor": 5
}
