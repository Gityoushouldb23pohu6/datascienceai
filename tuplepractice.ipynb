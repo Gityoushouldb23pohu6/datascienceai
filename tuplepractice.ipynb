{
 "cells": [
  {
   "cell_type": "code",
   "execution_count": 1,
   "id": "7544a471-e81d-46ce-9952-1824730350b5",
   "metadata": {},
   "outputs": [],
   "source": [
    "tup1=()\n"
   ]
  },
  {
   "cell_type": "code",
   "execution_count": 2,
   "id": "7897af1c-fbc2-4dfe-aacb-4e2d9ec86c34",
   "metadata": {},
   "outputs": [
    {
     "data": {
      "text/plain": [
       "tuple"
      ]
     },
     "execution_count": 2,
     "metadata": {},
     "output_type": "execute_result"
    }
   ],
   "source": [
    "type(tup1)"
   ]
  },
  {
   "cell_type": "code",
   "execution_count": 4,
   "id": "aab69eab-f3b0-48d1-bb29-1cc939f447f0",
   "metadata": {},
   "outputs": [
    {
     "name": "stdout",
     "output_type": "stream",
     "text": [
      "(10, 30, 60)\n",
      "(10.77, 88.99, 100.99)\n"
     ]
    }
   ],
   "source": [
    "tup2=(10,30,60)\n",
    "tup3=(10.77,88.99,100.99)\n",
    "print(tup2)\n",
    "print(tup3)"
   ]
  },
  {
   "cell_type": "code",
   "execution_count": 5,
   "id": "a4e6603a-6111-41db-8563-49f7760f1c51",
   "metadata": {},
   "outputs": [],
   "source": [
    "tup4=('one','two','three')\n",
    "tup5=('ahug',88,(1,2,3),(7,8,9))\n",
    "tup6=(89.09,'usopp',90)"
   ]
  },
  {
   "cell_type": "code",
   "execution_count": 6,
   "id": "332b834f-ba67-4d5f-b5eb-8a730d2073b9",
   "metadata": {},
   "outputs": [
    {
     "name": "stdout",
     "output_type": "stream",
     "text": [
      "('one', 'two', 'three')\n",
      "('ahug', 88, (1, 2, 3), (7, 8, 9))\n",
      "(89.09, 'usopp', 90)\n"
     ]
    }
   ],
   "source": [
    "print(tup4)\n",
    "print(tup5)\n",
    "print(tup6)"
   ]
  },
  {
   "cell_type": "code",
   "execution_count": 7,
   "id": "2fa618b4-df3a-4ee1-b3b8-fb0675ee87a5",
   "metadata": {},
   "outputs": [
    {
     "data": {
      "text/plain": [
       "('Asif', 25, [50, 100], [150, 90], {'denver', 'john'}, (90, 80, 90))"
      ]
     },
     "execution_count": 7,
     "metadata": {},
     "output_type": "execute_result"
    }
   ],
   "source": [
    "tup7=('Asif',25,[50,100],[150,90],{'john','denver'},(90,80,90))\n",
    "tup7"
   ]
  },
  {
   "cell_type": "code",
   "execution_count": 12,
   "id": "ddcb8f3d-a535-464b-95ef-2c029bed99c2",
   "metadata": {},
   "outputs": [
    {
     "data": {
      "text/plain": [
       "6"
      ]
     },
     "execution_count": 12,
     "metadata": {},
     "output_type": "execute_result"
    }
   ],
   "source": [
    "len(tup7)\n",
    "\n"
   ]
  },
  {
   "cell_type": "code",
   "execution_count": 11,
   "id": "ef25ea44-2938-4ada-bc5c-21451eb14ce8",
   "metadata": {},
   "outputs": [
    {
     "data": {
      "text/plain": [
       "3"
      ]
     },
     "execution_count": 11,
     "metadata": {},
     "output_type": "execute_result"
    }
   ],
   "source": [
    "len(tup6)"
   ]
  },
  {
   "cell_type": "code",
   "execution_count": 13,
   "id": "d88a52c5-6298-46dc-88b1-b770c87db2ad",
   "metadata": {},
   "outputs": [
    {
     "data": {
      "text/plain": [
       "10"
      ]
     },
     "execution_count": 13,
     "metadata": {},
     "output_type": "execute_result"
    }
   ],
   "source": [
    "tup2[0]"
   ]
  },
  {
   "cell_type": "code",
   "execution_count": 14,
   "id": "38de2d84-2b69-47a8-90f7-d693ddb7db25",
   "metadata": {},
   "outputs": [
    {
     "data": {
      "text/plain": [
       "'one'"
      ]
     },
     "execution_count": 14,
     "metadata": {},
     "output_type": "execute_result"
    }
   ],
   "source": [
    "tup4[0]"
   ]
  },
  {
   "cell_type": "code",
   "execution_count": 15,
   "id": "43f18d54-c69b-4b2d-89f7-b40c35af9525",
   "metadata": {},
   "outputs": [
    {
     "data": {
      "text/plain": [
       "'o'"
      ]
     },
     "execution_count": 15,
     "metadata": {},
     "output_type": "execute_result"
    }
   ],
   "source": [
    "tup4[0][0]"
   ]
  },
  {
   "cell_type": "code",
   "execution_count": 16,
   "id": "7c3102df-06db-4e71-a60e-5da498d28211",
   "metadata": {},
   "outputs": [
    {
     "data": {
      "text/plain": [
       "'three'"
      ]
     },
     "execution_count": 16,
     "metadata": {},
     "output_type": "execute_result"
    }
   ],
   "source": [
    "tup4[-1]"
   ]
  },
  {
   "cell_type": "code",
   "execution_count": 17,
   "id": "04c50027-c05b-4e9d-a1af-598edacd2ed4",
   "metadata": {},
   "outputs": [
    {
     "data": {
      "text/plain": [
       "(7, 8, 9)"
      ]
     },
     "execution_count": 17,
     "metadata": {},
     "output_type": "execute_result"
    }
   ],
   "source": [
    "tup5[-1]"
   ]
  },
  {
   "cell_type": "code",
   "execution_count": 18,
   "id": "bc5ce99d-bfbf-4b59-9b5f-91f40c83cbdb",
   "metadata": {},
   "outputs": [
    {
     "data": {
      "text/plain": [
       "('one', 'two', 'three')"
      ]
     },
     "execution_count": 18,
     "metadata": {},
     "output_type": "execute_result"
    }
   ],
   "source": [
    "tup=('one','two','three','four','five','six','seven','eight')\n",
    "tup[0:3]"
   ]
  },
  {
   "cell_type": "code",
   "execution_count": 19,
   "id": "0a0cd570-f9d4-4e1a-973c-f69ade22263c",
   "metadata": {},
   "outputs": [
    {
     "data": {
      "text/plain": [
       "('three', 'four', 'five')"
      ]
     },
     "execution_count": 19,
     "metadata": {},
     "output_type": "execute_result"
    }
   ],
   "source": [
    "tup[2:5]"
   ]
  },
  {
   "cell_type": "code",
   "execution_count": 20,
   "id": "9ba3ae15-b02b-4aee-bcf7-ead131a1f5df",
   "metadata": {},
   "outputs": [
    {
     "data": {
      "text/plain": [
       "('one', 'two', 'three')"
      ]
     },
     "execution_count": 20,
     "metadata": {},
     "output_type": "execute_result"
    }
   ],
   "source": [
    "tup[:3]"
   ]
  },
  {
   "cell_type": "code",
   "execution_count": 21,
   "id": "eeaa8fa3-2676-4bd1-8138-45ad7c219bba",
   "metadata": {},
   "outputs": [
    {
     "data": {
      "text/plain": [
       "('one', 'two')"
      ]
     },
     "execution_count": 21,
     "metadata": {},
     "output_type": "execute_result"
    }
   ],
   "source": [
    "tup[:2]"
   ]
  },
  {
   "cell_type": "code",
   "execution_count": 22,
   "id": "88754916-ff2b-49e7-aa01-04163119ed68",
   "metadata": {},
   "outputs": [
    {
     "data": {
      "text/plain": [
       "('six', 'seven', 'eight')"
      ]
     },
     "execution_count": 22,
     "metadata": {},
     "output_type": "execute_result"
    }
   ],
   "source": [
    "tup[-3:]"
   ]
  },
  {
   "cell_type": "code",
   "execution_count": 23,
   "id": "ccabfd32-7b5a-4c60-8c5f-1bc95bfb1a3d",
   "metadata": {},
   "outputs": [
    {
     "data": {
      "text/plain": [
       "('eight',)"
      ]
     },
     "execution_count": 23,
     "metadata": {},
     "output_type": "execute_result"
    }
   ],
   "source": [
    "tup[-1:]"
   ]
  },
  {
   "cell_type": "code",
   "execution_count": 24,
   "id": "65e2bf99-f346-4dc8-b3b9-4ec543d26e45",
   "metadata": {},
   "outputs": [
    {
     "data": {
      "text/plain": [
       "('one', 'two', 'three', 'four', 'five', 'six', 'seven', 'eight')"
      ]
     },
     "execution_count": 24,
     "metadata": {},
     "output_type": "execute_result"
    }
   ],
   "source": [
    "tup[:]"
   ]
  },
  {
   "cell_type": "code",
   "execution_count": 25,
   "id": "da5aca05-d1a5-4cb1-a24b-f346338b15ca",
   "metadata": {},
   "outputs": [
    {
     "data": {
      "text/plain": [
       "('one', 'two', 'three', 'four', 'five', 'six', 'seven', 'eight')"
      ]
     },
     "execution_count": 25,
     "metadata": {},
     "output_type": "execute_result"
    }
   ],
   "source": [
    "tup"
   ]
  },
  {
   "cell_type": "code",
   "execution_count": 26,
   "id": "f2f0623c-6d8f-4fc7-95ce-6048573728ef",
   "metadata": {},
   "outputs": [
    {
     "ename": "TypeError",
     "evalue": "'tuple' object doesn't support item deletion",
     "output_type": "error",
     "traceback": [
      "\u001b[1;31m---------------------------------------------------------------------------\u001b[0m",
      "\u001b[1;31mTypeError\u001b[0m                                 Traceback (most recent call last)",
      "Cell \u001b[1;32mIn[26], line 1\u001b[0m\n\u001b[1;32m----> 1\u001b[0m \u001b[38;5;28;01mdel\u001b[39;00m tup[\u001b[38;5;241m0\u001b[39m]\n",
      "\u001b[1;31mTypeError\u001b[0m: 'tuple' object doesn't support item deletion"
     ]
    }
   ],
   "source": [
    "del tup[0]"
   ]
  },
  {
   "cell_type": "code",
   "execution_count": 27,
   "id": "f2523fd5-ebbd-4fd1-ac62-e4d402b94529",
   "metadata": {},
   "outputs": [],
   "source": [
    "del tup"
   ]
  },
  {
   "cell_type": "code",
   "execution_count": 29,
   "id": "228d4b8b-8b7b-434e-a4ef-46e5704ecf47",
   "metadata": {},
   "outputs": [],
   "source": [
    "tup=('one','two','three','four','five','six','seven','eight')"
   ]
  },
  {
   "cell_type": "code",
   "execution_count": 31,
   "id": "c5925ea7-ea85-4624-a1f1-15a7178aed40",
   "metadata": {},
   "outputs": [
    {
     "name": "stdout",
     "output_type": "stream",
     "text": [
      "one\n",
      "two\n",
      "three\n",
      "four\n",
      "five\n",
      "six\n",
      "seven\n",
      "eight\n"
     ]
    }
   ],
   "source": [
    "for i in tup:\n",
    "    print (i)\n",
    "    "
   ]
  },
  {
   "cell_type": "code",
   "execution_count": 32,
   "id": "df01df79-ff92-4324-a2d7-c5d862764f1b",
   "metadata": {},
   "outputs": [
    {
     "name": "stdout",
     "output_type": "stream",
     "text": [
      "(0, 'one')\n",
      "(1, 'two')\n",
      "(2, 'three')\n",
      "(3, 'four')\n",
      "(4, 'five')\n",
      "(5, 'six')\n",
      "(6, 'seven')\n",
      "(7, 'eight')\n"
     ]
    }
   ],
   "source": [
    "for i in enumerate(tup):\n",
    "    print(i)"
   ]
  },
  {
   "cell_type": "code",
   "execution_count": 33,
   "id": "7748c11c-9287-40c5-b29e-d65fa9a5c9f2",
   "metadata": {},
   "outputs": [
    {
     "data": {
      "text/plain": [
       "('one', 'two', 'three', 'four', 'five', 'six', 'seven', 'eight')"
      ]
     },
     "execution_count": 33,
     "metadata": {},
     "output_type": "execute_result"
    }
   ],
   "source": [
    "tup"
   ]
  },
  {
   "cell_type": "code",
   "execution_count": 34,
   "id": "5cd5a774-280a-4a31-8abd-df98b175c012",
   "metadata": {},
   "outputs": [
    {
     "data": {
      "text/plain": [
       "True"
      ]
     },
     "execution_count": 34,
     "metadata": {},
     "output_type": "execute_result"
    }
   ],
   "source": [
    "'one' in tup"
   ]
  },
  {
   "cell_type": "code",
   "execution_count": 35,
   "id": "15a317a9-8ef6-4861-80fa-e20ccbd5629a",
   "metadata": {},
   "outputs": [
    {
     "data": {
      "text/plain": [
       "False"
      ]
     },
     "execution_count": 35,
     "metadata": {},
     "output_type": "execute_result"
    }
   ],
   "source": [
    "'ten' in tup"
   ]
  },
  {
   "cell_type": "code",
   "execution_count": 36,
   "id": "63448195-5c28-47e2-b2ee-30f6322f5732",
   "metadata": {},
   "outputs": [
    {
     "name": "stdout",
     "output_type": "stream",
     "text": [
      "three is present\n"
     ]
    }
   ],
   "source": [
    "if 'three' in tup:\n",
    "    print('three is present')\n",
    "else:\n",
    "    print('three not present.')"
   ]
  },
  {
   "cell_type": "code",
   "execution_count": 37,
   "id": "200813cd-0b14-4958-82f4-00834e97d5cd",
   "metadata": {},
   "outputs": [
    {
     "name": "stdout",
     "output_type": "stream",
     "text": [
      "eleven not present.\n"
     ]
    }
   ],
   "source": [
    "if 'eleven' in tup:\n",
    "    print('eleven is present')\n",
    "else:\n",
    "    print('eleven not present.')"
   ]
  },
  {
   "cell_type": "code",
   "execution_count": 38,
   "id": "72ab5f06-05e4-4b76-b445-8172b02c72d0",
   "metadata": {},
   "outputs": [
    {
     "data": {
      "text/plain": [
       "0"
      ]
     },
     "execution_count": 38,
     "metadata": {},
     "output_type": "execute_result"
    }
   ],
   "source": [
    "tup.index('one')"
   ]
  },
  {
   "cell_type": "code",
   "execution_count": 39,
   "id": "16cc525e-c8d5-4087-af95-4bc657a819f6",
   "metadata": {},
   "outputs": [
    {
     "data": {
      "text/plain": [
       "4"
      ]
     },
     "execution_count": 39,
     "metadata": {},
     "output_type": "execute_result"
    }
   ],
   "source": [
    "tup.index('five')"
   ]
  },
  {
   "cell_type": "code",
   "execution_count": 40,
   "id": "9ac57211-0a1d-414e-a866-8ea35e78f399",
   "metadata": {},
   "outputs": [],
   "source": [
    "tup1=('one','two','one','three','yon')\n"
   ]
  },
  {
   "cell_type": "code",
   "execution_count": 41,
   "id": "8b4f03d3-c53e-4faf-80b5-e3b5fb764000",
   "metadata": {},
   "outputs": [
    {
     "data": {
      "text/plain": [
       "0"
      ]
     },
     "execution_count": 41,
     "metadata": {},
     "output_type": "execute_result"
    }
   ],
   "source": [
    "tup1.index('one'\n",
    "          )"
   ]
  },
  {
   "cell_type": "code",
   "execution_count": 42,
   "id": "b68ec177-a5fe-44bd-b501-08edbda17675",
   "metadata": {},
   "outputs": [],
   "source": [
    "tup2=(34,12,89,90,24,78)\n",
    "\n"
   ]
  },
  {
   "cell_type": "code",
   "execution_count": null,
   "id": "6059915e-ea6b-4323-9835-f3b8077f0f62",
   "metadata": {},
   "outputs": [],
   "source": [
    "sorted()"
   ]
  }
 ],
 "metadata": {
  "kernelspec": {
   "display_name": "Python [conda env:base] *",
   "language": "python",
   "name": "conda-base-py"
  },
  "language_info": {
   "codemirror_mode": {
    "name": "ipython",
    "version": 3
   },
   "file_extension": ".py",
   "mimetype": "text/x-python",
   "name": "python",
   "nbconvert_exporter": "python",
   "pygments_lexer": "ipython3",
   "version": "3.12.7"
  }
 },
 "nbformat": 4,
 "nbformat_minor": 5
}
